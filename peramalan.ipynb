{
 "cells": [
  {
   "cell_type": "code",
   "execution_count": 1,
   "id": "635fbcb4",
   "metadata": {},
   "outputs": [],
   "source": [
    "import joblib\n",
    "import os\n",
    "import numpy as np\n",
    "import pandas as pd\n",
    "import datetime\n",
    "import Funtions as fn\n",
    "from sklearn.linear_model import LinearRegression"
   ]
  },
  {
   "cell_type": "code",
   "execution_count": 2,
   "id": "c4e85621",
   "metadata": {},
   "outputs": [],
   "source": [
    "loaded_data = joblib.load('data/modal_biaya_harian.pkl')"
   ]
  },
  {
   "cell_type": "code",
   "execution_count": 3,
   "id": "52e88cd2",
   "metadata": {},
   "outputs": [
    {
     "data": {
      "text/html": [
       "<div>\n",
       "<style scoped>\n",
       "    .dataframe tbody tr th:only-of-type {\n",
       "        vertical-align: middle;\n",
       "    }\n",
       "\n",
       "    .dataframe tbody tr th {\n",
       "        vertical-align: top;\n",
       "    }\n",
       "\n",
       "    .dataframe thead th {\n",
       "        text-align: right;\n",
       "    }\n",
       "</style>\n",
       "<table border=\"1\" class=\"dataframe\">\n",
       "  <thead>\n",
       "    <tr style=\"text-align: right;\">\n",
       "      <th></th>\n",
       "      <th>tgl_transaksi</th>\n",
       "      <th>total_modal_biaya</th>\n",
       "    </tr>\n",
       "  </thead>\n",
       "  <tbody>\n",
       "    <tr>\n",
       "      <th>0</th>\n",
       "      <td>2008-01-01</td>\n",
       "      <td>162955350</td>\n",
       "    </tr>\n",
       "    <tr>\n",
       "      <th>1</th>\n",
       "      <td>2008-01-02</td>\n",
       "      <td>173626100</td>\n",
       "    </tr>\n",
       "    <tr>\n",
       "      <th>2</th>\n",
       "      <td>2008-01-03</td>\n",
       "      <td>156584600</td>\n",
       "    </tr>\n",
       "    <tr>\n",
       "      <th>3</th>\n",
       "      <td>2008-01-04</td>\n",
       "      <td>175112000</td>\n",
       "    </tr>\n",
       "    <tr>\n",
       "      <th>4</th>\n",
       "      <td>2008-01-05</td>\n",
       "      <td>171359210</td>\n",
       "    </tr>\n",
       "    <tr>\n",
       "      <th>...</th>\n",
       "      <td>...</td>\n",
       "      <td>...</td>\n",
       "    </tr>\n",
       "    <tr>\n",
       "      <th>360</th>\n",
       "      <td>2008-12-26</td>\n",
       "      <td>173844260</td>\n",
       "    </tr>\n",
       "    <tr>\n",
       "      <th>361</th>\n",
       "      <td>2008-12-27</td>\n",
       "      <td>176955700</td>\n",
       "    </tr>\n",
       "    <tr>\n",
       "      <th>362</th>\n",
       "      <td>2008-12-28</td>\n",
       "      <td>179438340</td>\n",
       "    </tr>\n",
       "    <tr>\n",
       "      <th>363</th>\n",
       "      <td>2008-12-29</td>\n",
       "      <td>185363820</td>\n",
       "    </tr>\n",
       "    <tr>\n",
       "      <th>364</th>\n",
       "      <td>2008-12-30</td>\n",
       "      <td>192373040</td>\n",
       "    </tr>\n",
       "  </tbody>\n",
       "</table>\n",
       "<p>365 rows × 2 columns</p>\n",
       "</div>"
      ],
      "text/plain": [
       "    tgl_transaksi  total_modal_biaya\n",
       "0      2008-01-01          162955350\n",
       "1      2008-01-02          173626100\n",
       "2      2008-01-03          156584600\n",
       "3      2008-01-04          175112000\n",
       "4      2008-01-05          171359210\n",
       "..            ...                ...\n",
       "360    2008-12-26          173844260\n",
       "361    2008-12-27          176955700\n",
       "362    2008-12-28          179438340\n",
       "363    2008-12-29          185363820\n",
       "364    2008-12-30          192373040\n",
       "\n",
       "[365 rows x 2 columns]"
      ]
     },
     "execution_count": 3,
     "metadata": {},
     "output_type": "execute_result"
    }
   ],
   "source": [
    "loaded_data"
   ]
  },
  {
   "cell_type": "code",
   "execution_count": 4,
   "id": "4e7a1ea6",
   "metadata": {},
   "outputs": [],
   "source": [
    "PREDICTION_DAYS = 7\n",
    "SEQUENCE_LENGTH = 30"
   ]
  },
  {
   "cell_type": "code",
   "execution_count": 5,
   "id": "2b5c5f7d",
   "metadata": {},
   "outputs": [],
   "source": [
    "scaler, data_scaled, X_train, y_train, X_val, y_val, train_dates, val_dates = fn.prepare_data(loaded_data, SEQUENCE_LENGTH)"
   ]
  },
  {
   "cell_type": "code",
   "execution_count": 6,
   "id": "29267c16",
   "metadata": {},
   "outputs": [
    {
     "data": {
      "text/plain": [
       "['data/scaler.pkl']"
      ]
     },
     "execution_count": 6,
     "metadata": {},
     "output_type": "execute_result"
    }
   ],
   "source": [
    "joblib.dump(scaler, 'data/scaler.pkl')"
   ]
  },
  {
   "cell_type": "code",
   "execution_count": 7,
   "id": "5e59acb5",
   "metadata": {},
   "outputs": [],
   "source": [
    "dl_models = fn.create_ensemble_models((X_train.shape[1], 1))"
   ]
  },
  {
   "cell_type": "code",
   "execution_count": 8,
   "id": "0c2f8e6a",
   "metadata": {},
   "outputs": [
    {
     "name": "stdout",
     "output_type": "stream",
     "text": [
      "Training model 1/3: lstm_model\n",
      "Epoch 1/150\n",
      "\u001b[1m9/9\u001b[0m \u001b[32m━━━━━━━━━━━━━━━━━━━━\u001b[0m\u001b[37m\u001b[0m \u001b[1m7s\u001b[0m 101ms/step - loss: 0.1976 - val_loss: 0.0792\n",
      "Epoch 2/150\n",
      "\u001b[1m9/9\u001b[0m \u001b[32m━━━━━━━━━━━━━━━━━━━━\u001b[0m\u001b[37m\u001b[0m \u001b[1m0s\u001b[0m 23ms/step - loss: 0.0491 - val_loss: 0.0341\n",
      "Epoch 3/150\n",
      "\u001b[1m9/9\u001b[0m \u001b[32m━━━━━━━━━━━━━━━━━━━━\u001b[0m\u001b[37m\u001b[0m \u001b[1m0s\u001b[0m 22ms/step - loss: 0.0414 - val_loss: 0.0292\n",
      "Epoch 4/150\n",
      "\u001b[1m9/9\u001b[0m \u001b[32m━━━━━━━━━━━━━━━━━━━━\u001b[0m\u001b[37m\u001b[0m \u001b[1m0s\u001b[0m 23ms/step - loss: 0.0270 - val_loss: 0.0349\n",
      "Epoch 5/150\n",
      "\u001b[1m9/9\u001b[0m \u001b[32m━━━━━━━━━━━━━━━━━━━━\u001b[0m\u001b[37m\u001b[0m \u001b[1m0s\u001b[0m 21ms/step - loss: 0.0325 - val_loss: 0.0297\n",
      "Epoch 6/150\n",
      "\u001b[1m9/9\u001b[0m \u001b[32m━━━━━━━━━━━━━━━━━━━━\u001b[0m\u001b[37m\u001b[0m \u001b[1m0s\u001b[0m 21ms/step - loss: 0.0280 - val_loss: 0.0282\n",
      "Epoch 7/150\n",
      "\u001b[1m9/9\u001b[0m \u001b[32m━━━━━━━━━━━━━━━━━━━━\u001b[0m\u001b[37m\u001b[0m \u001b[1m0s\u001b[0m 21ms/step - loss: 0.0297 - val_loss: 0.0307\n",
      "Epoch 8/150\n",
      "\u001b[1m9/9\u001b[0m \u001b[32m━━━━━━━━━━━━━━━━━━━━\u001b[0m\u001b[37m\u001b[0m \u001b[1m0s\u001b[0m 22ms/step - loss: 0.0320 - val_loss: 0.0310\n",
      "Epoch 9/150\n",
      "\u001b[1m9/9\u001b[0m \u001b[32m━━━━━━━━━━━━━━━━━━━━\u001b[0m\u001b[37m\u001b[0m \u001b[1m0s\u001b[0m 22ms/step - loss: 0.0285 - val_loss: 0.0293\n",
      "Epoch 10/150\n",
      "\u001b[1m9/9\u001b[0m \u001b[32m━━━━━━━━━━━━━━━━━━━━\u001b[0m\u001b[37m\u001b[0m \u001b[1m0s\u001b[0m 21ms/step - loss: 0.0320 - val_loss: 0.0291\n",
      "Epoch 11/150\n",
      "\u001b[1m9/9\u001b[0m \u001b[32m━━━━━━━━━━━━━━━━━━━━\u001b[0m\u001b[37m\u001b[0m \u001b[1m0s\u001b[0m 25ms/step - loss: 0.0290 - val_loss: 0.0285\n",
      "Epoch 12/150\n",
      "\u001b[1m9/9\u001b[0m \u001b[32m━━━━━━━━━━━━━━━━━━━━\u001b[0m\u001b[37m\u001b[0m \u001b[1m0s\u001b[0m 27ms/step - loss: 0.0283 - val_loss: 0.0301\n",
      "Epoch 13/150\n",
      "\u001b[1m9/9\u001b[0m \u001b[32m━━━━━━━━━━━━━━━━━━━━\u001b[0m\u001b[37m\u001b[0m \u001b[1m0s\u001b[0m 22ms/step - loss: 0.0285 - val_loss: 0.0311\n",
      "Epoch 14/150\n",
      "\u001b[1m9/9\u001b[0m \u001b[32m━━━━━━━━━━━━━━━━━━━━\u001b[0m\u001b[37m\u001b[0m \u001b[1m0s\u001b[0m 23ms/step - loss: 0.0270 - val_loss: 0.0282\n",
      "Epoch 15/150\n",
      "\u001b[1m9/9\u001b[0m \u001b[32m━━━━━━━━━━━━━━━━━━━━\u001b[0m\u001b[37m\u001b[0m \u001b[1m0s\u001b[0m 21ms/step - loss: 0.0259 - val_loss: 0.0307\n",
      "Epoch 16/150\n",
      "\u001b[1m9/9\u001b[0m \u001b[32m━━━━━━━━━━━━━━━━━━━━\u001b[0m\u001b[37m\u001b[0m \u001b[1m0s\u001b[0m 22ms/step - loss: 0.0291 - val_loss: 0.0292\n",
      "Training model 2/3: gru_model\n",
      "Epoch 1/150\n",
      "\u001b[1m9/9\u001b[0m \u001b[32m━━━━━━━━━━━━━━━━━━━━\u001b[0m\u001b[37m\u001b[0m \u001b[1m6s\u001b[0m 105ms/step - loss: 0.1742 - val_loss: 0.0715\n",
      "Epoch 2/150\n",
      "\u001b[1m9/9\u001b[0m \u001b[32m━━━━━━━━━━━━━━━━━━━━\u001b[0m\u001b[37m\u001b[0m \u001b[1m0s\u001b[0m 27ms/step - loss: 0.0421 - val_loss: 0.0319\n",
      "Epoch 3/150\n",
      "\u001b[1m9/9\u001b[0m \u001b[32m━━━━━━━━━━━━━━━━━━━━\u001b[0m\u001b[37m\u001b[0m \u001b[1m0s\u001b[0m 24ms/step - loss: 0.0378 - val_loss: 0.0284\n",
      "Epoch 4/150\n",
      "\u001b[1m9/9\u001b[0m \u001b[32m━━━━━━━━━━━━━━━━━━━━\u001b[0m\u001b[37m\u001b[0m \u001b[1m0s\u001b[0m 24ms/step - loss: 0.0317 - val_loss: 0.0363\n",
      "Epoch 5/150\n",
      "\u001b[1m9/9\u001b[0m \u001b[32m━━━━━━━━━━━━━━━━━━━━\u001b[0m\u001b[37m\u001b[0m \u001b[1m0s\u001b[0m 25ms/step - loss: 0.0305 - val_loss: 0.0329\n",
      "Epoch 6/150\n",
      "\u001b[1m9/9\u001b[0m \u001b[32m━━━━━━━━━━━━━━━━━━━━\u001b[0m\u001b[37m\u001b[0m \u001b[1m0s\u001b[0m 25ms/step - loss: 0.0301 - val_loss: 0.0288\n",
      "Epoch 7/150\n",
      "\u001b[1m9/9\u001b[0m \u001b[32m━━━━━━━━━━━━━━━━━━━━\u001b[0m\u001b[37m\u001b[0m \u001b[1m0s\u001b[0m 23ms/step - loss: 0.0288 - val_loss: 0.0288\n",
      "Epoch 8/150\n",
      "\u001b[1m9/9\u001b[0m \u001b[32m━━━━━━━━━━━━━━━━━━━━\u001b[0m\u001b[37m\u001b[0m \u001b[1m0s\u001b[0m 23ms/step - loss: 0.0284 - val_loss: 0.0308\n",
      "Epoch 9/150\n",
      "\u001b[1m9/9\u001b[0m \u001b[32m━━━━━━━━━━━━━━━━━━━━\u001b[0m\u001b[37m\u001b[0m \u001b[1m0s\u001b[0m 24ms/step - loss: 0.0288 - val_loss: 0.0312\n",
      "Epoch 10/150\n",
      "\u001b[1m9/9\u001b[0m \u001b[32m━━━━━━━━━━━━━━━━━━━━\u001b[0m\u001b[37m\u001b[0m \u001b[1m0s\u001b[0m 24ms/step - loss: 0.0290 - val_loss: 0.0292\n",
      "Training model 3/3: bilstm_model\n",
      "Epoch 1/150\n",
      "\u001b[1m9/9\u001b[0m \u001b[32m━━━━━━━━━━━━━━━━━━━━\u001b[0m\u001b[37m\u001b[0m \u001b[1m9s\u001b[0m 140ms/step - loss: 0.2651 - val_loss: 0.1623\n",
      "Epoch 2/150\n",
      "\u001b[1m9/9\u001b[0m \u001b[32m━━━━━━━━━━━━━━━━━━━━\u001b[0m\u001b[37m\u001b[0m \u001b[1m0s\u001b[0m 27ms/step - loss: 0.0854 - val_loss: 0.0321\n",
      "Epoch 3/150\n",
      "\u001b[1m9/9\u001b[0m \u001b[32m━━━━━━━━━━━━━━━━━━━━\u001b[0m\u001b[37m\u001b[0m \u001b[1m0s\u001b[0m 31ms/step - loss: 0.0407 - val_loss: 0.0280\n",
      "Epoch 4/150\n",
      "\u001b[1m9/9\u001b[0m \u001b[32m━━━━━━━━━━━━━━━━━━━━\u001b[0m\u001b[37m\u001b[0m \u001b[1m0s\u001b[0m 27ms/step - loss: 0.0293 - val_loss: 0.0350\n",
      "Epoch 5/150\n",
      "\u001b[1m9/9\u001b[0m \u001b[32m━━━━━━━━━━━━━━━━━━━━\u001b[0m\u001b[37m\u001b[0m \u001b[1m0s\u001b[0m 27ms/step - loss: 0.0265 - val_loss: 0.0280\n",
      "Epoch 6/150\n",
      "\u001b[1m9/9\u001b[0m \u001b[32m━━━━━━━━━━━━━━━━━━━━\u001b[0m\u001b[37m\u001b[0m \u001b[1m0s\u001b[0m 27ms/step - loss: 0.0282 - val_loss: 0.0283\n",
      "Epoch 7/150\n",
      "\u001b[1m9/9\u001b[0m \u001b[32m━━━━━━━━━━━━━━━━━━━━\u001b[0m\u001b[37m\u001b[0m \u001b[1m0s\u001b[0m 28ms/step - loss: 0.0252 - val_loss: 0.0301\n",
      "Epoch 8/150\n",
      "\u001b[1m9/9\u001b[0m \u001b[32m━━━━━━━━━━━━━━━━━━━━\u001b[0m\u001b[37m\u001b[0m \u001b[1m0s\u001b[0m 28ms/step - loss: 0.0253 - val_loss: 0.0290\n",
      "Epoch 9/150\n",
      "\u001b[1m9/9\u001b[0m \u001b[32m━━━━━━━━━━━━━━━━━━━━\u001b[0m\u001b[37m\u001b[0m \u001b[1m0s\u001b[0m 32ms/step - loss: 0.0292 - val_loss: 0.0287\n",
      "Epoch 10/150\n",
      "\u001b[1m9/9\u001b[0m \u001b[32m━━━━━━━━━━━━━━━━━━━━\u001b[0m\u001b[37m\u001b[0m \u001b[1m0s\u001b[0m 29ms/step - loss: 0.0261 - val_loss: 0.0289\n",
      "Epoch 11/150\n",
      "\u001b[1m9/9\u001b[0m \u001b[32m━━━━━━━━━━━━━━━━━━━━\u001b[0m\u001b[37m\u001b[0m \u001b[1m0s\u001b[0m 30ms/step - loss: 0.0276 - val_loss: 0.0281\n",
      "Epoch 12/150\n",
      "\u001b[1m9/9\u001b[0m \u001b[32m━━━━━━━━━━━━━━━━━━━━\u001b[0m\u001b[37m\u001b[0m \u001b[1m0s\u001b[0m 26ms/step - loss: 0.0288 - val_loss: 0.0304\n",
      "Epoch 13/150\n",
      "\u001b[1m9/9\u001b[0m \u001b[32m━━━━━━━━━━━━━━━━━━━━\u001b[0m\u001b[37m\u001b[0m \u001b[1m0s\u001b[0m 32ms/step - loss: 0.0241 - val_loss: 0.0288\n"
     ]
    }
   ],
   "source": [
    "trained_dl_models, histories = fn.train_ensemble_models(dl_models, X_train, y_train, X_val, y_val, 150)"
   ]
  },
  {
   "cell_type": "code",
   "execution_count": 9,
   "id": "f9393281",
   "metadata": {},
   "outputs": [
    {
     "name": "stdout",
     "output_type": "stream",
     "text": [
      "\u001b[1m9/9\u001b[0m \u001b[32m━━━━━━━━━━━━━━━━━━━━\u001b[0m\u001b[37m\u001b[0m \u001b[1m1s\u001b[0m 52ms/step\n",
      "\u001b[1m9/9\u001b[0m \u001b[32m━━━━━━━━━━━━━━━━━━━━\u001b[0m\u001b[37m\u001b[0m \u001b[1m1s\u001b[0m 72ms/step\n",
      "\u001b[1m9/9\u001b[0m \u001b[32m━━━━━━━━━━━━━━━━━━━━\u001b[0m\u001b[37m\u001b[0m \u001b[1m2s\u001b[0m 105ms/step\n",
      "\u001b[1m3/3\u001b[0m \u001b[32m━━━━━━━━━━━━━━━━━━━━\u001b[0m\u001b[37m\u001b[0m \u001b[1m0s\u001b[0m 7ms/step \n",
      "\u001b[1m3/3\u001b[0m \u001b[32m━━━━━━━━━━━━━━━━━━━━\u001b[0m\u001b[37m\u001b[0m \u001b[1m0s\u001b[0m 7ms/step \n",
      "\u001b[1m3/3\u001b[0m \u001b[32m━━━━━━━━━━━━━━━━━━━━\u001b[0m\u001b[37m\u001b[0m \u001b[1m0s\u001b[0m 8ms/step \n"
     ]
    }
   ],
   "source": [
    "individual_predictions_train, individual_predictions_val = fn.individual_predictions(trained_dl_models, X_train, X_val)"
   ]
  },
  {
   "cell_type": "code",
   "execution_count": 10,
   "id": "a2bbf22a",
   "metadata": {},
   "outputs": [],
   "source": [
    "train_preds = list(individual_predictions_train.values())\n",
    "val_preds = list(individual_predictions_val.values())\n",
    "\n",
    "X_stack_train = np.stack(train_preds, axis=1)\n",
    "X_stack_val = np.stack(val_preds, axis=1)"
   ]
  },
  {
   "cell_type": "code",
   "execution_count": 11,
   "id": "e183af0f",
   "metadata": {},
   "outputs": [
    {
     "data": {
      "text/html": [
       "<style>#sk-container-id-1 {\n",
       "  /* Definition of color scheme common for light and dark mode */\n",
       "  --sklearn-color-text: black;\n",
       "  --sklearn-color-line: gray;\n",
       "  /* Definition of color scheme for unfitted estimators */\n",
       "  --sklearn-color-unfitted-level-0: #fff5e6;\n",
       "  --sklearn-color-unfitted-level-1: #f6e4d2;\n",
       "  --sklearn-color-unfitted-level-2: #ffe0b3;\n",
       "  --sklearn-color-unfitted-level-3: chocolate;\n",
       "  /* Definition of color scheme for fitted estimators */\n",
       "  --sklearn-color-fitted-level-0: #f0f8ff;\n",
       "  --sklearn-color-fitted-level-1: #d4ebff;\n",
       "  --sklearn-color-fitted-level-2: #b3dbfd;\n",
       "  --sklearn-color-fitted-level-3: cornflowerblue;\n",
       "\n",
       "  /* Specific color for light theme */\n",
       "  --sklearn-color-text-on-default-background: var(--sg-text-color, var(--theme-code-foreground, var(--jp-content-font-color1, black)));\n",
       "  --sklearn-color-background: var(--sg-background-color, var(--theme-background, var(--jp-layout-color0, white)));\n",
       "  --sklearn-color-border-box: var(--sg-text-color, var(--theme-code-foreground, var(--jp-content-font-color1, black)));\n",
       "  --sklearn-color-icon: #696969;\n",
       "\n",
       "  @media (prefers-color-scheme: dark) {\n",
       "    /* Redefinition of color scheme for dark theme */\n",
       "    --sklearn-color-text-on-default-background: var(--sg-text-color, var(--theme-code-foreground, var(--jp-content-font-color1, white)));\n",
       "    --sklearn-color-background: var(--sg-background-color, var(--theme-background, var(--jp-layout-color0, #111)));\n",
       "    --sklearn-color-border-box: var(--sg-text-color, var(--theme-code-foreground, var(--jp-content-font-color1, white)));\n",
       "    --sklearn-color-icon: #878787;\n",
       "  }\n",
       "}\n",
       "\n",
       "#sk-container-id-1 {\n",
       "  color: var(--sklearn-color-text);\n",
       "}\n",
       "\n",
       "#sk-container-id-1 pre {\n",
       "  padding: 0;\n",
       "}\n",
       "\n",
       "#sk-container-id-1 input.sk-hidden--visually {\n",
       "  border: 0;\n",
       "  clip: rect(1px 1px 1px 1px);\n",
       "  clip: rect(1px, 1px, 1px, 1px);\n",
       "  height: 1px;\n",
       "  margin: -1px;\n",
       "  overflow: hidden;\n",
       "  padding: 0;\n",
       "  position: absolute;\n",
       "  width: 1px;\n",
       "}\n",
       "\n",
       "#sk-container-id-1 div.sk-dashed-wrapped {\n",
       "  border: 1px dashed var(--sklearn-color-line);\n",
       "  margin: 0 0.4em 0.5em 0.4em;\n",
       "  box-sizing: border-box;\n",
       "  padding-bottom: 0.4em;\n",
       "  background-color: var(--sklearn-color-background);\n",
       "}\n",
       "\n",
       "#sk-container-id-1 div.sk-container {\n",
       "  /* jupyter's `normalize.less` sets `[hidden] { display: none; }`\n",
       "     but bootstrap.min.css set `[hidden] { display: none !important; }`\n",
       "     so we also need the `!important` here to be able to override the\n",
       "     default hidden behavior on the sphinx rendered scikit-learn.org.\n",
       "     See: https://github.com/scikit-learn/scikit-learn/issues/21755 */\n",
       "  display: inline-block !important;\n",
       "  position: relative;\n",
       "}\n",
       "\n",
       "#sk-container-id-1 div.sk-text-repr-fallback {\n",
       "  display: none;\n",
       "}\n",
       "\n",
       "div.sk-parallel-item,\n",
       "div.sk-serial,\n",
       "div.sk-item {\n",
       "  /* draw centered vertical line to link estimators */\n",
       "  background-image: linear-gradient(var(--sklearn-color-text-on-default-background), var(--sklearn-color-text-on-default-background));\n",
       "  background-size: 2px 100%;\n",
       "  background-repeat: no-repeat;\n",
       "  background-position: center center;\n",
       "}\n",
       "\n",
       "/* Parallel-specific style estimator block */\n",
       "\n",
       "#sk-container-id-1 div.sk-parallel-item::after {\n",
       "  content: \"\";\n",
       "  width: 100%;\n",
       "  border-bottom: 2px solid var(--sklearn-color-text-on-default-background);\n",
       "  flex-grow: 1;\n",
       "}\n",
       "\n",
       "#sk-container-id-1 div.sk-parallel {\n",
       "  display: flex;\n",
       "  align-items: stretch;\n",
       "  justify-content: center;\n",
       "  background-color: var(--sklearn-color-background);\n",
       "  position: relative;\n",
       "}\n",
       "\n",
       "#sk-container-id-1 div.sk-parallel-item {\n",
       "  display: flex;\n",
       "  flex-direction: column;\n",
       "}\n",
       "\n",
       "#sk-container-id-1 div.sk-parallel-item:first-child::after {\n",
       "  align-self: flex-end;\n",
       "  width: 50%;\n",
       "}\n",
       "\n",
       "#sk-container-id-1 div.sk-parallel-item:last-child::after {\n",
       "  align-self: flex-start;\n",
       "  width: 50%;\n",
       "}\n",
       "\n",
       "#sk-container-id-1 div.sk-parallel-item:only-child::after {\n",
       "  width: 0;\n",
       "}\n",
       "\n",
       "/* Serial-specific style estimator block */\n",
       "\n",
       "#sk-container-id-1 div.sk-serial {\n",
       "  display: flex;\n",
       "  flex-direction: column;\n",
       "  align-items: center;\n",
       "  background-color: var(--sklearn-color-background);\n",
       "  padding-right: 1em;\n",
       "  padding-left: 1em;\n",
       "}\n",
       "\n",
       "\n",
       "/* Toggleable style: style used for estimator/Pipeline/ColumnTransformer box that is\n",
       "clickable and can be expanded/collapsed.\n",
       "- Pipeline and ColumnTransformer use this feature and define the default style\n",
       "- Estimators will overwrite some part of the style using the `sk-estimator` class\n",
       "*/\n",
       "\n",
       "/* Pipeline and ColumnTransformer style (default) */\n",
       "\n",
       "#sk-container-id-1 div.sk-toggleable {\n",
       "  /* Default theme specific background. It is overwritten whether we have a\n",
       "  specific estimator or a Pipeline/ColumnTransformer */\n",
       "  background-color: var(--sklearn-color-background);\n",
       "}\n",
       "\n",
       "/* Toggleable label */\n",
       "#sk-container-id-1 label.sk-toggleable__label {\n",
       "  cursor: pointer;\n",
       "  display: block;\n",
       "  width: 100%;\n",
       "  margin-bottom: 0;\n",
       "  padding: 0.5em;\n",
       "  box-sizing: border-box;\n",
       "  text-align: center;\n",
       "}\n",
       "\n",
       "#sk-container-id-1 label.sk-toggleable__label-arrow:before {\n",
       "  /* Arrow on the left of the label */\n",
       "  content: \"▸\";\n",
       "  float: left;\n",
       "  margin-right: 0.25em;\n",
       "  color: var(--sklearn-color-icon);\n",
       "}\n",
       "\n",
       "#sk-container-id-1 label.sk-toggleable__label-arrow:hover:before {\n",
       "  color: var(--sklearn-color-text);\n",
       "}\n",
       "\n",
       "/* Toggleable content - dropdown */\n",
       "\n",
       "#sk-container-id-1 div.sk-toggleable__content {\n",
       "  max-height: 0;\n",
       "  max-width: 0;\n",
       "  overflow: hidden;\n",
       "  text-align: left;\n",
       "  /* unfitted */\n",
       "  background-color: var(--sklearn-color-unfitted-level-0);\n",
       "}\n",
       "\n",
       "#sk-container-id-1 div.sk-toggleable__content.fitted {\n",
       "  /* fitted */\n",
       "  background-color: var(--sklearn-color-fitted-level-0);\n",
       "}\n",
       "\n",
       "#sk-container-id-1 div.sk-toggleable__content pre {\n",
       "  margin: 0.2em;\n",
       "  border-radius: 0.25em;\n",
       "  color: var(--sklearn-color-text);\n",
       "  /* unfitted */\n",
       "  background-color: var(--sklearn-color-unfitted-level-0);\n",
       "}\n",
       "\n",
       "#sk-container-id-1 div.sk-toggleable__content.fitted pre {\n",
       "  /* unfitted */\n",
       "  background-color: var(--sklearn-color-fitted-level-0);\n",
       "}\n",
       "\n",
       "#sk-container-id-1 input.sk-toggleable__control:checked~div.sk-toggleable__content {\n",
       "  /* Expand drop-down */\n",
       "  max-height: 200px;\n",
       "  max-width: 100%;\n",
       "  overflow: auto;\n",
       "}\n",
       "\n",
       "#sk-container-id-1 input.sk-toggleable__control:checked~label.sk-toggleable__label-arrow:before {\n",
       "  content: \"▾\";\n",
       "}\n",
       "\n",
       "/* Pipeline/ColumnTransformer-specific style */\n",
       "\n",
       "#sk-container-id-1 div.sk-label input.sk-toggleable__control:checked~label.sk-toggleable__label {\n",
       "  color: var(--sklearn-color-text);\n",
       "  background-color: var(--sklearn-color-unfitted-level-2);\n",
       "}\n",
       "\n",
       "#sk-container-id-1 div.sk-label.fitted input.sk-toggleable__control:checked~label.sk-toggleable__label {\n",
       "  background-color: var(--sklearn-color-fitted-level-2);\n",
       "}\n",
       "\n",
       "/* Estimator-specific style */\n",
       "\n",
       "/* Colorize estimator box */\n",
       "#sk-container-id-1 div.sk-estimator input.sk-toggleable__control:checked~label.sk-toggleable__label {\n",
       "  /* unfitted */\n",
       "  background-color: var(--sklearn-color-unfitted-level-2);\n",
       "}\n",
       "\n",
       "#sk-container-id-1 div.sk-estimator.fitted input.sk-toggleable__control:checked~label.sk-toggleable__label {\n",
       "  /* fitted */\n",
       "  background-color: var(--sklearn-color-fitted-level-2);\n",
       "}\n",
       "\n",
       "#sk-container-id-1 div.sk-label label.sk-toggleable__label,\n",
       "#sk-container-id-1 div.sk-label label {\n",
       "  /* The background is the default theme color */\n",
       "  color: var(--sklearn-color-text-on-default-background);\n",
       "}\n",
       "\n",
       "/* On hover, darken the color of the background */\n",
       "#sk-container-id-1 div.sk-label:hover label.sk-toggleable__label {\n",
       "  color: var(--sklearn-color-text);\n",
       "  background-color: var(--sklearn-color-unfitted-level-2);\n",
       "}\n",
       "\n",
       "/* Label box, darken color on hover, fitted */\n",
       "#sk-container-id-1 div.sk-label.fitted:hover label.sk-toggleable__label.fitted {\n",
       "  color: var(--sklearn-color-text);\n",
       "  background-color: var(--sklearn-color-fitted-level-2);\n",
       "}\n",
       "\n",
       "/* Estimator label */\n",
       "\n",
       "#sk-container-id-1 div.sk-label label {\n",
       "  font-family: monospace;\n",
       "  font-weight: bold;\n",
       "  display: inline-block;\n",
       "  line-height: 1.2em;\n",
       "}\n",
       "\n",
       "#sk-container-id-1 div.sk-label-container {\n",
       "  text-align: center;\n",
       "}\n",
       "\n",
       "/* Estimator-specific */\n",
       "#sk-container-id-1 div.sk-estimator {\n",
       "  font-family: monospace;\n",
       "  border: 1px dotted var(--sklearn-color-border-box);\n",
       "  border-radius: 0.25em;\n",
       "  box-sizing: border-box;\n",
       "  margin-bottom: 0.5em;\n",
       "  /* unfitted */\n",
       "  background-color: var(--sklearn-color-unfitted-level-0);\n",
       "}\n",
       "\n",
       "#sk-container-id-1 div.sk-estimator.fitted {\n",
       "  /* fitted */\n",
       "  background-color: var(--sklearn-color-fitted-level-0);\n",
       "}\n",
       "\n",
       "/* on hover */\n",
       "#sk-container-id-1 div.sk-estimator:hover {\n",
       "  /* unfitted */\n",
       "  background-color: var(--sklearn-color-unfitted-level-2);\n",
       "}\n",
       "\n",
       "#sk-container-id-1 div.sk-estimator.fitted:hover {\n",
       "  /* fitted */\n",
       "  background-color: var(--sklearn-color-fitted-level-2);\n",
       "}\n",
       "\n",
       "/* Specification for estimator info (e.g. \"i\" and \"?\") */\n",
       "\n",
       "/* Common style for \"i\" and \"?\" */\n",
       "\n",
       ".sk-estimator-doc-link,\n",
       "a:link.sk-estimator-doc-link,\n",
       "a:visited.sk-estimator-doc-link {\n",
       "  float: right;\n",
       "  font-size: smaller;\n",
       "  line-height: 1em;\n",
       "  font-family: monospace;\n",
       "  background-color: var(--sklearn-color-background);\n",
       "  border-radius: 1em;\n",
       "  height: 1em;\n",
       "  width: 1em;\n",
       "  text-decoration: none !important;\n",
       "  margin-left: 1ex;\n",
       "  /* unfitted */\n",
       "  border: var(--sklearn-color-unfitted-level-1) 1pt solid;\n",
       "  color: var(--sklearn-color-unfitted-level-1);\n",
       "}\n",
       "\n",
       ".sk-estimator-doc-link.fitted,\n",
       "a:link.sk-estimator-doc-link.fitted,\n",
       "a:visited.sk-estimator-doc-link.fitted {\n",
       "  /* fitted */\n",
       "  border: var(--sklearn-color-fitted-level-1) 1pt solid;\n",
       "  color: var(--sklearn-color-fitted-level-1);\n",
       "}\n",
       "\n",
       "/* On hover */\n",
       "div.sk-estimator:hover .sk-estimator-doc-link:hover,\n",
       ".sk-estimator-doc-link:hover,\n",
       "div.sk-label-container:hover .sk-estimator-doc-link:hover,\n",
       ".sk-estimator-doc-link:hover {\n",
       "  /* unfitted */\n",
       "  background-color: var(--sklearn-color-unfitted-level-3);\n",
       "  color: var(--sklearn-color-background);\n",
       "  text-decoration: none;\n",
       "}\n",
       "\n",
       "div.sk-estimator.fitted:hover .sk-estimator-doc-link.fitted:hover,\n",
       ".sk-estimator-doc-link.fitted:hover,\n",
       "div.sk-label-container:hover .sk-estimator-doc-link.fitted:hover,\n",
       ".sk-estimator-doc-link.fitted:hover {\n",
       "  /* fitted */\n",
       "  background-color: var(--sklearn-color-fitted-level-3);\n",
       "  color: var(--sklearn-color-background);\n",
       "  text-decoration: none;\n",
       "}\n",
       "\n",
       "/* Span, style for the box shown on hovering the info icon */\n",
       ".sk-estimator-doc-link span {\n",
       "  display: none;\n",
       "  z-index: 9999;\n",
       "  position: relative;\n",
       "  font-weight: normal;\n",
       "  right: .2ex;\n",
       "  padding: .5ex;\n",
       "  margin: .5ex;\n",
       "  width: min-content;\n",
       "  min-width: 20ex;\n",
       "  max-width: 50ex;\n",
       "  color: var(--sklearn-color-text);\n",
       "  box-shadow: 2pt 2pt 4pt #999;\n",
       "  /* unfitted */\n",
       "  background: var(--sklearn-color-unfitted-level-0);\n",
       "  border: .5pt solid var(--sklearn-color-unfitted-level-3);\n",
       "}\n",
       "\n",
       ".sk-estimator-doc-link.fitted span {\n",
       "  /* fitted */\n",
       "  background: var(--sklearn-color-fitted-level-0);\n",
       "  border: var(--sklearn-color-fitted-level-3);\n",
       "}\n",
       "\n",
       ".sk-estimator-doc-link:hover span {\n",
       "  display: block;\n",
       "}\n",
       "\n",
       "/* \"?\"-specific style due to the `<a>` HTML tag */\n",
       "\n",
       "#sk-container-id-1 a.estimator_doc_link {\n",
       "  float: right;\n",
       "  font-size: 1rem;\n",
       "  line-height: 1em;\n",
       "  font-family: monospace;\n",
       "  background-color: var(--sklearn-color-background);\n",
       "  border-radius: 1rem;\n",
       "  height: 1rem;\n",
       "  width: 1rem;\n",
       "  text-decoration: none;\n",
       "  /* unfitted */\n",
       "  color: var(--sklearn-color-unfitted-level-1);\n",
       "  border: var(--sklearn-color-unfitted-level-1) 1pt solid;\n",
       "}\n",
       "\n",
       "#sk-container-id-1 a.estimator_doc_link.fitted {\n",
       "  /* fitted */\n",
       "  border: var(--sklearn-color-fitted-level-1) 1pt solid;\n",
       "  color: var(--sklearn-color-fitted-level-1);\n",
       "}\n",
       "\n",
       "/* On hover */\n",
       "#sk-container-id-1 a.estimator_doc_link:hover {\n",
       "  /* unfitted */\n",
       "  background-color: var(--sklearn-color-unfitted-level-3);\n",
       "  color: var(--sklearn-color-background);\n",
       "  text-decoration: none;\n",
       "}\n",
       "\n",
       "#sk-container-id-1 a.estimator_doc_link.fitted:hover {\n",
       "  /* fitted */\n",
       "  background-color: var(--sklearn-color-fitted-level-3);\n",
       "}\n",
       "</style><div id=\"sk-container-id-1\" class=\"sk-top-container\"><div class=\"sk-text-repr-fallback\"><pre>LinearRegression()</pre><b>In a Jupyter environment, please rerun this cell to show the HTML representation or trust the notebook. <br />On GitHub, the HTML representation is unable to render, please try loading this page with nbviewer.org.</b></div><div class=\"sk-container\" hidden><div class=\"sk-item\"><div class=\"sk-estimator fitted sk-toggleable\"><input class=\"sk-toggleable__control sk-hidden--visually\" id=\"sk-estimator-id-1\" type=\"checkbox\" checked><label for=\"sk-estimator-id-1\" class=\"sk-toggleable__label fitted sk-toggleable__label-arrow fitted\">&nbsp;&nbsp;LinearRegression<a class=\"sk-estimator-doc-link fitted\" rel=\"noreferrer\" target=\"_blank\" href=\"https://scikit-learn.org/1.5/modules/generated/sklearn.linear_model.LinearRegression.html\">?<span>Documentation for LinearRegression</span></a><span class=\"sk-estimator-doc-link fitted\">i<span>Fitted</span></span></label><div class=\"sk-toggleable__content fitted\"><pre>LinearRegression()</pre></div> </div></div></div></div>"
      ],
      "text/plain": [
       "LinearRegression()"
      ]
     },
     "execution_count": 11,
     "metadata": {},
     "output_type": "execute_result"
    }
   ],
   "source": [
    "# Model meta-ensemble\n",
    "meta_model = LinearRegression()\n",
    "\n",
    "meta_model.fit(X_stack_train, y_train)"
   ]
  },
  {
   "cell_type": "code",
   "execution_count": 12,
   "id": "a0b21057",
   "metadata": {},
   "outputs": [],
   "source": [
    "# prediksi menggunakan meta model\n",
    "ensemble_preds_hist_train = meta_model.predict(X_stack_train)\n",
    "ensemble_preds_hist_val = meta_model.predict(X_stack_val)"
   ]
  },
  {
   "cell_type": "code",
   "execution_count": 13,
   "id": "91caf222",
   "metadata": {},
   "outputs": [],
   "source": [
    "last_date = loaded_data['tgl_transaksi'].iloc[-1]\n",
    "if isinstance(last_date, pd.Timestamp):\n",
    "    last_date = last_date.date()\n",
    "\n",
    "future_dates = [last_date + datetime.timedelta(days=i+1) for i in range(PREDICTION_DAYS)]\n",
    "\n",
    "last_sequence = data_scaled[-SEQUENCE_LENGTH:]"
   ]
  },
  {
   "cell_type": "code",
   "execution_count": 14,
   "id": "c410c1b9",
   "metadata": {},
   "outputs": [],
   "source": [
    "future_predictions = fn.predict_ensemble(trained_dl_models, scaler, last_sequence, meta_model)"
   ]
  },
  {
   "cell_type": "code",
   "execution_count": 15,
   "id": "c10049a2",
   "metadata": {},
   "outputs": [],
   "source": [
    "# Menampilkan hasil prediksi masa depan dalam bentuk DataFrame\n",
    "df_future_predictions = pd.DataFrame({\n",
    "    'Tanggal': future_dates,\n",
    "    'Prediksi Modal': future_predictions.flatten()\n",
    "})\n"
   ]
  },
  {
   "cell_type": "code",
   "execution_count": 16,
   "id": "c233d584",
   "metadata": {},
   "outputs": [
    {
     "data": {
      "text/html": [
       "<div>\n",
       "<style scoped>\n",
       "    .dataframe tbody tr th:only-of-type {\n",
       "        vertical-align: middle;\n",
       "    }\n",
       "\n",
       "    .dataframe tbody tr th {\n",
       "        vertical-align: top;\n",
       "    }\n",
       "\n",
       "    .dataframe thead th {\n",
       "        text-align: right;\n",
       "    }\n",
       "</style>\n",
       "<table border=\"1\" class=\"dataframe\">\n",
       "  <thead>\n",
       "    <tr style=\"text-align: right;\">\n",
       "      <th></th>\n",
       "      <th>Prediksi Modal</th>\n",
       "    </tr>\n",
       "    <tr>\n",
       "      <th>Tanggal</th>\n",
       "      <th></th>\n",
       "    </tr>\n",
       "  </thead>\n",
       "  <tbody>\n",
       "    <tr>\n",
       "      <th>2008-12-31</th>\n",
       "      <td>1.721510e+08</td>\n",
       "    </tr>\n",
       "    <tr>\n",
       "      <th>2009-01-01</th>\n",
       "      <td>1.727039e+08</td>\n",
       "    </tr>\n",
       "    <tr>\n",
       "      <th>2009-01-02</th>\n",
       "      <td>1.733460e+08</td>\n",
       "    </tr>\n",
       "    <tr>\n",
       "      <th>2009-01-03</th>\n",
       "      <td>1.742249e+08</td>\n",
       "    </tr>\n",
       "    <tr>\n",
       "      <th>2009-01-04</th>\n",
       "      <td>1.742232e+08</td>\n",
       "    </tr>\n",
       "    <tr>\n",
       "      <th>2009-01-05</th>\n",
       "      <td>1.751882e+08</td>\n",
       "    </tr>\n",
       "    <tr>\n",
       "      <th>2009-01-06</th>\n",
       "      <td>1.758161e+08</td>\n",
       "    </tr>\n",
       "  </tbody>\n",
       "</table>\n",
       "</div>"
      ],
      "text/plain": [
       "            Prediksi Modal\n",
       "Tanggal                   \n",
       "2008-12-31    1.721510e+08\n",
       "2009-01-01    1.727039e+08\n",
       "2009-01-02    1.733460e+08\n",
       "2009-01-03    1.742249e+08\n",
       "2009-01-04    1.742232e+08\n",
       "2009-01-05    1.751882e+08\n",
       "2009-01-06    1.758161e+08"
      ]
     },
     "execution_count": 16,
     "metadata": {},
     "output_type": "execute_result"
    }
   ],
   "source": [
    "df_future_predictions.set_index('Tanggal', inplace=True)\n",
    "df_future_predictions"
   ]
  },
  {
   "cell_type": "code",
   "execution_count": 17,
   "id": "b8be4df1",
   "metadata": {},
   "outputs": [
    {
     "data": {
      "application/vnd.plotly.v1+json": {
       "config": {
        "plotlyServerURL": "https://plot.ly"
       },
       "data": [
        {
         "line": {
          "color": "blue",
          "width": 2
         },
         "mode": "lines",
         "name": "Aktual",
         "type": "scatter",
         "x": [
          "2008-01-01T00:00:00.000000000",
          "2008-01-02T00:00:00.000000000",
          "2008-01-03T00:00:00.000000000",
          "2008-01-04T00:00:00.000000000",
          "2008-01-05T00:00:00.000000000",
          "2008-01-06T00:00:00.000000000",
          "2008-01-07T00:00:00.000000000",
          "2008-01-08T00:00:00.000000000",
          "2008-01-09T00:00:00.000000000",
          "2008-01-10T00:00:00.000000000",
          "2008-01-11T00:00:00.000000000",
          "2008-01-12T00:00:00.000000000",
          "2008-01-13T00:00:00.000000000",
          "2008-01-14T00:00:00.000000000",
          "2008-01-15T00:00:00.000000000",
          "2008-01-16T00:00:00.000000000",
          "2008-01-17T00:00:00.000000000",
          "2008-01-18T00:00:00.000000000",
          "2008-01-19T00:00:00.000000000",
          "2008-01-20T00:00:00.000000000",
          "2008-01-21T00:00:00.000000000",
          "2008-01-22T00:00:00.000000000",
          "2008-01-23T00:00:00.000000000",
          "2008-01-24T00:00:00.000000000",
          "2008-01-25T00:00:00.000000000",
          "2008-01-26T00:00:00.000000000",
          "2008-01-27T00:00:00.000000000",
          "2008-01-28T00:00:00.000000000",
          "2008-01-29T00:00:00.000000000",
          "2008-01-30T00:00:00.000000000",
          "2008-01-31T00:00:00.000000000",
          "2008-02-01T00:00:00.000000000",
          "2008-02-02T00:00:00.000000000",
          "2008-02-03T00:00:00.000000000",
          "2008-02-04T00:00:00.000000000",
          "2008-02-05T00:00:00.000000000",
          "2008-02-06T00:00:00.000000000",
          "2008-02-07T00:00:00.000000000",
          "2008-02-08T00:00:00.000000000",
          "2008-02-09T00:00:00.000000000",
          "2008-02-10T00:00:00.000000000",
          "2008-02-11T00:00:00.000000000",
          "2008-02-12T00:00:00.000000000",
          "2008-02-13T00:00:00.000000000",
          "2008-02-14T00:00:00.000000000",
          "2008-02-15T00:00:00.000000000",
          "2008-02-16T00:00:00.000000000",
          "2008-02-17T00:00:00.000000000",
          "2008-02-18T00:00:00.000000000",
          "2008-02-19T00:00:00.000000000",
          "2008-02-20T00:00:00.000000000",
          "2008-02-21T00:00:00.000000000",
          "2008-02-22T00:00:00.000000000",
          "2008-02-23T00:00:00.000000000",
          "2008-02-24T00:00:00.000000000",
          "2008-02-25T00:00:00.000000000",
          "2008-02-26T00:00:00.000000000",
          "2008-02-27T00:00:00.000000000",
          "2008-02-28T00:00:00.000000000",
          "2008-02-29T00:00:00.000000000",
          "2008-03-01T00:00:00.000000000",
          "2008-03-02T00:00:00.000000000",
          "2008-03-03T00:00:00.000000000",
          "2008-03-04T00:00:00.000000000",
          "2008-03-05T00:00:00.000000000",
          "2008-03-06T00:00:00.000000000",
          "2008-03-07T00:00:00.000000000",
          "2008-03-08T00:00:00.000000000",
          "2008-03-09T00:00:00.000000000",
          "2008-03-10T00:00:00.000000000",
          "2008-03-11T00:00:00.000000000",
          "2008-03-12T00:00:00.000000000",
          "2008-03-13T00:00:00.000000000",
          "2008-03-14T00:00:00.000000000",
          "2008-03-15T00:00:00.000000000",
          "2008-03-16T00:00:00.000000000",
          "2008-03-17T00:00:00.000000000",
          "2008-03-18T00:00:00.000000000",
          "2008-03-19T00:00:00.000000000",
          "2008-03-20T00:00:00.000000000",
          "2008-03-21T00:00:00.000000000",
          "2008-03-22T00:00:00.000000000",
          "2008-03-23T00:00:00.000000000",
          "2008-03-24T00:00:00.000000000",
          "2008-03-25T00:00:00.000000000",
          "2008-03-26T00:00:00.000000000",
          "2008-03-27T00:00:00.000000000",
          "2008-03-28T00:00:00.000000000",
          "2008-03-29T00:00:00.000000000",
          "2008-03-30T00:00:00.000000000",
          "2008-03-31T00:00:00.000000000",
          "2008-04-01T00:00:00.000000000",
          "2008-04-02T00:00:00.000000000",
          "2008-04-03T00:00:00.000000000",
          "2008-04-04T00:00:00.000000000",
          "2008-04-05T00:00:00.000000000",
          "2008-04-06T00:00:00.000000000",
          "2008-04-07T00:00:00.000000000",
          "2008-04-08T00:00:00.000000000",
          "2008-04-09T00:00:00.000000000",
          "2008-04-10T00:00:00.000000000",
          "2008-04-11T00:00:00.000000000",
          "2008-04-12T00:00:00.000000000",
          "2008-04-13T00:00:00.000000000",
          "2008-04-14T00:00:00.000000000",
          "2008-04-15T00:00:00.000000000",
          "2008-04-16T00:00:00.000000000",
          "2008-04-17T00:00:00.000000000",
          "2008-04-18T00:00:00.000000000",
          "2008-04-19T00:00:00.000000000",
          "2008-04-20T00:00:00.000000000",
          "2008-04-21T00:00:00.000000000",
          "2008-04-22T00:00:00.000000000",
          "2008-04-23T00:00:00.000000000",
          "2008-04-24T00:00:00.000000000",
          "2008-04-25T00:00:00.000000000",
          "2008-04-26T00:00:00.000000000",
          "2008-04-27T00:00:00.000000000",
          "2008-04-28T00:00:00.000000000",
          "2008-04-29T00:00:00.000000000",
          "2008-04-30T00:00:00.000000000",
          "2008-05-01T00:00:00.000000000",
          "2008-05-02T00:00:00.000000000",
          "2008-05-03T00:00:00.000000000",
          "2008-05-04T00:00:00.000000000",
          "2008-05-05T00:00:00.000000000",
          "2008-05-06T00:00:00.000000000",
          "2008-05-07T00:00:00.000000000",
          "2008-05-08T00:00:00.000000000",
          "2008-05-09T00:00:00.000000000",
          "2008-05-10T00:00:00.000000000",
          "2008-05-11T00:00:00.000000000",
          "2008-05-12T00:00:00.000000000",
          "2008-05-13T00:00:00.000000000",
          "2008-05-14T00:00:00.000000000",
          "2008-05-15T00:00:00.000000000",
          "2008-05-16T00:00:00.000000000",
          "2008-05-17T00:00:00.000000000",
          "2008-05-18T00:00:00.000000000",
          "2008-05-19T00:00:00.000000000",
          "2008-05-20T00:00:00.000000000",
          "2008-05-21T00:00:00.000000000",
          "2008-05-22T00:00:00.000000000",
          "2008-05-23T00:00:00.000000000",
          "2008-05-24T00:00:00.000000000",
          "2008-05-25T00:00:00.000000000",
          "2008-05-26T00:00:00.000000000",
          "2008-05-27T00:00:00.000000000",
          "2008-05-28T00:00:00.000000000",
          "2008-05-29T00:00:00.000000000",
          "2008-05-30T00:00:00.000000000",
          "2008-05-31T00:00:00.000000000",
          "2008-06-01T00:00:00.000000000",
          "2008-06-02T00:00:00.000000000",
          "2008-06-03T00:00:00.000000000",
          "2008-06-04T00:00:00.000000000",
          "2008-06-05T00:00:00.000000000",
          "2008-06-06T00:00:00.000000000",
          "2008-06-07T00:00:00.000000000",
          "2008-06-08T00:00:00.000000000",
          "2008-06-09T00:00:00.000000000",
          "2008-06-10T00:00:00.000000000",
          "2008-06-11T00:00:00.000000000",
          "2008-06-12T00:00:00.000000000",
          "2008-06-13T00:00:00.000000000",
          "2008-06-14T00:00:00.000000000",
          "2008-06-15T00:00:00.000000000",
          "2008-06-16T00:00:00.000000000",
          "2008-06-17T00:00:00.000000000",
          "2008-06-18T00:00:00.000000000",
          "2008-06-19T00:00:00.000000000",
          "2008-06-20T00:00:00.000000000",
          "2008-06-21T00:00:00.000000000",
          "2008-06-22T00:00:00.000000000",
          "2008-06-23T00:00:00.000000000",
          "2008-06-24T00:00:00.000000000",
          "2008-06-25T00:00:00.000000000",
          "2008-06-26T00:00:00.000000000",
          "2008-06-27T00:00:00.000000000",
          "2008-06-28T00:00:00.000000000",
          "2008-06-29T00:00:00.000000000",
          "2008-06-30T00:00:00.000000000",
          "2008-07-01T00:00:00.000000000",
          "2008-07-02T00:00:00.000000000",
          "2008-07-03T00:00:00.000000000",
          "2008-07-04T00:00:00.000000000",
          "2008-07-05T00:00:00.000000000",
          "2008-07-06T00:00:00.000000000",
          "2008-07-07T00:00:00.000000000",
          "2008-07-08T00:00:00.000000000",
          "2008-07-09T00:00:00.000000000",
          "2008-07-10T00:00:00.000000000",
          "2008-07-11T00:00:00.000000000",
          "2008-07-12T00:00:00.000000000",
          "2008-07-13T00:00:00.000000000",
          "2008-07-14T00:00:00.000000000",
          "2008-07-15T00:00:00.000000000",
          "2008-07-16T00:00:00.000000000",
          "2008-07-17T00:00:00.000000000",
          "2008-07-18T00:00:00.000000000",
          "2008-07-19T00:00:00.000000000",
          "2008-07-20T00:00:00.000000000",
          "2008-07-21T00:00:00.000000000",
          "2008-07-22T00:00:00.000000000",
          "2008-07-23T00:00:00.000000000",
          "2008-07-24T00:00:00.000000000",
          "2008-07-25T00:00:00.000000000",
          "2008-07-26T00:00:00.000000000",
          "2008-07-27T00:00:00.000000000",
          "2008-07-28T00:00:00.000000000",
          "2008-07-29T00:00:00.000000000",
          "2008-07-30T00:00:00.000000000",
          "2008-07-31T00:00:00.000000000",
          "2008-08-01T00:00:00.000000000",
          "2008-08-02T00:00:00.000000000",
          "2008-08-03T00:00:00.000000000",
          "2008-08-04T00:00:00.000000000",
          "2008-08-05T00:00:00.000000000",
          "2008-08-06T00:00:00.000000000",
          "2008-08-07T00:00:00.000000000",
          "2008-08-08T00:00:00.000000000",
          "2008-08-09T00:00:00.000000000",
          "2008-08-10T00:00:00.000000000",
          "2008-08-11T00:00:00.000000000",
          "2008-08-12T00:00:00.000000000",
          "2008-08-13T00:00:00.000000000",
          "2008-08-14T00:00:00.000000000",
          "2008-08-15T00:00:00.000000000",
          "2008-08-16T00:00:00.000000000",
          "2008-08-17T00:00:00.000000000",
          "2008-08-18T00:00:00.000000000",
          "2008-08-19T00:00:00.000000000",
          "2008-08-20T00:00:00.000000000",
          "2008-08-21T00:00:00.000000000",
          "2008-08-22T00:00:00.000000000",
          "2008-08-23T00:00:00.000000000",
          "2008-08-24T00:00:00.000000000",
          "2008-08-25T00:00:00.000000000",
          "2008-08-26T00:00:00.000000000",
          "2008-08-27T00:00:00.000000000",
          "2008-08-28T00:00:00.000000000",
          "2008-08-29T00:00:00.000000000",
          "2008-08-30T00:00:00.000000000",
          "2008-08-31T00:00:00.000000000",
          "2008-09-01T00:00:00.000000000",
          "2008-09-02T00:00:00.000000000",
          "2008-09-03T00:00:00.000000000",
          "2008-09-04T00:00:00.000000000",
          "2008-09-05T00:00:00.000000000",
          "2008-09-06T00:00:00.000000000",
          "2008-09-07T00:00:00.000000000",
          "2008-09-08T00:00:00.000000000",
          "2008-09-09T00:00:00.000000000",
          "2008-09-10T00:00:00.000000000",
          "2008-09-11T00:00:00.000000000",
          "2008-09-12T00:00:00.000000000",
          "2008-09-13T00:00:00.000000000",
          "2008-09-14T00:00:00.000000000",
          "2008-09-15T00:00:00.000000000",
          "2008-09-16T00:00:00.000000000",
          "2008-09-17T00:00:00.000000000",
          "2008-09-18T00:00:00.000000000",
          "2008-09-19T00:00:00.000000000",
          "2008-09-20T00:00:00.000000000",
          "2008-09-21T00:00:00.000000000",
          "2008-09-22T00:00:00.000000000",
          "2008-09-23T00:00:00.000000000",
          "2008-09-24T00:00:00.000000000",
          "2008-09-25T00:00:00.000000000",
          "2008-09-26T00:00:00.000000000",
          "2008-09-27T00:00:00.000000000",
          "2008-09-28T00:00:00.000000000",
          "2008-09-29T00:00:00.000000000",
          "2008-09-30T00:00:00.000000000",
          "2008-10-01T00:00:00.000000000",
          "2008-10-02T00:00:00.000000000",
          "2008-10-03T00:00:00.000000000",
          "2008-10-04T00:00:00.000000000",
          "2008-10-05T00:00:00.000000000",
          "2008-10-06T00:00:00.000000000",
          "2008-10-07T00:00:00.000000000",
          "2008-10-08T00:00:00.000000000",
          "2008-10-09T00:00:00.000000000",
          "2008-10-10T00:00:00.000000000",
          "2008-10-11T00:00:00.000000000",
          "2008-10-12T00:00:00.000000000",
          "2008-10-13T00:00:00.000000000",
          "2008-10-14T00:00:00.000000000",
          "2008-10-15T00:00:00.000000000",
          "2008-10-16T00:00:00.000000000",
          "2008-10-17T00:00:00.000000000",
          "2008-10-18T00:00:00.000000000",
          "2008-10-19T00:00:00.000000000",
          "2008-10-20T00:00:00.000000000",
          "2008-10-21T00:00:00.000000000",
          "2008-10-22T00:00:00.000000000",
          "2008-10-23T00:00:00.000000000",
          "2008-10-24T00:00:00.000000000",
          "2008-10-25T00:00:00.000000000",
          "2008-10-26T00:00:00.000000000",
          "2008-10-27T00:00:00.000000000",
          "2008-10-28T00:00:00.000000000",
          "2008-10-29T00:00:00.000000000",
          "2008-10-30T00:00:00.000000000",
          "2008-10-31T00:00:00.000000000",
          "2008-11-01T00:00:00.000000000",
          "2008-11-02T00:00:00.000000000",
          "2008-11-03T00:00:00.000000000",
          "2008-11-04T00:00:00.000000000",
          "2008-11-05T00:00:00.000000000",
          "2008-11-06T00:00:00.000000000",
          "2008-11-07T00:00:00.000000000",
          "2008-11-08T00:00:00.000000000",
          "2008-11-09T00:00:00.000000000",
          "2008-11-10T00:00:00.000000000",
          "2008-11-11T00:00:00.000000000",
          "2008-11-12T00:00:00.000000000",
          "2008-11-13T00:00:00.000000000",
          "2008-11-14T00:00:00.000000000",
          "2008-11-15T00:00:00.000000000",
          "2008-11-16T00:00:00.000000000",
          "2008-11-17T00:00:00.000000000",
          "2008-11-18T00:00:00.000000000",
          "2008-11-19T00:00:00.000000000",
          "2008-11-20T00:00:00.000000000",
          "2008-11-21T00:00:00.000000000",
          "2008-11-22T00:00:00.000000000",
          "2008-11-23T00:00:00.000000000",
          "2008-11-24T00:00:00.000000000",
          "2008-11-25T00:00:00.000000000",
          "2008-11-26T00:00:00.000000000",
          "2008-11-27T00:00:00.000000000",
          "2008-11-28T00:00:00.000000000",
          "2008-11-29T00:00:00.000000000",
          "2008-11-30T00:00:00.000000000",
          "2008-12-01T00:00:00.000000000",
          "2008-12-02T00:00:00.000000000",
          "2008-12-03T00:00:00.000000000",
          "2008-12-04T00:00:00.000000000",
          "2008-12-05T00:00:00.000000000",
          "2008-12-06T00:00:00.000000000",
          "2008-12-07T00:00:00.000000000",
          "2008-12-08T00:00:00.000000000",
          "2008-12-09T00:00:00.000000000",
          "2008-12-10T00:00:00.000000000",
          "2008-12-11T00:00:00.000000000",
          "2008-12-12T00:00:00.000000000",
          "2008-12-13T00:00:00.000000000",
          "2008-12-14T00:00:00.000000000",
          "2008-12-15T00:00:00.000000000",
          "2008-12-16T00:00:00.000000000",
          "2008-12-17T00:00:00.000000000",
          "2008-12-18T00:00:00.000000000",
          "2008-12-19T00:00:00.000000000",
          "2008-12-20T00:00:00.000000000",
          "2008-12-21T00:00:00.000000000",
          "2008-12-22T00:00:00.000000000",
          "2008-12-23T00:00:00.000000000",
          "2008-12-24T00:00:00.000000000",
          "2008-12-25T00:00:00.000000000",
          "2008-12-26T00:00:00.000000000",
          "2008-12-27T00:00:00.000000000",
          "2008-12-28T00:00:00.000000000",
          "2008-12-29T00:00:00.000000000",
          "2008-12-30T00:00:00.000000000"
         ],
         "y": {
          "bdata": "VoC2CfRSWQqYSlUJQP9vCuq7NgpW2JoJjpzZCiQ0ngkogTMKMhTOCdigIgpcP6cIPMz8CeSeggnO61oJdC58CcBnvwn2+N4Jxi7oCZAluApgOi4K1ImECSB3yAnGhrgJWKaYCdo7qQnG7EIKTJ4RCUz48gmEsX4K8G38CbRnjwmyPzsKFKX2CTaTWAt+1HAKcqXUCXT9hAl+zUUKPhLTCbYXvgrQwnwJ7AB9CbYdQQnEuzkKwiZJCqKsfgrSYqgJ6GCUCWJ0iQnKhuYJeFCgCjI6Kgr8yJ4KtneRCXI2jwmwIMoKPNNpCYZJSgnm5egJImPpCcBhQgpUvMwJNHLmCSqA3Ao2D8UJ/tTSCeTQQAp6/kUK8CB7Cjj6pAp8dTIJho4nCiTSyAk+XM8J8stVCsYaiAqg4qkK+otICT6J0wruoMsJCmqBCgr9jwnCwK8JhKGtCQo55QmSaCgK8BKXC7JBhApokPQIomrQCVJh9wmcg8cJtuD1CVIk6Qmg794JoLIRCohk1wmYQsEJEvRJClBD1gmOTrAJOmQaC1T6agoYFqkK1BP6CdpW3glMQUAK+IPFCUhoDgoalpUKNifuCWz0cQrE0v8J0FBmCqZPxAmo30sJqIkZCiDZEAoa9hwKTCzsCRAN3gmQL9sK7meaCr7svgmYGWwK+GP+CS4hfgoEzrUJiPyTCo4x5gnmMZIKPPFKCnT60gn68V8J3DIyCiTb+wnmtZsJtBaVCXrEnQo+C8oKXG3hCaqTKwp2UWoKKrARCi5V+glA0EkKIDdACRRQkgkMDPcJBjRhCp63DgqkFgkKbNdwCqztDwscLCsK1vj9CkY+DQpCYxUJmvjQCvwnYgvefCMJFlUsCSQK+glO+6wJfm2HChABWAoCONUJ6E8sCmgkyQniAzgKuqJSCkDkMArAsUwKsPMKC6b29AloyLsJQmvpCUCJrgowN9AJdup2CiRnJAoOVWoKxKm/CaKP8Qmi9mcJ1MfXCZAqoAkKe94K5E4dChTD7QhU+AMK9hRFCghKAwou8/sKkjHxCZTGFwuoAMEJrgHYCRSTZwr8zFQKwD1XCkwiaAsWSJsLGs1UCtTWOwpYXc4IkrVECoAQtQqUVDoKxgnRCQDMTAram7cJ2PemC8jYBAqoDKEJlDwbCugbfgrM6FoJIPqkCeoQaQqsmZIJ4ha7CvRT3gtojfYJspewCtoD0QoMN+QKzvguClh3mQryDu8KKH0sC6rMCwqMZfoJfCGyCkKbuAoEr1sKDLP/Cd5e1wny0IYLAgZTCeY5AgvgzdMKJPsDCiQWxQoe5NUJ3tyeCm7ENgrGt+8KnkN0CUrZdwrKKPUIPOgNCpqSZApC3s8KIHbICrAgOQoErSALoqa7CkS30Qo+qH0KwvuMCtC9twqeHTUK1NLfCu5/tApCHmgKbOaYChzxbwqk2q0KGN/QClg2qAqgr8kJXjI9CtplWwpgz8UKhnq5CZw6OApWOfwKkI3NChLeGAuwCLsJPnQ9C0AtiArOwmAJ2vY5CWYgdAp6EGULNBvTCjpmwwpQeiAL6IJTCrLswAnAhEwKGsBCC5qB/QnE4kkKHE69Cvi7BQoUR9IJrjJRCnCXiQqInSQLKmpwCvznlAmk3FYKrOeECr77XQucQSsL7H1nC06sHQt0A0gJTGUWCz6bwQo6vuMKlJVTChr9UQo0S3sKcIJdCp4zpgrC+hkLmGx3C+AErQki7W0KVLeGCeYbPwpOvZQKFgxgCqBBLQrMqw8KtpajCrJF2goIsaUK+u/JCp6AgQoutAQKOnLqCXwvIgqyMo4KvHHICdC+FgqGex0JyFrICrb2zwrQefEKAur6CUiKaQrIvoYL9CByCmZraQs4QEsKGiphCsLJAApOkhoKpgWkCqB6KwrAXH4KxORCCjgmSwv+60IKJKdcCjQhjAoEA7IKbG0MCzBhdws=",
          "dtype": "i4"
         }
        },
        {
         "line": {
          "color": "green",
          "dash": "solid",
          "width": 2
         },
         "mode": "lines",
         "name": "Prediksi Ensemble (Train)",
         "type": "scatter",
         "x": [
          "2008-01-31T00:00:00.000000000",
          "2008-02-01T00:00:00.000000000",
          "2008-02-02T00:00:00.000000000",
          "2008-02-03T00:00:00.000000000",
          "2008-02-04T00:00:00.000000000",
          "2008-02-05T00:00:00.000000000",
          "2008-02-06T00:00:00.000000000",
          "2008-02-07T00:00:00.000000000",
          "2008-02-08T00:00:00.000000000",
          "2008-02-09T00:00:00.000000000",
          "2008-02-10T00:00:00.000000000",
          "2008-02-11T00:00:00.000000000",
          "2008-02-12T00:00:00.000000000",
          "2008-02-13T00:00:00.000000000",
          "2008-02-14T00:00:00.000000000",
          "2008-02-15T00:00:00.000000000",
          "2008-02-16T00:00:00.000000000",
          "2008-02-17T00:00:00.000000000",
          "2008-02-18T00:00:00.000000000",
          "2008-02-19T00:00:00.000000000",
          "2008-02-20T00:00:00.000000000",
          "2008-02-21T00:00:00.000000000",
          "2008-02-22T00:00:00.000000000",
          "2008-02-23T00:00:00.000000000",
          "2008-02-24T00:00:00.000000000",
          "2008-02-25T00:00:00.000000000",
          "2008-02-26T00:00:00.000000000",
          "2008-02-27T00:00:00.000000000",
          "2008-02-28T00:00:00.000000000",
          "2008-02-29T00:00:00.000000000",
          "2008-03-01T00:00:00.000000000",
          "2008-03-02T00:00:00.000000000",
          "2008-03-03T00:00:00.000000000",
          "2008-03-04T00:00:00.000000000",
          "2008-03-05T00:00:00.000000000",
          "2008-03-06T00:00:00.000000000",
          "2008-03-07T00:00:00.000000000",
          "2008-03-08T00:00:00.000000000",
          "2008-03-09T00:00:00.000000000",
          "2008-03-10T00:00:00.000000000",
          "2008-03-11T00:00:00.000000000",
          "2008-03-12T00:00:00.000000000",
          "2008-03-13T00:00:00.000000000",
          "2008-03-14T00:00:00.000000000",
          "2008-03-15T00:00:00.000000000",
          "2008-03-16T00:00:00.000000000",
          "2008-03-17T00:00:00.000000000",
          "2008-03-18T00:00:00.000000000",
          "2008-03-19T00:00:00.000000000",
          "2008-03-20T00:00:00.000000000",
          "2008-03-21T00:00:00.000000000",
          "2008-03-22T00:00:00.000000000",
          "2008-03-23T00:00:00.000000000",
          "2008-03-24T00:00:00.000000000",
          "2008-03-25T00:00:00.000000000",
          "2008-03-26T00:00:00.000000000",
          "2008-03-27T00:00:00.000000000",
          "2008-03-28T00:00:00.000000000",
          "2008-03-29T00:00:00.000000000",
          "2008-03-30T00:00:00.000000000",
          "2008-03-31T00:00:00.000000000",
          "2008-04-01T00:00:00.000000000",
          "2008-04-02T00:00:00.000000000",
          "2008-04-03T00:00:00.000000000",
          "2008-04-04T00:00:00.000000000",
          "2008-04-05T00:00:00.000000000",
          "2008-04-06T00:00:00.000000000",
          "2008-04-07T00:00:00.000000000",
          "2008-04-08T00:00:00.000000000",
          "2008-04-09T00:00:00.000000000",
          "2008-04-10T00:00:00.000000000",
          "2008-04-11T00:00:00.000000000",
          "2008-04-12T00:00:00.000000000",
          "2008-04-13T00:00:00.000000000",
          "2008-04-14T00:00:00.000000000",
          "2008-04-15T00:00:00.000000000",
          "2008-04-16T00:00:00.000000000",
          "2008-04-17T00:00:00.000000000",
          "2008-04-18T00:00:00.000000000",
          "2008-04-19T00:00:00.000000000",
          "2008-04-20T00:00:00.000000000",
          "2008-04-21T00:00:00.000000000",
          "2008-04-22T00:00:00.000000000",
          "2008-04-23T00:00:00.000000000",
          "2008-04-24T00:00:00.000000000",
          "2008-04-25T00:00:00.000000000",
          "2008-04-26T00:00:00.000000000",
          "2008-04-27T00:00:00.000000000",
          "2008-04-28T00:00:00.000000000",
          "2008-04-29T00:00:00.000000000",
          "2008-04-30T00:00:00.000000000",
          "2008-05-01T00:00:00.000000000",
          "2008-05-02T00:00:00.000000000",
          "2008-05-03T00:00:00.000000000",
          "2008-05-04T00:00:00.000000000",
          "2008-05-05T00:00:00.000000000",
          "2008-05-06T00:00:00.000000000",
          "2008-05-07T00:00:00.000000000",
          "2008-05-08T00:00:00.000000000",
          "2008-05-09T00:00:00.000000000",
          "2008-05-10T00:00:00.000000000",
          "2008-05-11T00:00:00.000000000",
          "2008-05-12T00:00:00.000000000",
          "2008-05-13T00:00:00.000000000",
          "2008-05-14T00:00:00.000000000",
          "2008-05-15T00:00:00.000000000",
          "2008-05-16T00:00:00.000000000",
          "2008-05-17T00:00:00.000000000",
          "2008-05-18T00:00:00.000000000",
          "2008-05-19T00:00:00.000000000",
          "2008-05-20T00:00:00.000000000",
          "2008-05-21T00:00:00.000000000",
          "2008-05-22T00:00:00.000000000",
          "2008-05-23T00:00:00.000000000",
          "2008-05-24T00:00:00.000000000",
          "2008-05-25T00:00:00.000000000",
          "2008-05-26T00:00:00.000000000",
          "2008-05-27T00:00:00.000000000",
          "2008-05-28T00:00:00.000000000",
          "2008-05-29T00:00:00.000000000",
          "2008-05-30T00:00:00.000000000",
          "2008-05-31T00:00:00.000000000",
          "2008-06-01T00:00:00.000000000",
          "2008-06-02T00:00:00.000000000",
          "2008-06-03T00:00:00.000000000",
          "2008-06-04T00:00:00.000000000",
          "2008-06-05T00:00:00.000000000",
          "2008-06-06T00:00:00.000000000",
          "2008-06-07T00:00:00.000000000",
          "2008-06-08T00:00:00.000000000",
          "2008-06-09T00:00:00.000000000",
          "2008-06-10T00:00:00.000000000",
          "2008-06-11T00:00:00.000000000",
          "2008-06-12T00:00:00.000000000",
          "2008-06-13T00:00:00.000000000",
          "2008-06-14T00:00:00.000000000",
          "2008-06-15T00:00:00.000000000",
          "2008-06-16T00:00:00.000000000",
          "2008-06-17T00:00:00.000000000",
          "2008-06-18T00:00:00.000000000",
          "2008-06-19T00:00:00.000000000",
          "2008-06-20T00:00:00.000000000",
          "2008-06-21T00:00:00.000000000",
          "2008-06-22T00:00:00.000000000",
          "2008-06-23T00:00:00.000000000",
          "2008-06-24T00:00:00.000000000",
          "2008-06-25T00:00:00.000000000",
          "2008-06-26T00:00:00.000000000",
          "2008-06-27T00:00:00.000000000",
          "2008-06-28T00:00:00.000000000",
          "2008-06-29T00:00:00.000000000",
          "2008-06-30T00:00:00.000000000",
          "2008-07-01T00:00:00.000000000",
          "2008-07-02T00:00:00.000000000",
          "2008-07-03T00:00:00.000000000",
          "2008-07-04T00:00:00.000000000",
          "2008-07-05T00:00:00.000000000",
          "2008-07-06T00:00:00.000000000",
          "2008-07-07T00:00:00.000000000",
          "2008-07-08T00:00:00.000000000",
          "2008-07-09T00:00:00.000000000",
          "2008-07-10T00:00:00.000000000",
          "2008-07-11T00:00:00.000000000",
          "2008-07-12T00:00:00.000000000",
          "2008-07-13T00:00:00.000000000",
          "2008-07-14T00:00:00.000000000",
          "2008-07-15T00:00:00.000000000",
          "2008-07-16T00:00:00.000000000",
          "2008-07-17T00:00:00.000000000",
          "2008-07-18T00:00:00.000000000",
          "2008-07-19T00:00:00.000000000",
          "2008-07-20T00:00:00.000000000",
          "2008-07-21T00:00:00.000000000",
          "2008-07-22T00:00:00.000000000",
          "2008-07-23T00:00:00.000000000",
          "2008-07-24T00:00:00.000000000",
          "2008-07-25T00:00:00.000000000",
          "2008-07-26T00:00:00.000000000",
          "2008-07-27T00:00:00.000000000",
          "2008-07-28T00:00:00.000000000",
          "2008-07-29T00:00:00.000000000",
          "2008-07-30T00:00:00.000000000",
          "2008-07-31T00:00:00.000000000",
          "2008-08-01T00:00:00.000000000",
          "2008-08-02T00:00:00.000000000",
          "2008-08-03T00:00:00.000000000",
          "2008-08-04T00:00:00.000000000",
          "2008-08-05T00:00:00.000000000",
          "2008-08-06T00:00:00.000000000",
          "2008-08-07T00:00:00.000000000",
          "2008-08-08T00:00:00.000000000",
          "2008-08-09T00:00:00.000000000",
          "2008-08-10T00:00:00.000000000",
          "2008-08-11T00:00:00.000000000",
          "2008-08-12T00:00:00.000000000",
          "2008-08-13T00:00:00.000000000",
          "2008-08-14T00:00:00.000000000",
          "2008-08-15T00:00:00.000000000",
          "2008-08-16T00:00:00.000000000",
          "2008-08-17T00:00:00.000000000",
          "2008-08-18T00:00:00.000000000",
          "2008-08-19T00:00:00.000000000",
          "2008-08-20T00:00:00.000000000",
          "2008-08-21T00:00:00.000000000",
          "2008-08-22T00:00:00.000000000",
          "2008-08-23T00:00:00.000000000",
          "2008-08-24T00:00:00.000000000",
          "2008-08-25T00:00:00.000000000",
          "2008-08-26T00:00:00.000000000",
          "2008-08-27T00:00:00.000000000",
          "2008-08-28T00:00:00.000000000",
          "2008-08-29T00:00:00.000000000",
          "2008-08-30T00:00:00.000000000",
          "2008-08-31T00:00:00.000000000",
          "2008-09-01T00:00:00.000000000",
          "2008-09-02T00:00:00.000000000",
          "2008-09-03T00:00:00.000000000",
          "2008-09-04T00:00:00.000000000",
          "2008-09-05T00:00:00.000000000",
          "2008-09-06T00:00:00.000000000",
          "2008-09-07T00:00:00.000000000",
          "2008-09-08T00:00:00.000000000",
          "2008-09-09T00:00:00.000000000",
          "2008-09-10T00:00:00.000000000",
          "2008-09-11T00:00:00.000000000",
          "2008-09-12T00:00:00.000000000",
          "2008-09-13T00:00:00.000000000",
          "2008-09-14T00:00:00.000000000",
          "2008-09-15T00:00:00.000000000",
          "2008-09-16T00:00:00.000000000",
          "2008-09-17T00:00:00.000000000",
          "2008-09-18T00:00:00.000000000",
          "2008-09-19T00:00:00.000000000",
          "2008-09-20T00:00:00.000000000",
          "2008-09-21T00:00:00.000000000",
          "2008-09-22T00:00:00.000000000",
          "2008-09-23T00:00:00.000000000",
          "2008-09-24T00:00:00.000000000",
          "2008-09-25T00:00:00.000000000",
          "2008-09-26T00:00:00.000000000",
          "2008-09-27T00:00:00.000000000",
          "2008-09-28T00:00:00.000000000",
          "2008-09-29T00:00:00.000000000",
          "2008-09-30T00:00:00.000000000",
          "2008-10-01T00:00:00.000000000",
          "2008-10-02T00:00:00.000000000",
          "2008-10-03T00:00:00.000000000",
          "2008-10-04T00:00:00.000000000",
          "2008-10-05T00:00:00.000000000",
          "2008-10-06T00:00:00.000000000",
          "2008-10-07T00:00:00.000000000",
          "2008-10-08T00:00:00.000000000",
          "2008-10-09T00:00:00.000000000",
          "2008-10-10T00:00:00.000000000",
          "2008-10-11T00:00:00.000000000",
          "2008-10-12T00:00:00.000000000",
          "2008-10-13T00:00:00.000000000",
          "2008-10-14T00:00:00.000000000",
          "2008-10-15T00:00:00.000000000",
          "2008-10-16T00:00:00.000000000",
          "2008-10-17T00:00:00.000000000",
          "2008-10-18T00:00:00.000000000",
          "2008-10-19T00:00:00.000000000",
          "2008-10-20T00:00:00.000000000",
          "2008-10-21T00:00:00.000000000",
          "2008-10-22T00:00:00.000000000",
          "2008-10-23T00:00:00.000000000",
          "2008-10-24T00:00:00.000000000"
         ],
         "y": {
          "bdata": "xTQgTQcBIE3Ubh9NctsfTRgoH00pkB5N+zkeTdopHU0Fqh1NxLAdTWD4HU394R1NmQkfTXtfH02sOSBNX+cgTZIgIU1U9yBNWsMgTd7bIE07ayBNu2IgTTu6IE1GpiBNX7YgTYz+IE0pnSFN8pEhTWVgIk2nzCJNdJ4iTRieIk1t0yJNx1kiTdw3Ik3QyyBN2RIgTa44IE1UqSBNdlEgTdpWIE1Ihh9NhQ4gTZvfIE2WtiFNS68hTWN4IU035SBNE/QgTfBCIU2BzSFNIsshTZlIIU1MNSFNuwYhTSO/IU2aVyJN07ghTWcIIk1pHiJNT0EiTeHtIk2fDSNNpnAjTRymI01o+CJNsTYjTSJbI02NFyNNzuQiTTh/Ik1B5CFNh64iTTp+Ik3pRyJN/ykiTWe7IU24cyFNpB8hTWD4IU1qfCFNQLshTQlFIU0ftiFNHPkhTYdDIk1GWiJNaY0iTdF1IU35FiFNygYiTQkxIk3BTiJNLX0iTb1GIk3nUCJNNqQiTZLCIk1CGCNNznsjTcV1I02/qyNNQgQkTbkHI02iyCJNVqoiTdEHI02hPiNNqi4jTfyaI03OiiNNj7QiTTR9Ik2bJCJN2TYiTdb4IU2kayJNf0MjTWuII02LASRNkCwkTa40JE0XIyRNT00jTT6wIk2ypSJN6vchTa/dIU0gWiFNSxgiTb79IU1u9yFNaXEhTar3IU0htiJN544jTSduI00kQyNNtXsjTeXXI00GWCNN58EiTWXXIk19qCJNL1UiTdg+Ik2FOyJNDF4iTWiMI011KyRNTk0kTZskJE2SHyRNshskTd3JI007HSNNu1EjTSXJIk0s8SJNYKkjTXaoIk3ypyFNFNMiTaCcI039jiNNMK4jTbz5Ik2dnyJN9a4iTQDZIk0xUCNNvzQjTbP0Ik2GqCJNCfMhTVK7IE3W+yBNJxYiTYP1Ik3ehyJNuLAiTcJzIk1RjyJNunkiTSbIIk3opCJNLHwjTUoiJE2oxCRNO3okTdMOJU0bTiZNZoQmTYhyJk3VJSZNxu8kTf8dJU0xWCRNt6kkTbP/JE0oBSVNgvEkTfCrJE0OpyNNze8iTWM1I03WVCNN/JskTT7RJE0C2SRNe+ckTXNDJU11YSVNGK0lTQqLJE2p9iRNO8YlTUVKJk2yZSZNIlsnTeYoKE3BdShNJJ0pTXfDKU1kiShNqpQoTf7aJ03aJidNoX4mTVlNJk065CVNI1klTSbGJE1hIiVN+5UlTdx1JU3qKSVNTjklTTGgJU29IiZN6j0lTTMLJk0JbiVNfz4lTSXqJU1VzCVNX0UmTUIyJk3upiZNf0cmTcPuJk0LuCZNz/InTaptKE1aaShNzIQoTWAYKU2GqylNdN0oTW0aKE1kaSdNIhEnTajPJk1z4SZNEXonTdwgJ00D0CZNaPomTQ==",
          "dtype": "f4"
         }
        },
        {
         "line": {
          "color": "red",
          "dash": "dash",
          "width": 2
         },
         "mode": "lines",
         "name": "Prediksi Ensemble (Validasi)",
         "type": "scatter",
         "x": [
          "2008-10-25T00:00:00.000000000",
          "2008-10-26T00:00:00.000000000",
          "2008-10-27T00:00:00.000000000",
          "2008-10-28T00:00:00.000000000",
          "2008-10-29T00:00:00.000000000",
          "2008-10-30T00:00:00.000000000",
          "2008-10-31T00:00:00.000000000",
          "2008-11-01T00:00:00.000000000",
          "2008-11-02T00:00:00.000000000",
          "2008-11-03T00:00:00.000000000",
          "2008-11-04T00:00:00.000000000",
          "2008-11-05T00:00:00.000000000",
          "2008-11-06T00:00:00.000000000",
          "2008-11-07T00:00:00.000000000",
          "2008-11-08T00:00:00.000000000",
          "2008-11-09T00:00:00.000000000",
          "2008-11-10T00:00:00.000000000",
          "2008-11-11T00:00:00.000000000",
          "2008-11-12T00:00:00.000000000",
          "2008-11-13T00:00:00.000000000",
          "2008-11-14T00:00:00.000000000",
          "2008-11-15T00:00:00.000000000",
          "2008-11-16T00:00:00.000000000",
          "2008-11-17T00:00:00.000000000",
          "2008-11-18T00:00:00.000000000",
          "2008-11-19T00:00:00.000000000",
          "2008-11-20T00:00:00.000000000",
          "2008-11-21T00:00:00.000000000",
          "2008-11-22T00:00:00.000000000",
          "2008-11-23T00:00:00.000000000",
          "2008-11-24T00:00:00.000000000",
          "2008-11-25T00:00:00.000000000",
          "2008-11-26T00:00:00.000000000",
          "2008-11-27T00:00:00.000000000",
          "2008-11-28T00:00:00.000000000",
          "2008-11-29T00:00:00.000000000",
          "2008-11-30T00:00:00.000000000",
          "2008-12-01T00:00:00.000000000",
          "2008-12-02T00:00:00.000000000",
          "2008-12-03T00:00:00.000000000",
          "2008-12-04T00:00:00.000000000",
          "2008-12-05T00:00:00.000000000",
          "2008-12-06T00:00:00.000000000",
          "2008-12-07T00:00:00.000000000",
          "2008-12-08T00:00:00.000000000",
          "2008-12-09T00:00:00.000000000",
          "2008-12-10T00:00:00.000000000",
          "2008-12-11T00:00:00.000000000",
          "2008-12-12T00:00:00.000000000",
          "2008-12-13T00:00:00.000000000",
          "2008-12-14T00:00:00.000000000",
          "2008-12-15T00:00:00.000000000",
          "2008-12-16T00:00:00.000000000",
          "2008-12-17T00:00:00.000000000",
          "2008-12-18T00:00:00.000000000",
          "2008-12-19T00:00:00.000000000",
          "2008-12-20T00:00:00.000000000",
          "2008-12-21T00:00:00.000000000",
          "2008-12-22T00:00:00.000000000",
          "2008-12-23T00:00:00.000000000",
          "2008-12-24T00:00:00.000000000",
          "2008-12-25T00:00:00.000000000",
          "2008-12-26T00:00:00.000000000",
          "2008-12-27T00:00:00.000000000",
          "2008-12-28T00:00:00.000000000",
          "2008-12-29T00:00:00.000000000",
          "2008-12-30T00:00:00.000000000"
         ],
         "y": {
          "bdata": "G98mTRvgJk0B9SZNHNkmTZWoJk3T9CZNNcsmTU3zJk3B8iZNxYsnTS1zJ02mfSZNEbolTX/UJE3XsSVNg5MlTdGxJU2LpSZNILMnTcDrJ00xWidN0y4nTdv8Jk3uVCZNmx0mTVabJk2DHCdNMQsnTUPuJ00cNChNYwIoTdRxKE0HHylN81EpTQUkKU1vcShNllwoTXoBKU0tPilNnJQpTWYvKU3YrihNJgMoTTGiJ02l7ShNyG0oTSPFJ00D2yZNTY4mTQ2NJk3pNyZNp84lTY9UJU2qiiRNttYjTebaJE3LSSVNVDImTW1hJk0CRCZNYEImTXc/Jk1pMCZNCuslTYSEJU0pPiVN0MUkTQ==",
          "dtype": "f4"
         }
        },
        {
         "line": {
          "color": "orange",
          "width": 2
         },
         "mode": "lines",
         "name": "Prediksi Masa Depan",
         "type": "scatter",
         "x": [
          "2008-12-31",
          "2009-01-01",
          "2009-01-02",
          "2009-01-03",
          "2009-01-04",
          "2009-01-05",
          "2009-01-06"
         ],
         "y": {
          "bdata": "/qNcXKGFpEGewJxkgZakQblB9vkZqqRBiGPfOuzEpEE1xiR83sSkQWXcd5NR4qRBIvhDPHv1pEE=",
          "dtype": "f8"
         }
        }
       ],
       "layout": {
        "height": 600,
        "hovermode": "x unified",
        "legend": {
         "orientation": "h",
         "title": {
          "text": "Keterangan"
         },
         "x": 0.5,
         "xanchor": "center",
         "y": 1,
         "yanchor": "bottom"
        },
        "shapes": [
         {
          "line": {
           "color": "black",
           "dash": "dash"
          },
          "name": "Hari Terakhir Aktual",
          "type": "line",
          "x0": "2008-12-30T00:00:00",
          "x1": "2008-12-30T00:00:00",
          "xref": "x",
          "y0": 0,
          "y1": 1,
          "yref": "y domain"
         }
        ],
        "template": {
         "data": {
          "bar": [
           {
            "error_x": {
             "color": "#2a3f5f"
            },
            "error_y": {
             "color": "#2a3f5f"
            },
            "marker": {
             "line": {
              "color": "#E5ECF6",
              "width": 0.5
             },
             "pattern": {
              "fillmode": "overlay",
              "size": 10,
              "solidity": 0.2
             }
            },
            "type": "bar"
           }
          ],
          "barpolar": [
           {
            "marker": {
             "line": {
              "color": "#E5ECF6",
              "width": 0.5
             },
             "pattern": {
              "fillmode": "overlay",
              "size": 10,
              "solidity": 0.2
             }
            },
            "type": "barpolar"
           }
          ],
          "carpet": [
           {
            "aaxis": {
             "endlinecolor": "#2a3f5f",
             "gridcolor": "white",
             "linecolor": "white",
             "minorgridcolor": "white",
             "startlinecolor": "#2a3f5f"
            },
            "baxis": {
             "endlinecolor": "#2a3f5f",
             "gridcolor": "white",
             "linecolor": "white",
             "minorgridcolor": "white",
             "startlinecolor": "#2a3f5f"
            },
            "type": "carpet"
           }
          ],
          "choropleth": [
           {
            "colorbar": {
             "outlinewidth": 0,
             "ticks": ""
            },
            "type": "choropleth"
           }
          ],
          "contour": [
           {
            "colorbar": {
             "outlinewidth": 0,
             "ticks": ""
            },
            "colorscale": [
             [
              0,
              "#0d0887"
             ],
             [
              0.1111111111111111,
              "#46039f"
             ],
             [
              0.2222222222222222,
              "#7201a8"
             ],
             [
              0.3333333333333333,
              "#9c179e"
             ],
             [
              0.4444444444444444,
              "#bd3786"
             ],
             [
              0.5555555555555556,
              "#d8576b"
             ],
             [
              0.6666666666666666,
              "#ed7953"
             ],
             [
              0.7777777777777778,
              "#fb9f3a"
             ],
             [
              0.8888888888888888,
              "#fdca26"
             ],
             [
              1,
              "#f0f921"
             ]
            ],
            "type": "contour"
           }
          ],
          "contourcarpet": [
           {
            "colorbar": {
             "outlinewidth": 0,
             "ticks": ""
            },
            "type": "contourcarpet"
           }
          ],
          "heatmap": [
           {
            "colorbar": {
             "outlinewidth": 0,
             "ticks": ""
            },
            "colorscale": [
             [
              0,
              "#0d0887"
             ],
             [
              0.1111111111111111,
              "#46039f"
             ],
             [
              0.2222222222222222,
              "#7201a8"
             ],
             [
              0.3333333333333333,
              "#9c179e"
             ],
             [
              0.4444444444444444,
              "#bd3786"
             ],
             [
              0.5555555555555556,
              "#d8576b"
             ],
             [
              0.6666666666666666,
              "#ed7953"
             ],
             [
              0.7777777777777778,
              "#fb9f3a"
             ],
             [
              0.8888888888888888,
              "#fdca26"
             ],
             [
              1,
              "#f0f921"
             ]
            ],
            "type": "heatmap"
           }
          ],
          "histogram": [
           {
            "marker": {
             "pattern": {
              "fillmode": "overlay",
              "size": 10,
              "solidity": 0.2
             }
            },
            "type": "histogram"
           }
          ],
          "histogram2d": [
           {
            "colorbar": {
             "outlinewidth": 0,
             "ticks": ""
            },
            "colorscale": [
             [
              0,
              "#0d0887"
             ],
             [
              0.1111111111111111,
              "#46039f"
             ],
             [
              0.2222222222222222,
              "#7201a8"
             ],
             [
              0.3333333333333333,
              "#9c179e"
             ],
             [
              0.4444444444444444,
              "#bd3786"
             ],
             [
              0.5555555555555556,
              "#d8576b"
             ],
             [
              0.6666666666666666,
              "#ed7953"
             ],
             [
              0.7777777777777778,
              "#fb9f3a"
             ],
             [
              0.8888888888888888,
              "#fdca26"
             ],
             [
              1,
              "#f0f921"
             ]
            ],
            "type": "histogram2d"
           }
          ],
          "histogram2dcontour": [
           {
            "colorbar": {
             "outlinewidth": 0,
             "ticks": ""
            },
            "colorscale": [
             [
              0,
              "#0d0887"
             ],
             [
              0.1111111111111111,
              "#46039f"
             ],
             [
              0.2222222222222222,
              "#7201a8"
             ],
             [
              0.3333333333333333,
              "#9c179e"
             ],
             [
              0.4444444444444444,
              "#bd3786"
             ],
             [
              0.5555555555555556,
              "#d8576b"
             ],
             [
              0.6666666666666666,
              "#ed7953"
             ],
             [
              0.7777777777777778,
              "#fb9f3a"
             ],
             [
              0.8888888888888888,
              "#fdca26"
             ],
             [
              1,
              "#f0f921"
             ]
            ],
            "type": "histogram2dcontour"
           }
          ],
          "mesh3d": [
           {
            "colorbar": {
             "outlinewidth": 0,
             "ticks": ""
            },
            "type": "mesh3d"
           }
          ],
          "parcoords": [
           {
            "line": {
             "colorbar": {
              "outlinewidth": 0,
              "ticks": ""
             }
            },
            "type": "parcoords"
           }
          ],
          "pie": [
           {
            "automargin": true,
            "type": "pie"
           }
          ],
          "scatter": [
           {
            "fillpattern": {
             "fillmode": "overlay",
             "size": 10,
             "solidity": 0.2
            },
            "type": "scatter"
           }
          ],
          "scatter3d": [
           {
            "line": {
             "colorbar": {
              "outlinewidth": 0,
              "ticks": ""
             }
            },
            "marker": {
             "colorbar": {
              "outlinewidth": 0,
              "ticks": ""
             }
            },
            "type": "scatter3d"
           }
          ],
          "scattercarpet": [
           {
            "marker": {
             "colorbar": {
              "outlinewidth": 0,
              "ticks": ""
             }
            },
            "type": "scattercarpet"
           }
          ],
          "scattergeo": [
           {
            "marker": {
             "colorbar": {
              "outlinewidth": 0,
              "ticks": ""
             }
            },
            "type": "scattergeo"
           }
          ],
          "scattergl": [
           {
            "marker": {
             "colorbar": {
              "outlinewidth": 0,
              "ticks": ""
             }
            },
            "type": "scattergl"
           }
          ],
          "scattermap": [
           {
            "marker": {
             "colorbar": {
              "outlinewidth": 0,
              "ticks": ""
             }
            },
            "type": "scattermap"
           }
          ],
          "scattermapbox": [
           {
            "marker": {
             "colorbar": {
              "outlinewidth": 0,
              "ticks": ""
             }
            },
            "type": "scattermapbox"
           }
          ],
          "scatterpolar": [
           {
            "marker": {
             "colorbar": {
              "outlinewidth": 0,
              "ticks": ""
             }
            },
            "type": "scatterpolar"
           }
          ],
          "scatterpolargl": [
           {
            "marker": {
             "colorbar": {
              "outlinewidth": 0,
              "ticks": ""
             }
            },
            "type": "scatterpolargl"
           }
          ],
          "scatterternary": [
           {
            "marker": {
             "colorbar": {
              "outlinewidth": 0,
              "ticks": ""
             }
            },
            "type": "scatterternary"
           }
          ],
          "surface": [
           {
            "colorbar": {
             "outlinewidth": 0,
             "ticks": ""
            },
            "colorscale": [
             [
              0,
              "#0d0887"
             ],
             [
              0.1111111111111111,
              "#46039f"
             ],
             [
              0.2222222222222222,
              "#7201a8"
             ],
             [
              0.3333333333333333,
              "#9c179e"
             ],
             [
              0.4444444444444444,
              "#bd3786"
             ],
             [
              0.5555555555555556,
              "#d8576b"
             ],
             [
              0.6666666666666666,
              "#ed7953"
             ],
             [
              0.7777777777777778,
              "#fb9f3a"
             ],
             [
              0.8888888888888888,
              "#fdca26"
             ],
             [
              1,
              "#f0f921"
             ]
            ],
            "type": "surface"
           }
          ],
          "table": [
           {
            "cells": {
             "fill": {
              "color": "#EBF0F8"
             },
             "line": {
              "color": "white"
             }
            },
            "header": {
             "fill": {
              "color": "#C8D4E3"
             },
             "line": {
              "color": "white"
             }
            },
            "type": "table"
           }
          ]
         },
         "layout": {
          "annotationdefaults": {
           "arrowcolor": "#2a3f5f",
           "arrowhead": 0,
           "arrowwidth": 1
          },
          "autotypenumbers": "strict",
          "coloraxis": {
           "colorbar": {
            "outlinewidth": 0,
            "ticks": ""
           }
          },
          "colorscale": {
           "diverging": [
            [
             0,
             "#8e0152"
            ],
            [
             0.1,
             "#c51b7d"
            ],
            [
             0.2,
             "#de77ae"
            ],
            [
             0.3,
             "#f1b6da"
            ],
            [
             0.4,
             "#fde0ef"
            ],
            [
             0.5,
             "#f7f7f7"
            ],
            [
             0.6,
             "#e6f5d0"
            ],
            [
             0.7,
             "#b8e186"
            ],
            [
             0.8,
             "#7fbc41"
            ],
            [
             0.9,
             "#4d9221"
            ],
            [
             1,
             "#276419"
            ]
           ],
           "sequential": [
            [
             0,
             "#0d0887"
            ],
            [
             0.1111111111111111,
             "#46039f"
            ],
            [
             0.2222222222222222,
             "#7201a8"
            ],
            [
             0.3333333333333333,
             "#9c179e"
            ],
            [
             0.4444444444444444,
             "#bd3786"
            ],
            [
             0.5555555555555556,
             "#d8576b"
            ],
            [
             0.6666666666666666,
             "#ed7953"
            ],
            [
             0.7777777777777778,
             "#fb9f3a"
            ],
            [
             0.8888888888888888,
             "#fdca26"
            ],
            [
             1,
             "#f0f921"
            ]
           ],
           "sequentialminus": [
            [
             0,
             "#0d0887"
            ],
            [
             0.1111111111111111,
             "#46039f"
            ],
            [
             0.2222222222222222,
             "#7201a8"
            ],
            [
             0.3333333333333333,
             "#9c179e"
            ],
            [
             0.4444444444444444,
             "#bd3786"
            ],
            [
             0.5555555555555556,
             "#d8576b"
            ],
            [
             0.6666666666666666,
             "#ed7953"
            ],
            [
             0.7777777777777778,
             "#fb9f3a"
            ],
            [
             0.8888888888888888,
             "#fdca26"
            ],
            [
             1,
             "#f0f921"
            ]
           ]
          },
          "colorway": [
           "#636efa",
           "#EF553B",
           "#00cc96",
           "#ab63fa",
           "#FFA15A",
           "#19d3f3",
           "#FF6692",
           "#B6E880",
           "#FF97FF",
           "#FECB52"
          ],
          "font": {
           "color": "#2a3f5f"
          },
          "geo": {
           "bgcolor": "white",
           "lakecolor": "white",
           "landcolor": "#E5ECF6",
           "showlakes": true,
           "showland": true,
           "subunitcolor": "white"
          },
          "hoverlabel": {
           "align": "left"
          },
          "hovermode": "closest",
          "mapbox": {
           "style": "light"
          },
          "paper_bgcolor": "white",
          "plot_bgcolor": "#E5ECF6",
          "polar": {
           "angularaxis": {
            "gridcolor": "white",
            "linecolor": "white",
            "ticks": ""
           },
           "bgcolor": "#E5ECF6",
           "radialaxis": {
            "gridcolor": "white",
            "linecolor": "white",
            "ticks": ""
           }
          },
          "scene": {
           "xaxis": {
            "backgroundcolor": "#E5ECF6",
            "gridcolor": "white",
            "gridwidth": 2,
            "linecolor": "white",
            "showbackground": true,
            "ticks": "",
            "zerolinecolor": "white"
           },
           "yaxis": {
            "backgroundcolor": "#E5ECF6",
            "gridcolor": "white",
            "gridwidth": 2,
            "linecolor": "white",
            "showbackground": true,
            "ticks": "",
            "zerolinecolor": "white"
           },
           "zaxis": {
            "backgroundcolor": "#E5ECF6",
            "gridcolor": "white",
            "gridwidth": 2,
            "linecolor": "white",
            "showbackground": true,
            "ticks": "",
            "zerolinecolor": "white"
           }
          },
          "shapedefaults": {
           "line": {
            "color": "#2a3f5f"
           }
          },
          "ternary": {
           "aaxis": {
            "gridcolor": "white",
            "linecolor": "white",
            "ticks": ""
           },
           "baxis": {
            "gridcolor": "white",
            "linecolor": "white",
            "ticks": ""
           },
           "bgcolor": "#E5ECF6",
           "caxis": {
            "gridcolor": "white",
            "linecolor": "white",
            "ticks": ""
           }
          },
          "title": {
           "x": 0.05
          },
          "xaxis": {
           "automargin": true,
           "gridcolor": "white",
           "linecolor": "white",
           "ticks": "",
           "title": {
            "standoff": 15
           },
           "zerolinecolor": "white",
           "zerolinewidth": 2
          },
          "yaxis": {
           "automargin": true,
           "gridcolor": "white",
           "linecolor": "white",
           "ticks": "",
           "title": {
            "standoff": 15
           },
           "zerolinecolor": "white",
           "zerolinewidth": 2
          }
         }
        },
        "title": {
         "text": "Visualisasi Aktual dan Prediksi"
        },
        "xaxis": {
         "gridcolor": "LightGray",
         "gridwidth": 1,
         "showgrid": true,
         "title": {
          "text": "Tanggal"
         }
        },
        "yaxis": {
         "gridcolor": "LightGray",
         "gridwidth": 1,
         "showgrid": true,
         "title": {
          "text": "Total Modal"
         }
        }
       }
      }
     },
     "metadata": {},
     "output_type": "display_data"
    }
   ],
   "source": [
    "fn.plot_ensemble_predictions(\n",
    "    loaded_data,\n",
    "    train_dates,\n",
    "    val_dates,\n",
    "    scaler,\n",
    "    ensemble_preds_hist_train,\n",
    "    ensemble_preds_hist_val,\n",
    "    df_future_predictions\n",
    ")\n"
   ]
  },
  {
   "cell_type": "code",
   "execution_count": 18,
   "id": "b1087ae1",
   "metadata": {},
   "outputs": [
    {
     "data": {
      "application/vnd.plotly.v1+json": {
       "config": {
        "plotlyServerURL": "https://plot.ly"
       },
       "data": [
        {
         "line": {
          "color": "orange",
          "width": 2
         },
         "marker": {
          "color": "orange",
          "size": 8
         },
         "mode": "lines+markers",
         "name": "Prediksi Modal Masa Depan",
         "type": "scatter",
         "x": [
          "2008-12-31",
          "2009-01-01",
          "2009-01-02",
          "2009-01-03",
          "2009-01-04",
          "2009-01-05",
          "2009-01-06"
         ],
         "y": {
          "bdata": "/qNcXKGFpEGewJxkgZakQblB9vkZqqRBiGPfOuzEpEE1xiR83sSkQWXcd5NR4qRBIvhDPHv1pEE=",
          "dtype": "f8"
         }
        }
       ],
       "layout": {
        "height": 500,
        "hovermode": "x unified",
        "legend": {
         "title": {
          "text": "Legend"
         }
        },
        "template": {
         "data": {
          "bar": [
           {
            "error_x": {
             "color": "#2a3f5f"
            },
            "error_y": {
             "color": "#2a3f5f"
            },
            "marker": {
             "line": {
              "color": "#E5ECF6",
              "width": 0.5
             },
             "pattern": {
              "fillmode": "overlay",
              "size": 10,
              "solidity": 0.2
             }
            },
            "type": "bar"
           }
          ],
          "barpolar": [
           {
            "marker": {
             "line": {
              "color": "#E5ECF6",
              "width": 0.5
             },
             "pattern": {
              "fillmode": "overlay",
              "size": 10,
              "solidity": 0.2
             }
            },
            "type": "barpolar"
           }
          ],
          "carpet": [
           {
            "aaxis": {
             "endlinecolor": "#2a3f5f",
             "gridcolor": "white",
             "linecolor": "white",
             "minorgridcolor": "white",
             "startlinecolor": "#2a3f5f"
            },
            "baxis": {
             "endlinecolor": "#2a3f5f",
             "gridcolor": "white",
             "linecolor": "white",
             "minorgridcolor": "white",
             "startlinecolor": "#2a3f5f"
            },
            "type": "carpet"
           }
          ],
          "choropleth": [
           {
            "colorbar": {
             "outlinewidth": 0,
             "ticks": ""
            },
            "type": "choropleth"
           }
          ],
          "contour": [
           {
            "colorbar": {
             "outlinewidth": 0,
             "ticks": ""
            },
            "colorscale": [
             [
              0,
              "#0d0887"
             ],
             [
              0.1111111111111111,
              "#46039f"
             ],
             [
              0.2222222222222222,
              "#7201a8"
             ],
             [
              0.3333333333333333,
              "#9c179e"
             ],
             [
              0.4444444444444444,
              "#bd3786"
             ],
             [
              0.5555555555555556,
              "#d8576b"
             ],
             [
              0.6666666666666666,
              "#ed7953"
             ],
             [
              0.7777777777777778,
              "#fb9f3a"
             ],
             [
              0.8888888888888888,
              "#fdca26"
             ],
             [
              1,
              "#f0f921"
             ]
            ],
            "type": "contour"
           }
          ],
          "contourcarpet": [
           {
            "colorbar": {
             "outlinewidth": 0,
             "ticks": ""
            },
            "type": "contourcarpet"
           }
          ],
          "heatmap": [
           {
            "colorbar": {
             "outlinewidth": 0,
             "ticks": ""
            },
            "colorscale": [
             [
              0,
              "#0d0887"
             ],
             [
              0.1111111111111111,
              "#46039f"
             ],
             [
              0.2222222222222222,
              "#7201a8"
             ],
             [
              0.3333333333333333,
              "#9c179e"
             ],
             [
              0.4444444444444444,
              "#bd3786"
             ],
             [
              0.5555555555555556,
              "#d8576b"
             ],
             [
              0.6666666666666666,
              "#ed7953"
             ],
             [
              0.7777777777777778,
              "#fb9f3a"
             ],
             [
              0.8888888888888888,
              "#fdca26"
             ],
             [
              1,
              "#f0f921"
             ]
            ],
            "type": "heatmap"
           }
          ],
          "histogram": [
           {
            "marker": {
             "pattern": {
              "fillmode": "overlay",
              "size": 10,
              "solidity": 0.2
             }
            },
            "type": "histogram"
           }
          ],
          "histogram2d": [
           {
            "colorbar": {
             "outlinewidth": 0,
             "ticks": ""
            },
            "colorscale": [
             [
              0,
              "#0d0887"
             ],
             [
              0.1111111111111111,
              "#46039f"
             ],
             [
              0.2222222222222222,
              "#7201a8"
             ],
             [
              0.3333333333333333,
              "#9c179e"
             ],
             [
              0.4444444444444444,
              "#bd3786"
             ],
             [
              0.5555555555555556,
              "#d8576b"
             ],
             [
              0.6666666666666666,
              "#ed7953"
             ],
             [
              0.7777777777777778,
              "#fb9f3a"
             ],
             [
              0.8888888888888888,
              "#fdca26"
             ],
             [
              1,
              "#f0f921"
             ]
            ],
            "type": "histogram2d"
           }
          ],
          "histogram2dcontour": [
           {
            "colorbar": {
             "outlinewidth": 0,
             "ticks": ""
            },
            "colorscale": [
             [
              0,
              "#0d0887"
             ],
             [
              0.1111111111111111,
              "#46039f"
             ],
             [
              0.2222222222222222,
              "#7201a8"
             ],
             [
              0.3333333333333333,
              "#9c179e"
             ],
             [
              0.4444444444444444,
              "#bd3786"
             ],
             [
              0.5555555555555556,
              "#d8576b"
             ],
             [
              0.6666666666666666,
              "#ed7953"
             ],
             [
              0.7777777777777778,
              "#fb9f3a"
             ],
             [
              0.8888888888888888,
              "#fdca26"
             ],
             [
              1,
              "#f0f921"
             ]
            ],
            "type": "histogram2dcontour"
           }
          ],
          "mesh3d": [
           {
            "colorbar": {
             "outlinewidth": 0,
             "ticks": ""
            },
            "type": "mesh3d"
           }
          ],
          "parcoords": [
           {
            "line": {
             "colorbar": {
              "outlinewidth": 0,
              "ticks": ""
             }
            },
            "type": "parcoords"
           }
          ],
          "pie": [
           {
            "automargin": true,
            "type": "pie"
           }
          ],
          "scatter": [
           {
            "fillpattern": {
             "fillmode": "overlay",
             "size": 10,
             "solidity": 0.2
            },
            "type": "scatter"
           }
          ],
          "scatter3d": [
           {
            "line": {
             "colorbar": {
              "outlinewidth": 0,
              "ticks": ""
             }
            },
            "marker": {
             "colorbar": {
              "outlinewidth": 0,
              "ticks": ""
             }
            },
            "type": "scatter3d"
           }
          ],
          "scattercarpet": [
           {
            "marker": {
             "colorbar": {
              "outlinewidth": 0,
              "ticks": ""
             }
            },
            "type": "scattercarpet"
           }
          ],
          "scattergeo": [
           {
            "marker": {
             "colorbar": {
              "outlinewidth": 0,
              "ticks": ""
             }
            },
            "type": "scattergeo"
           }
          ],
          "scattergl": [
           {
            "marker": {
             "colorbar": {
              "outlinewidth": 0,
              "ticks": ""
             }
            },
            "type": "scattergl"
           }
          ],
          "scattermap": [
           {
            "marker": {
             "colorbar": {
              "outlinewidth": 0,
              "ticks": ""
             }
            },
            "type": "scattermap"
           }
          ],
          "scattermapbox": [
           {
            "marker": {
             "colorbar": {
              "outlinewidth": 0,
              "ticks": ""
             }
            },
            "type": "scattermapbox"
           }
          ],
          "scatterpolar": [
           {
            "marker": {
             "colorbar": {
              "outlinewidth": 0,
              "ticks": ""
             }
            },
            "type": "scatterpolar"
           }
          ],
          "scatterpolargl": [
           {
            "marker": {
             "colorbar": {
              "outlinewidth": 0,
              "ticks": ""
             }
            },
            "type": "scatterpolargl"
           }
          ],
          "scatterternary": [
           {
            "marker": {
             "colorbar": {
              "outlinewidth": 0,
              "ticks": ""
             }
            },
            "type": "scatterternary"
           }
          ],
          "surface": [
           {
            "colorbar": {
             "outlinewidth": 0,
             "ticks": ""
            },
            "colorscale": [
             [
              0,
              "#0d0887"
             ],
             [
              0.1111111111111111,
              "#46039f"
             ],
             [
              0.2222222222222222,
              "#7201a8"
             ],
             [
              0.3333333333333333,
              "#9c179e"
             ],
             [
              0.4444444444444444,
              "#bd3786"
             ],
             [
              0.5555555555555556,
              "#d8576b"
             ],
             [
              0.6666666666666666,
              "#ed7953"
             ],
             [
              0.7777777777777778,
              "#fb9f3a"
             ],
             [
              0.8888888888888888,
              "#fdca26"
             ],
             [
              1,
              "#f0f921"
             ]
            ],
            "type": "surface"
           }
          ],
          "table": [
           {
            "cells": {
             "fill": {
              "color": "#EBF0F8"
             },
             "line": {
              "color": "white"
             }
            },
            "header": {
             "fill": {
              "color": "#C8D4E3"
             },
             "line": {
              "color": "white"
             }
            },
            "type": "table"
           }
          ]
         },
         "layout": {
          "annotationdefaults": {
           "arrowcolor": "#2a3f5f",
           "arrowhead": 0,
           "arrowwidth": 1
          },
          "autotypenumbers": "strict",
          "coloraxis": {
           "colorbar": {
            "outlinewidth": 0,
            "ticks": ""
           }
          },
          "colorscale": {
           "diverging": [
            [
             0,
             "#8e0152"
            ],
            [
             0.1,
             "#c51b7d"
            ],
            [
             0.2,
             "#de77ae"
            ],
            [
             0.3,
             "#f1b6da"
            ],
            [
             0.4,
             "#fde0ef"
            ],
            [
             0.5,
             "#f7f7f7"
            ],
            [
             0.6,
             "#e6f5d0"
            ],
            [
             0.7,
             "#b8e186"
            ],
            [
             0.8,
             "#7fbc41"
            ],
            [
             0.9,
             "#4d9221"
            ],
            [
             1,
             "#276419"
            ]
           ],
           "sequential": [
            [
             0,
             "#0d0887"
            ],
            [
             0.1111111111111111,
             "#46039f"
            ],
            [
             0.2222222222222222,
             "#7201a8"
            ],
            [
             0.3333333333333333,
             "#9c179e"
            ],
            [
             0.4444444444444444,
             "#bd3786"
            ],
            [
             0.5555555555555556,
             "#d8576b"
            ],
            [
             0.6666666666666666,
             "#ed7953"
            ],
            [
             0.7777777777777778,
             "#fb9f3a"
            ],
            [
             0.8888888888888888,
             "#fdca26"
            ],
            [
             1,
             "#f0f921"
            ]
           ],
           "sequentialminus": [
            [
             0,
             "#0d0887"
            ],
            [
             0.1111111111111111,
             "#46039f"
            ],
            [
             0.2222222222222222,
             "#7201a8"
            ],
            [
             0.3333333333333333,
             "#9c179e"
            ],
            [
             0.4444444444444444,
             "#bd3786"
            ],
            [
             0.5555555555555556,
             "#d8576b"
            ],
            [
             0.6666666666666666,
             "#ed7953"
            ],
            [
             0.7777777777777778,
             "#fb9f3a"
            ],
            [
             0.8888888888888888,
             "#fdca26"
            ],
            [
             1,
             "#f0f921"
            ]
           ]
          },
          "colorway": [
           "#636efa",
           "#EF553B",
           "#00cc96",
           "#ab63fa",
           "#FFA15A",
           "#19d3f3",
           "#FF6692",
           "#B6E880",
           "#FF97FF",
           "#FECB52"
          ],
          "font": {
           "color": "#2a3f5f"
          },
          "geo": {
           "bgcolor": "white",
           "lakecolor": "white",
           "landcolor": "#E5ECF6",
           "showlakes": true,
           "showland": true,
           "subunitcolor": "white"
          },
          "hoverlabel": {
           "align": "left"
          },
          "hovermode": "closest",
          "mapbox": {
           "style": "light"
          },
          "paper_bgcolor": "white",
          "plot_bgcolor": "#E5ECF6",
          "polar": {
           "angularaxis": {
            "gridcolor": "white",
            "linecolor": "white",
            "ticks": ""
           },
           "bgcolor": "#E5ECF6",
           "radialaxis": {
            "gridcolor": "white",
            "linecolor": "white",
            "ticks": ""
           }
          },
          "scene": {
           "xaxis": {
            "backgroundcolor": "#E5ECF6",
            "gridcolor": "white",
            "gridwidth": 2,
            "linecolor": "white",
            "showbackground": true,
            "ticks": "",
            "zerolinecolor": "white"
           },
           "yaxis": {
            "backgroundcolor": "#E5ECF6",
            "gridcolor": "white",
            "gridwidth": 2,
            "linecolor": "white",
            "showbackground": true,
            "ticks": "",
            "zerolinecolor": "white"
           },
           "zaxis": {
            "backgroundcolor": "#E5ECF6",
            "gridcolor": "white",
            "gridwidth": 2,
            "linecolor": "white",
            "showbackground": true,
            "ticks": "",
            "zerolinecolor": "white"
           }
          },
          "shapedefaults": {
           "line": {
            "color": "#2a3f5f"
           }
          },
          "ternary": {
           "aaxis": {
            "gridcolor": "white",
            "linecolor": "white",
            "ticks": ""
           },
           "baxis": {
            "gridcolor": "white",
            "linecolor": "white",
            "ticks": ""
           },
           "bgcolor": "#E5ECF6",
           "caxis": {
            "gridcolor": "white",
            "linecolor": "white",
            "ticks": ""
           }
          },
          "title": {
           "x": 0.05
          },
          "xaxis": {
           "automargin": true,
           "gridcolor": "white",
           "linecolor": "white",
           "ticks": "",
           "title": {
            "standoff": 15
           },
           "zerolinecolor": "white",
           "zerolinewidth": 2
          },
          "yaxis": {
           "automargin": true,
           "gridcolor": "white",
           "linecolor": "white",
           "ticks": "",
           "title": {
            "standoff": 15
           },
           "zerolinecolor": "white",
           "zerolinewidth": 2
          }
         }
        },
        "title": {
         "text": "Prediksi Modal 7 Hari ke Depan"
        },
        "xaxis": {
         "gridcolor": "LightGray",
         "gridwidth": 1,
         "showgrid": true,
         "title": {
          "text": "Tanggal"
         }
        },
        "yaxis": {
         "gridcolor": "LightGray",
         "gridwidth": 1,
         "showgrid": true,
         "title": {
          "text": "Modal+Biaya"
         }
        }
       }
      }
     },
     "metadata": {},
     "output_type": "display_data"
    }
   ],
   "source": [
    "fn.plot_future_predictions(future_dates, future_predictions)"
   ]
  },
  {
   "cell_type": "code",
   "execution_count": 19,
   "id": "3b1b6cc2",
   "metadata": {},
   "outputs": [
    {
     "name": "stdout",
     "output_type": "stream",
     "text": [
      "Evaluasi hasil prediksi pada Data Validasi:\n",
      "MAE  : 0.1279\n",
      "MAPE : 27.9088%\n",
      "MSE  : 0.0287\n",
      "RMSE : 0.1693\n"
     ]
    }
   ],
   "source": [
    "mape, mae, mse, rmse = fn.evaluate_model(y_val, ensemble_preds_hist_val)"
   ]
  },
  {
   "cell_type": "code",
   "execution_count": 20,
   "id": "1737f222",
   "metadata": {},
   "outputs": [
    {
     "name": "stderr",
     "output_type": "stream",
     "text": [
      "WARNING:absl:You are saving your model as an HDF5 file via `model.save()` or `keras.saving.save_model(model)`. This file format is considered legacy. We recommend using instead the native Keras format, e.g. `model.save('my_model.keras')` or `keras.saving.save_model(model, 'my_model.keras')`. \n",
      "WARNING:absl:You are saving your model as an HDF5 file via `model.save()` or `keras.saving.save_model(model)`. This file format is considered legacy. We recommend using instead the native Keras format, e.g. `model.save('my_model.keras')` or `keras.saving.save_model(model, 'my_model.keras')`. \n",
      "WARNING:absl:You are saving your model as an HDF5 file via `model.save()` or `keras.saving.save_model(model)`. This file format is considered legacy. We recommend using instead the native Keras format, e.g. `model.save('my_model.keras')` or `keras.saving.save_model(model, 'my_model.keras')`. \n"
     ]
    },
    {
     "name": "stdout",
     "output_type": "stream",
     "text": [
      "Model 1 disimpan ke: model/peramalan\\1lstm_model.h5\n",
      "Model 2 disimpan ke: model/peramalan\\2gru_model.h5\n",
      "Model 3 disimpan ke: model/peramalan\\3bilstm_model.h5\n"
     ]
    }
   ],
   "source": [
    "save_dir = \"model/peramalan\"\n",
    "\n",
    "for i, model in enumerate(trained_dl_models):\n",
    "    model_name = model.name\n",
    "    model_path = os.path.join(save_dir, f\"{i+1}{model_name}.h5\")\n",
    "    model.save(model_path)\n",
    "    print(f\"Model {i+1} disimpan ke: {model_path}\")\n"
   ]
  },
  {
   "cell_type": "code",
   "execution_count": 21,
   "id": "c58163ca",
   "metadata": {},
   "outputs": [
    {
     "data": {
      "text/plain": [
       "['model/peramalan/meta_model.pkl']"
      ]
     },
     "execution_count": 21,
     "metadata": {},
     "output_type": "execute_result"
    }
   ],
   "source": [
    "joblib.dump(meta_model, 'model/peramalan/meta_model.pkl')"
   ]
  }
 ],
 "metadata": {
  "kernelspec": {
   "display_name": "Phychan-47nDl_JA",
   "language": "python",
   "name": "python3"
  },
  "language_info": {
   "codemirror_mode": {
    "name": "ipython",
    "version": 3
   },
   "file_extension": ".py",
   "mimetype": "text/x-python",
   "name": "python",
   "nbconvert_exporter": "python",
   "pygments_lexer": "ipython3",
   "version": "3.12.7"
  }
 },
 "nbformat": 4,
 "nbformat_minor": 5
}
