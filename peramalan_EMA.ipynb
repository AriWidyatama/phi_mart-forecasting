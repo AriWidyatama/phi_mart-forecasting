{
 "cells": [
  {
   "cell_type": "code",
   "execution_count": 1,
   "id": "635fbcb4",
   "metadata": {},
   "outputs": [],
   "source": [
    "import joblib\n",
    "import os\n",
    "import numpy as np\n",
    "import pandas as pd\n",
    "import datetime\n",
    "import Funtions as fn\n",
    "from sklearn.linear_model import LinearRegression"
   ]
  },
  {
   "cell_type": "code",
   "execution_count": 2,
   "id": "c4e85621",
   "metadata": {},
   "outputs": [],
   "source": [
    "loaded_data = joblib.load('data/modal_biaya_harian_EMA.pkl')"
   ]
  },
  {
   "cell_type": "code",
   "execution_count": 3,
   "id": "52e88cd2",
   "metadata": {},
   "outputs": [
    {
     "data": {
      "text/html": [
       "<div>\n",
       "<style scoped>\n",
       "    .dataframe tbody tr th:only-of-type {\n",
       "        vertical-align: middle;\n",
       "    }\n",
       "\n",
       "    .dataframe tbody tr th {\n",
       "        vertical-align: top;\n",
       "    }\n",
       "\n",
       "    .dataframe thead th {\n",
       "        text-align: right;\n",
       "    }\n",
       "</style>\n",
       "<table border=\"1\" class=\"dataframe\">\n",
       "  <thead>\n",
       "    <tr style=\"text-align: right;\">\n",
       "      <th></th>\n",
       "      <th>tgl_transaksi</th>\n",
       "      <th>total_modal_biaya</th>\n",
       "    </tr>\n",
       "  </thead>\n",
       "  <tbody>\n",
       "    <tr>\n",
       "      <th>0</th>\n",
       "      <td>2008-01-01</td>\n",
       "      <td>1.629554e+08</td>\n",
       "    </tr>\n",
       "    <tr>\n",
       "      <th>1</th>\n",
       "      <td>2008-01-02</td>\n",
       "      <td>1.648955e+08</td>\n",
       "    </tr>\n",
       "    <tr>\n",
       "      <th>2</th>\n",
       "      <td>2008-01-03</td>\n",
       "      <td>1.633844e+08</td>\n",
       "    </tr>\n",
       "    <tr>\n",
       "      <th>3</th>\n",
       "      <td>2008-01-04</td>\n",
       "      <td>1.655167e+08</td>\n",
       "    </tr>\n",
       "    <tr>\n",
       "      <th>4</th>\n",
       "      <td>2008-01-05</td>\n",
       "      <td>1.665790e+08</td>\n",
       "    </tr>\n",
       "    <tr>\n",
       "      <th>...</th>\n",
       "      <td>...</td>\n",
       "      <td>...</td>\n",
       "    </tr>\n",
       "    <tr>\n",
       "      <th>360</th>\n",
       "      <td>2008-12-26</td>\n",
       "      <td>1.757288e+08</td>\n",
       "    </tr>\n",
       "    <tr>\n",
       "      <th>361</th>\n",
       "      <td>2008-12-27</td>\n",
       "      <td>1.759519e+08</td>\n",
       "    </tr>\n",
       "    <tr>\n",
       "      <th>362</th>\n",
       "      <td>2008-12-28</td>\n",
       "      <td>1.765858e+08</td>\n",
       "    </tr>\n",
       "    <tr>\n",
       "      <th>363</th>\n",
       "      <td>2008-12-29</td>\n",
       "      <td>1.781818e+08</td>\n",
       "    </tr>\n",
       "    <tr>\n",
       "      <th>364</th>\n",
       "      <td>2008-12-30</td>\n",
       "      <td>1.807620e+08</td>\n",
       "    </tr>\n",
       "  </tbody>\n",
       "</table>\n",
       "<p>365 rows × 2 columns</p>\n",
       "</div>"
      ],
      "text/plain": [
       "    tgl_transaksi  total_modal_biaya\n",
       "0      2008-01-01       1.629554e+08\n",
       "1      2008-01-02       1.648955e+08\n",
       "2      2008-01-03       1.633844e+08\n",
       "3      2008-01-04       1.655167e+08\n",
       "4      2008-01-05       1.665790e+08\n",
       "..            ...                ...\n",
       "360    2008-12-26       1.757288e+08\n",
       "361    2008-12-27       1.759519e+08\n",
       "362    2008-12-28       1.765858e+08\n",
       "363    2008-12-29       1.781818e+08\n",
       "364    2008-12-30       1.807620e+08\n",
       "\n",
       "[365 rows x 2 columns]"
      ]
     },
     "execution_count": 3,
     "metadata": {},
     "output_type": "execute_result"
    }
   ],
   "source": [
    "loaded_data"
   ]
  },
  {
   "cell_type": "code",
   "execution_count": 4,
   "id": "4e7a1ea6",
   "metadata": {},
   "outputs": [],
   "source": [
    "PREDICTION_DAYS = 7\n",
    "SEQUENCE_LENGTH = 30"
   ]
  },
  {
   "cell_type": "code",
   "execution_count": 5,
   "id": "2b5c5f7d",
   "metadata": {},
   "outputs": [],
   "source": [
    "scaler, data_scaled, X_train, y_train, X_val, y_val, train_dates, val_dates = fn.prepare_data(loaded_data, SEQUENCE_LENGTH)"
   ]
  },
  {
   "cell_type": "code",
   "execution_count": 6,
   "id": "29267c16",
   "metadata": {},
   "outputs": [
    {
     "data": {
      "text/plain": [
       "['data/scaler.pkl']"
      ]
     },
     "execution_count": 6,
     "metadata": {},
     "output_type": "execute_result"
    }
   ],
   "source": [
    "joblib.dump(scaler, 'data/scaler.pkl')"
   ]
  },
  {
   "cell_type": "code",
   "execution_count": 7,
   "id": "5e59acb5",
   "metadata": {},
   "outputs": [],
   "source": [
    "dl_models = fn.create_ensemble_models((X_train.shape[1], 1))"
   ]
  },
  {
   "cell_type": "code",
   "execution_count": 8,
   "id": "0c2f8e6a",
   "metadata": {},
   "outputs": [
    {
     "name": "stdout",
     "output_type": "stream",
     "text": [
      "Training model 1/3: lstm_model\n",
      "Epoch 1/100\n",
      "\u001b[1m9/9\u001b[0m \u001b[32m━━━━━━━━━━━━━━━━━━━━\u001b[0m\u001b[37m\u001b[0m \u001b[1m6s\u001b[0m 89ms/step - loss: 0.2557 - val_loss: 0.4085\n",
      "Epoch 2/100\n",
      "\u001b[1m9/9\u001b[0m \u001b[32m━━━━━━━━━━━━━━━━━━━━\u001b[0m\u001b[37m\u001b[0m \u001b[1m0s\u001b[0m 27ms/step - loss: 0.1729 - val_loss: 0.2229\n",
      "Epoch 3/100\n",
      "\u001b[1m9/9\u001b[0m \u001b[32m━━━━━━━━━━━━━━━━━━━━\u001b[0m\u001b[37m\u001b[0m \u001b[1m0s\u001b[0m 21ms/step - loss: 0.0737 - val_loss: 0.0440\n",
      "Epoch 4/100\n",
      "\u001b[1m9/9\u001b[0m \u001b[32m━━━━━━━━━━━━━━━━━━━━\u001b[0m\u001b[37m\u001b[0m \u001b[1m0s\u001b[0m 22ms/step - loss: 0.0234 - val_loss: 0.0229\n",
      "Epoch 5/100\n",
      "\u001b[1m9/9\u001b[0m \u001b[32m━━━━━━━━━━━━━━━━━━━━\u001b[0m\u001b[37m\u001b[0m \u001b[1m0s\u001b[0m 21ms/step - loss: 0.0196 - val_loss: 0.0444\n",
      "Epoch 6/100\n",
      "\u001b[1m9/9\u001b[0m \u001b[32m━━━━━━━━━━━━━━━━━━━━\u001b[0m\u001b[37m\u001b[0m \u001b[1m0s\u001b[0m 22ms/step - loss: 0.0196 - val_loss: 0.0224\n",
      "Epoch 7/100\n",
      "\u001b[1m9/9\u001b[0m \u001b[32m━━━━━━━━━━━━━━━━━━━━\u001b[0m\u001b[37m\u001b[0m \u001b[1m0s\u001b[0m 19ms/step - loss: 0.0185 - val_loss: 0.0301\n",
      "Epoch 8/100\n",
      "\u001b[1m9/9\u001b[0m \u001b[32m━━━━━━━━━━━━━━━━━━━━\u001b[0m\u001b[37m\u001b[0m \u001b[1m0s\u001b[0m 22ms/step - loss: 0.0176 - val_loss: 0.0228\n",
      "Epoch 9/100\n",
      "\u001b[1m9/9\u001b[0m \u001b[32m━━━━━━━━━━━━━━━━━━━━\u001b[0m\u001b[37m\u001b[0m \u001b[1m0s\u001b[0m 23ms/step - loss: 0.0156 - val_loss: 0.0212\n",
      "Epoch 10/100\n",
      "\u001b[1m9/9\u001b[0m \u001b[32m━━━━━━━━━━━━━━━━━━━━\u001b[0m\u001b[37m\u001b[0m \u001b[1m0s\u001b[0m 20ms/step - loss: 0.0169 - val_loss: 0.0190\n",
      "Epoch 11/100\n",
      "\u001b[1m9/9\u001b[0m \u001b[32m━━━━━━━━━━━━━━━━━━━━\u001b[0m\u001b[37m\u001b[0m \u001b[1m0s\u001b[0m 21ms/step - loss: 0.0148 - val_loss: 0.0193\n",
      "Epoch 12/100\n",
      "\u001b[1m9/9\u001b[0m \u001b[32m━━━━━━━━━━━━━━━━━━━━\u001b[0m\u001b[37m\u001b[0m \u001b[1m0s\u001b[0m 22ms/step - loss: 0.0155 - val_loss: 0.0187\n",
      "Epoch 13/100\n",
      "\u001b[1m9/9\u001b[0m \u001b[32m━━━━━━━━━━━━━━━━━━━━\u001b[0m\u001b[37m\u001b[0m \u001b[1m0s\u001b[0m 23ms/step - loss: 0.0137 - val_loss: 0.0180\n",
      "Epoch 14/100\n",
      "\u001b[1m9/9\u001b[0m \u001b[32m━━━━━━━━━━━━━━━━━━━━\u001b[0m\u001b[37m\u001b[0m \u001b[1m0s\u001b[0m 23ms/step - loss: 0.0146 - val_loss: 0.0189\n",
      "Epoch 15/100\n",
      "\u001b[1m9/9\u001b[0m \u001b[32m━━━━━━━━━━━━━━━━━━━━\u001b[0m\u001b[37m\u001b[0m \u001b[1m0s\u001b[0m 21ms/step - loss: 0.0144 - val_loss: 0.0183\n",
      "Epoch 16/100\n",
      "\u001b[1m9/9\u001b[0m \u001b[32m━━━━━━━━━━━━━━━━━━━━\u001b[0m\u001b[37m\u001b[0m \u001b[1m0s\u001b[0m 20ms/step - loss: 0.0159 - val_loss: 0.0213\n",
      "Epoch 17/100\n",
      "\u001b[1m9/9\u001b[0m \u001b[32m━━━━━━━━━━━━━━━━━━━━\u001b[0m\u001b[37m\u001b[0m \u001b[1m0s\u001b[0m 20ms/step - loss: 0.0158 - val_loss: 0.0176\n",
      "Epoch 18/100\n",
      "\u001b[1m9/9\u001b[0m \u001b[32m━━━━━━━━━━━━━━━━━━━━\u001b[0m\u001b[37m\u001b[0m \u001b[1m0s\u001b[0m 19ms/step - loss: 0.0162 - val_loss: 0.0203\n",
      "Epoch 19/100\n",
      "\u001b[1m9/9\u001b[0m \u001b[32m━━━━━━━━━━━━━━━━━━━━\u001b[0m\u001b[37m\u001b[0m \u001b[1m0s\u001b[0m 19ms/step - loss: 0.0130 - val_loss: 0.0175\n",
      "Epoch 20/100\n",
      "\u001b[1m9/9\u001b[0m \u001b[32m━━━━━━━━━━━━━━━━━━━━\u001b[0m\u001b[37m\u001b[0m \u001b[1m0s\u001b[0m 20ms/step - loss: 0.0131 - val_loss: 0.0184\n",
      "Epoch 21/100\n",
      "\u001b[1m9/9\u001b[0m \u001b[32m━━━━━━━━━━━━━━━━━━━━\u001b[0m\u001b[37m\u001b[0m \u001b[1m0s\u001b[0m 20ms/step - loss: 0.0142 - val_loss: 0.0181\n",
      "Epoch 22/100\n",
      "\u001b[1m9/9\u001b[0m \u001b[32m━━━━━━━━━━━━━━━━━━━━\u001b[0m\u001b[37m\u001b[0m \u001b[1m0s\u001b[0m 30ms/step - loss: 0.0152 - val_loss: 0.0174\n",
      "Epoch 23/100\n",
      "\u001b[1m9/9\u001b[0m \u001b[32m━━━━━━━━━━━━━━━━━━━━\u001b[0m\u001b[37m\u001b[0m \u001b[1m0s\u001b[0m 20ms/step - loss: 0.0132 - val_loss: 0.0188\n",
      "Epoch 24/100\n",
      "\u001b[1m9/9\u001b[0m \u001b[32m━━━━━━━━━━━━━━━━━━━━\u001b[0m\u001b[37m\u001b[0m \u001b[1m0s\u001b[0m 23ms/step - loss: 0.0157 - val_loss: 0.0173\n",
      "Epoch 25/100\n",
      "\u001b[1m9/9\u001b[0m \u001b[32m━━━━━━━━━━━━━━━━━━━━\u001b[0m\u001b[37m\u001b[0m \u001b[1m0s\u001b[0m 20ms/step - loss: 0.0149 - val_loss: 0.0202\n",
      "Epoch 26/100\n",
      "\u001b[1m9/9\u001b[0m \u001b[32m━━━━━━━━━━━━━━━━━━━━\u001b[0m\u001b[37m\u001b[0m \u001b[1m0s\u001b[0m 21ms/step - loss: 0.0153 - val_loss: 0.0174\n",
      "Epoch 27/100\n",
      "\u001b[1m9/9\u001b[0m \u001b[32m━━━━━━━━━━━━━━━━━━━━\u001b[0m\u001b[37m\u001b[0m \u001b[1m0s\u001b[0m 21ms/step - loss: 0.0149 - val_loss: 0.0180\n",
      "Epoch 28/100\n",
      "\u001b[1m9/9\u001b[0m \u001b[32m━━━━━━━━━━━━━━━━━━━━\u001b[0m\u001b[37m\u001b[0m \u001b[1m0s\u001b[0m 21ms/step - loss: 0.0137 - val_loss: 0.0172\n",
      "Epoch 29/100\n",
      "\u001b[1m9/9\u001b[0m \u001b[32m━━━━━━━━━━━━━━━━━━━━\u001b[0m\u001b[37m\u001b[0m \u001b[1m0s\u001b[0m 20ms/step - loss: 0.0145 - val_loss: 0.0184\n",
      "Epoch 30/100\n",
      "\u001b[1m9/9\u001b[0m \u001b[32m━━━━━━━━━━━━━━━━━━━━\u001b[0m\u001b[37m\u001b[0m \u001b[1m0s\u001b[0m 20ms/step - loss: 0.0142 - val_loss: 0.0170\n",
      "Epoch 31/100\n",
      "\u001b[1m9/9\u001b[0m \u001b[32m━━━━━━━━━━━━━━━━━━━━\u001b[0m\u001b[37m\u001b[0m \u001b[1m0s\u001b[0m 20ms/step - loss: 0.0141 - val_loss: 0.0172\n",
      "Epoch 32/100\n",
      "\u001b[1m9/9\u001b[0m \u001b[32m━━━━━━━━━━━━━━━━━━━━\u001b[0m\u001b[37m\u001b[0m \u001b[1m0s\u001b[0m 20ms/step - loss: 0.0133 - val_loss: 0.0180\n",
      "Epoch 33/100\n",
      "\u001b[1m9/9\u001b[0m \u001b[32m━━━━━━━━━━━━━━━━━━━━\u001b[0m\u001b[37m\u001b[0m \u001b[1m0s\u001b[0m 20ms/step - loss: 0.0155 - val_loss: 0.0168\n",
      "Epoch 34/100\n",
      "\u001b[1m9/9\u001b[0m \u001b[32m━━━━━━━━━━━━━━━━━━━━\u001b[0m\u001b[37m\u001b[0m \u001b[1m0s\u001b[0m 22ms/step - loss: 0.0134 - val_loss: 0.0176\n",
      "Epoch 35/100\n",
      "\u001b[1m9/9\u001b[0m \u001b[32m━━━━━━━━━━━━━━━━━━━━\u001b[0m\u001b[37m\u001b[0m \u001b[1m0s\u001b[0m 19ms/step - loss: 0.0137 - val_loss: 0.0171\n",
      "Epoch 36/100\n",
      "\u001b[1m9/9\u001b[0m \u001b[32m━━━━━━━━━━━━━━━━━━━━\u001b[0m\u001b[37m\u001b[0m \u001b[1m0s\u001b[0m 20ms/step - loss: 0.0151 - val_loss: 0.0166\n",
      "Epoch 37/100\n",
      "\u001b[1m9/9\u001b[0m \u001b[32m━━━━━━━━━━━━━━━━━━━━\u001b[0m\u001b[37m\u001b[0m \u001b[1m0s\u001b[0m 18ms/step - loss: 0.0131 - val_loss: 0.0167\n",
      "Epoch 38/100\n",
      "\u001b[1m9/9\u001b[0m \u001b[32m━━━━━━━━━━━━━━━━━━━━\u001b[0m\u001b[37m\u001b[0m \u001b[1m0s\u001b[0m 23ms/step - loss: 0.0133 - val_loss: 0.0176\n",
      "Epoch 39/100\n",
      "\u001b[1m9/9\u001b[0m \u001b[32m━━━━━━━━━━━━━━━━━━━━\u001b[0m\u001b[37m\u001b[0m \u001b[1m0s\u001b[0m 20ms/step - loss: 0.0119 - val_loss: 0.0164\n",
      "Epoch 40/100\n",
      "\u001b[1m9/9\u001b[0m \u001b[32m━━━━━━━━━━━━━━━━━━━━\u001b[0m\u001b[37m\u001b[0m \u001b[1m0s\u001b[0m 21ms/step - loss: 0.0133 - val_loss: 0.0198\n",
      "Epoch 41/100\n",
      "\u001b[1m9/9\u001b[0m \u001b[32m━━━━━━━━━━━━━━━━━━━━\u001b[0m\u001b[37m\u001b[0m \u001b[1m0s\u001b[0m 20ms/step - loss: 0.0131 - val_loss: 0.0161\n",
      "Epoch 42/100\n",
      "\u001b[1m9/9\u001b[0m \u001b[32m━━━━━━━━━━━━━━━━━━━━\u001b[0m\u001b[37m\u001b[0m \u001b[1m0s\u001b[0m 19ms/step - loss: 0.0139 - val_loss: 0.0172\n",
      "Epoch 43/100\n",
      "\u001b[1m9/9\u001b[0m \u001b[32m━━━━━━━━━━━━━━━━━━━━\u001b[0m\u001b[37m\u001b[0m \u001b[1m0s\u001b[0m 19ms/step - loss: 0.0133 - val_loss: 0.0159\n",
      "Epoch 44/100\n",
      "\u001b[1m9/9\u001b[0m \u001b[32m━━━━━━━━━━━━━━━━━━━━\u001b[0m\u001b[37m\u001b[0m \u001b[1m0s\u001b[0m 23ms/step - loss: 0.0144 - val_loss: 0.0177\n",
      "Epoch 45/100\n",
      "\u001b[1m9/9\u001b[0m \u001b[32m━━━━━━━━━━━━━━━━━━━━\u001b[0m\u001b[37m\u001b[0m \u001b[1m0s\u001b[0m 21ms/step - loss: 0.0134 - val_loss: 0.0156\n",
      "Epoch 46/100\n",
      "\u001b[1m9/9\u001b[0m \u001b[32m━━━━━━━━━━━━━━━━━━━━\u001b[0m\u001b[37m\u001b[0m \u001b[1m0s\u001b[0m 20ms/step - loss: 0.0127 - val_loss: 0.0154\n",
      "Epoch 47/100\n",
      "\u001b[1m9/9\u001b[0m \u001b[32m━━━━━━━━━━━━━━━━━━━━\u001b[0m\u001b[37m\u001b[0m \u001b[1m0s\u001b[0m 19ms/step - loss: 0.0136 - val_loss: 0.0153\n",
      "Epoch 48/100\n",
      "\u001b[1m9/9\u001b[0m \u001b[32m━━━━━━━━━━━━━━━━━━━━\u001b[0m\u001b[37m\u001b[0m \u001b[1m0s\u001b[0m 20ms/step - loss: 0.0124 - val_loss: 0.0162\n",
      "Epoch 49/100\n",
      "\u001b[1m9/9\u001b[0m \u001b[32m━━━━━━━━━━━━━━━━━━━━\u001b[0m\u001b[37m\u001b[0m \u001b[1m0s\u001b[0m 19ms/step - loss: 0.0130 - val_loss: 0.0187\n",
      "Epoch 50/100\n",
      "\u001b[1m9/9\u001b[0m \u001b[32m━━━━━━━━━━━━━━━━━━━━\u001b[0m\u001b[37m\u001b[0m \u001b[1m0s\u001b[0m 19ms/step - loss: 0.0120 - val_loss: 0.0146\n",
      "Epoch 51/100\n",
      "\u001b[1m9/9\u001b[0m \u001b[32m━━━━━━━━━━━━━━━━━━━━\u001b[0m\u001b[37m\u001b[0m \u001b[1m0s\u001b[0m 19ms/step - loss: 0.0128 - val_loss: 0.0146\n",
      "Epoch 52/100\n",
      "\u001b[1m9/9\u001b[0m \u001b[32m━━━━━━━━━━━━━━━━━━━━\u001b[0m\u001b[37m\u001b[0m \u001b[1m0s\u001b[0m 17ms/step - loss: 0.0118 - val_loss: 0.0191\n",
      "Epoch 53/100\n",
      "\u001b[1m9/9\u001b[0m \u001b[32m━━━━━━━━━━━━━━━━━━━━\u001b[0m\u001b[37m\u001b[0m \u001b[1m0s\u001b[0m 18ms/step - loss: 0.0119 - val_loss: 0.0141\n",
      "Epoch 54/100\n",
      "\u001b[1m9/9\u001b[0m \u001b[32m━━━━━━━━━━━━━━━━━━━━\u001b[0m\u001b[37m\u001b[0m \u001b[1m0s\u001b[0m 27ms/step - loss: 0.0122 - val_loss: 0.0145\n",
      "Epoch 55/100\n",
      "\u001b[1m9/9\u001b[0m \u001b[32m━━━━━━━━━━━━━━━━━━━━\u001b[0m\u001b[37m\u001b[0m \u001b[1m0s\u001b[0m 19ms/step - loss: 0.0124 - val_loss: 0.0148\n",
      "Epoch 56/100\n",
      "\u001b[1m9/9\u001b[0m \u001b[32m━━━━━━━━━━━━━━━━━━━━\u001b[0m\u001b[37m\u001b[0m \u001b[1m0s\u001b[0m 20ms/step - loss: 0.0098 - val_loss: 0.0134\n",
      "Epoch 57/100\n",
      "\u001b[1m9/9\u001b[0m \u001b[32m━━━━━━━━━━━━━━━━━━━━\u001b[0m\u001b[37m\u001b[0m \u001b[1m0s\u001b[0m 19ms/step - loss: 0.0110 - val_loss: 0.0133\n",
      "Epoch 58/100\n",
      "\u001b[1m9/9\u001b[0m \u001b[32m━━━━━━━━━━━━━━━━━━━━\u001b[0m\u001b[37m\u001b[0m \u001b[1m0s\u001b[0m 19ms/step - loss: 0.0100 - val_loss: 0.0131\n",
      "Epoch 59/100\n",
      "\u001b[1m9/9\u001b[0m \u001b[32m━━━━━━━━━━━━━━━━━━━━\u001b[0m\u001b[37m\u001b[0m \u001b[1m0s\u001b[0m 20ms/step - loss: 0.0103 - val_loss: 0.0125\n",
      "Epoch 60/100\n",
      "\u001b[1m9/9\u001b[0m \u001b[32m━━━━━━━━━━━━━━━━━━━━\u001b[0m\u001b[37m\u001b[0m \u001b[1m0s\u001b[0m 20ms/step - loss: 0.0107 - val_loss: 0.0150\n",
      "Epoch 61/100\n",
      "\u001b[1m9/9\u001b[0m \u001b[32m━━━━━━━━━━━━━━━━━━━━\u001b[0m\u001b[37m\u001b[0m \u001b[1m0s\u001b[0m 22ms/step - loss: 0.0109 - val_loss: 0.0185\n",
      "Epoch 62/100\n",
      "\u001b[1m9/9\u001b[0m \u001b[32m━━━━━━━━━━━━━━━━━━━━\u001b[0m\u001b[37m\u001b[0m \u001b[1m0s\u001b[0m 25ms/step - loss: 0.0101 - val_loss: 0.0154\n",
      "Epoch 63/100\n",
      "\u001b[1m9/9\u001b[0m \u001b[32m━━━━━━━━━━━━━━━━━━━━\u001b[0m\u001b[37m\u001b[0m \u001b[1m0s\u001b[0m 24ms/step - loss: 0.0120 - val_loss: 0.0137\n",
      "Epoch 64/100\n",
      "\u001b[1m9/9\u001b[0m \u001b[32m━━━━━━━━━━━━━━━━━━━━\u001b[0m\u001b[37m\u001b[0m \u001b[1m0s\u001b[0m 26ms/step - loss: 0.0102 - val_loss: 0.0125\n",
      "Epoch 65/100\n",
      "\u001b[1m9/9\u001b[0m \u001b[32m━━━━━━━━━━━━━━━━━━━━\u001b[0m\u001b[37m\u001b[0m \u001b[1m0s\u001b[0m 33ms/step - loss: 0.0102 - val_loss: 0.0131\n",
      "Epoch 66/100\n",
      "\u001b[1m9/9\u001b[0m \u001b[32m━━━━━━━━━━━━━━━━━━━━\u001b[0m\u001b[37m\u001b[0m \u001b[1m0s\u001b[0m 20ms/step - loss: 0.0084 - val_loss: 0.0118\n",
      "Epoch 67/100\n",
      "\u001b[1m9/9\u001b[0m \u001b[32m━━━━━━━━━━━━━━━━━━━━\u001b[0m\u001b[37m\u001b[0m \u001b[1m0s\u001b[0m 20ms/step - loss: 0.0083 - val_loss: 0.0142\n",
      "Epoch 68/100\n",
      "\u001b[1m9/9\u001b[0m \u001b[32m━━━━━━━━━━━━━━━━━━━━\u001b[0m\u001b[37m\u001b[0m \u001b[1m0s\u001b[0m 20ms/step - loss: 0.0110 - val_loss: 0.0133\n",
      "Epoch 69/100\n",
      "\u001b[1m9/9\u001b[0m \u001b[32m━━━━━━━━━━━━━━━━━━━━\u001b[0m\u001b[37m\u001b[0m \u001b[1m0s\u001b[0m 21ms/step - loss: 0.0102 - val_loss: 0.0172\n",
      "Epoch 70/100\n",
      "\u001b[1m9/9\u001b[0m \u001b[32m━━━━━━━━━━━━━━━━━━━━\u001b[0m\u001b[37m\u001b[0m \u001b[1m0s\u001b[0m 20ms/step - loss: 0.0099 - val_loss: 0.0135\n",
      "Epoch 71/100\n",
      "\u001b[1m9/9\u001b[0m \u001b[32m━━━━━━━━━━━━━━━━━━━━\u001b[0m\u001b[37m\u001b[0m \u001b[1m0s\u001b[0m 20ms/step - loss: 0.0114 - val_loss: 0.0115\n",
      "Epoch 72/100\n",
      "\u001b[1m9/9\u001b[0m \u001b[32m━━━━━━━━━━━━━━━━━━━━\u001b[0m\u001b[37m\u001b[0m \u001b[1m0s\u001b[0m 20ms/step - loss: 0.0090 - val_loss: 0.0167\n",
      "Epoch 73/100\n",
      "\u001b[1m9/9\u001b[0m \u001b[32m━━━━━━━━━━━━━━━━━━━━\u001b[0m\u001b[37m\u001b[0m \u001b[1m0s\u001b[0m 22ms/step - loss: 0.0108 - val_loss: 0.0139\n",
      "Epoch 74/100\n",
      "\u001b[1m9/9\u001b[0m \u001b[32m━━━━━━━━━━━━━━━━━━━━\u001b[0m\u001b[37m\u001b[0m \u001b[1m0s\u001b[0m 20ms/step - loss: 0.0095 - val_loss: 0.0119\n",
      "Epoch 75/100\n",
      "\u001b[1m9/9\u001b[0m \u001b[32m━━━━━━━━━━━━━━━━━━━━\u001b[0m\u001b[37m\u001b[0m \u001b[1m0s\u001b[0m 20ms/step - loss: 0.0079 - val_loss: 0.0124\n",
      "Epoch 76/100\n",
      "\u001b[1m9/9\u001b[0m \u001b[32m━━━━━━━━━━━━━━━━━━━━\u001b[0m\u001b[37m\u001b[0m \u001b[1m0s\u001b[0m 23ms/step - loss: 0.0090 - val_loss: 0.0124\n",
      "Epoch 77/100\n",
      "\u001b[1m9/9\u001b[0m \u001b[32m━━━━━━━━━━━━━━━━━━━━\u001b[0m\u001b[37m\u001b[0m \u001b[1m0s\u001b[0m 22ms/step - loss: 0.0106 - val_loss: 0.0124\n",
      "Epoch 78/100\n",
      "\u001b[1m9/9\u001b[0m \u001b[32m━━━━━━━━━━━━━━━━━━━━\u001b[0m\u001b[37m\u001b[0m \u001b[1m0s\u001b[0m 26ms/step - loss: 0.0094 - val_loss: 0.0117\n",
      "Epoch 79/100\n",
      "\u001b[1m9/9\u001b[0m \u001b[32m━━━━━━━━━━━━━━━━━━━━\u001b[0m\u001b[37m\u001b[0m \u001b[1m0s\u001b[0m 28ms/step - loss: 0.0082 - val_loss: 0.0110\n",
      "Epoch 80/100\n",
      "\u001b[1m9/9\u001b[0m \u001b[32m━━━━━━━━━━━━━━━━━━━━\u001b[0m\u001b[37m\u001b[0m \u001b[1m0s\u001b[0m 23ms/step - loss: 0.0095 - val_loss: 0.0110\n",
      "Epoch 81/100\n",
      "\u001b[1m9/9\u001b[0m \u001b[32m━━━━━━━━━━━━━━━━━━━━\u001b[0m\u001b[37m\u001b[0m \u001b[1m0s\u001b[0m 19ms/step - loss: 0.0102 - val_loss: 0.0129\n",
      "Epoch 82/100\n",
      "\u001b[1m9/9\u001b[0m \u001b[32m━━━━━━━━━━━━━━━━━━━━\u001b[0m\u001b[37m\u001b[0m \u001b[1m0s\u001b[0m 22ms/step - loss: 0.0087 - val_loss: 0.0120\n",
      "Epoch 83/100\n",
      "\u001b[1m9/9\u001b[0m \u001b[32m━━━━━━━━━━━━━━━━━━━━\u001b[0m\u001b[37m\u001b[0m \u001b[1m0s\u001b[0m 20ms/step - loss: 0.0083 - val_loss: 0.0117\n",
      "Epoch 84/100\n",
      "\u001b[1m9/9\u001b[0m \u001b[32m━━━━━━━━━━━━━━━━━━━━\u001b[0m\u001b[37m\u001b[0m \u001b[1m0s\u001b[0m 22ms/step - loss: 0.0085 - val_loss: 0.0102\n",
      "Epoch 85/100\n",
      "\u001b[1m9/9\u001b[0m \u001b[32m━━━━━━━━━━━━━━━━━━━━\u001b[0m\u001b[37m\u001b[0m \u001b[1m0s\u001b[0m 20ms/step - loss: 0.0084 - val_loss: 0.0100\n",
      "Epoch 86/100\n",
      "\u001b[1m9/9\u001b[0m \u001b[32m━━━━━━━━━━━━━━━━━━━━\u001b[0m\u001b[37m\u001b[0m \u001b[1m0s\u001b[0m 22ms/step - loss: 0.0080 - val_loss: 0.0103\n",
      "Epoch 87/100\n",
      "\u001b[1m9/9\u001b[0m \u001b[32m━━━━━━━━━━━━━━━━━━━━\u001b[0m\u001b[37m\u001b[0m \u001b[1m0s\u001b[0m 22ms/step - loss: 0.0070 - val_loss: 0.0107\n",
      "Epoch 88/100\n",
      "\u001b[1m9/9\u001b[0m \u001b[32m━━━━━━━━━━━━━━━━━━━━\u001b[0m\u001b[37m\u001b[0m \u001b[1m0s\u001b[0m 20ms/step - loss: 0.0080 - val_loss: 0.0101\n",
      "Epoch 89/100\n",
      "\u001b[1m9/9\u001b[0m \u001b[32m━━━━━━━━━━━━━━━━━━━━\u001b[0m\u001b[37m\u001b[0m \u001b[1m0s\u001b[0m 20ms/step - loss: 0.0086 - val_loss: 0.0115\n",
      "Epoch 90/100\n",
      "\u001b[1m9/9\u001b[0m \u001b[32m━━━━━━━━━━━━━━━━━━━━\u001b[0m\u001b[37m\u001b[0m \u001b[1m0s\u001b[0m 19ms/step - loss: 0.0077 - val_loss: 0.0094\n",
      "Epoch 91/100\n",
      "\u001b[1m9/9\u001b[0m \u001b[32m━━━━━━━━━━━━━━━━━━━━\u001b[0m\u001b[37m\u001b[0m \u001b[1m0s\u001b[0m 21ms/step - loss: 0.0085 - val_loss: 0.0093\n",
      "Epoch 92/100\n",
      "\u001b[1m9/9\u001b[0m \u001b[32m━━━━━━━━━━━━━━━━━━━━\u001b[0m\u001b[37m\u001b[0m \u001b[1m0s\u001b[0m 23ms/step - loss: 0.0071 - val_loss: 0.0098\n",
      "Epoch 93/100\n",
      "\u001b[1m9/9\u001b[0m \u001b[32m━━━━━━━━━━━━━━━━━━━━\u001b[0m\u001b[37m\u001b[0m \u001b[1m0s\u001b[0m 23ms/step - loss: 0.0093 - val_loss: 0.0090\n",
      "Epoch 94/100\n",
      "\u001b[1m9/9\u001b[0m \u001b[32m━━━━━━━━━━━━━━━━━━━━\u001b[0m\u001b[37m\u001b[0m \u001b[1m0s\u001b[0m 24ms/step - loss: 0.0082 - val_loss: 0.0089\n",
      "Epoch 95/100\n",
      "\u001b[1m9/9\u001b[0m \u001b[32m━━━━━━━━━━━━━━━━━━━━\u001b[0m\u001b[37m\u001b[0m \u001b[1m0s\u001b[0m 22ms/step - loss: 0.0080 - val_loss: 0.0089\n",
      "Epoch 96/100\n",
      "\u001b[1m9/9\u001b[0m \u001b[32m━━━━━━━━━━━━━━━━━━━━\u001b[0m\u001b[37m\u001b[0m \u001b[1m0s\u001b[0m 21ms/step - loss: 0.0084 - val_loss: 0.0090\n",
      "Epoch 97/100\n",
      "\u001b[1m9/9\u001b[0m \u001b[32m━━━━━━━━━━━━━━━━━━━━\u001b[0m\u001b[37m\u001b[0m \u001b[1m0s\u001b[0m 19ms/step - loss: 0.0079 - val_loss: 0.0091\n",
      "Epoch 98/100\n",
      "\u001b[1m9/9\u001b[0m \u001b[32m━━━━━━━━━━━━━━━━━━━━\u001b[0m\u001b[37m\u001b[0m \u001b[1m0s\u001b[0m 19ms/step - loss: 0.0077 - val_loss: 0.0087\n",
      "Epoch 99/100\n",
      "\u001b[1m9/9\u001b[0m \u001b[32m━━━━━━━━━━━━━━━━━━━━\u001b[0m\u001b[37m\u001b[0m \u001b[1m0s\u001b[0m 17ms/step - loss: 0.0084 - val_loss: 0.0086\n",
      "Epoch 100/100\n",
      "\u001b[1m9/9\u001b[0m \u001b[32m━━━━━━━━━━━━━━━━━━━━\u001b[0m\u001b[37m\u001b[0m \u001b[1m0s\u001b[0m 19ms/step - loss: 0.0083 - val_loss: 0.0096\n",
      "Training model 2/3: gru_model\n",
      "Epoch 1/100\n",
      "\u001b[1m9/9\u001b[0m \u001b[32m━━━━━━━━━━━━━━━━━━━━\u001b[0m\u001b[37m\u001b[0m \u001b[1m6s\u001b[0m 97ms/step - loss: 0.1305 - val_loss: 0.0764\n",
      "Epoch 2/100\n",
      "\u001b[1m9/9\u001b[0m \u001b[32m━━━━━━━━━━━━━━━━━━━━\u001b[0m\u001b[37m\u001b[0m \u001b[1m0s\u001b[0m 35ms/step - loss: 0.0221 - val_loss: 0.0132\n",
      "Epoch 3/100\n",
      "\u001b[1m9/9\u001b[0m \u001b[32m━━━━━━━━━━━━━━━━━━━━\u001b[0m\u001b[37m\u001b[0m \u001b[1m0s\u001b[0m 25ms/step - loss: 0.0202 - val_loss: 0.0151\n",
      "Epoch 4/100\n",
      "\u001b[1m9/9\u001b[0m \u001b[32m━━━━━━━━━━━━━━━━━━━━\u001b[0m\u001b[37m\u001b[0m \u001b[1m0s\u001b[0m 25ms/step - loss: 0.0123 - val_loss: 0.0293\n",
      "Epoch 5/100\n",
      "\u001b[1m9/9\u001b[0m \u001b[32m━━━━━━━━━━━━━━━━━━━━\u001b[0m\u001b[37m\u001b[0m \u001b[1m0s\u001b[0m 25ms/step - loss: 0.0141 - val_loss: 0.0197\n",
      "Epoch 6/100\n",
      "\u001b[1m9/9\u001b[0m \u001b[32m━━━━━━━━━━━━━━━━━━━━\u001b[0m\u001b[37m\u001b[0m \u001b[1m0s\u001b[0m 27ms/step - loss: 0.0113 - val_loss: 0.0148\n",
      "Epoch 7/100\n",
      "\u001b[1m9/9\u001b[0m \u001b[32m━━━━━━━━━━━━━━━━━━━━\u001b[0m\u001b[37m\u001b[0m \u001b[1m0s\u001b[0m 25ms/step - loss: 0.0120 - val_loss: 0.0158\n",
      "Epoch 8/100\n",
      "\u001b[1m9/9\u001b[0m \u001b[32m━━━━━━━━━━━━━━━━━━━━\u001b[0m\u001b[37m\u001b[0m \u001b[1m0s\u001b[0m 24ms/step - loss: 0.0118 - val_loss: 0.0166\n",
      "Epoch 9/100\n",
      "\u001b[1m9/9\u001b[0m \u001b[32m━━━━━━━━━━━━━━━━━━━━\u001b[0m\u001b[37m\u001b[0m \u001b[1m0s\u001b[0m 22ms/step - loss: 0.0104 - val_loss: 0.0122\n",
      "Epoch 10/100\n",
      "\u001b[1m9/9\u001b[0m \u001b[32m━━━━━━━━━━━━━━━━━━━━\u001b[0m\u001b[37m\u001b[0m \u001b[1m0s\u001b[0m 23ms/step - loss: 0.0098 - val_loss: 0.0147\n",
      "Epoch 11/100\n",
      "\u001b[1m9/9\u001b[0m \u001b[32m━━━━━━━━━━━━━━━━━━━━\u001b[0m\u001b[37m\u001b[0m \u001b[1m0s\u001b[0m 23ms/step - loss: 0.0107 - val_loss: 0.0128\n",
      "Epoch 12/100\n",
      "\u001b[1m9/9\u001b[0m \u001b[32m━━━━━━━━━━━━━━━━━━━━\u001b[0m\u001b[37m\u001b[0m \u001b[1m0s\u001b[0m 22ms/step - loss: 0.0092 - val_loss: 0.0120\n",
      "Epoch 13/100\n",
      "\u001b[1m9/9\u001b[0m \u001b[32m━━━━━━━━━━━━━━━━━━━━\u001b[0m\u001b[37m\u001b[0m \u001b[1m0s\u001b[0m 23ms/step - loss: 0.0097 - val_loss: 0.0123\n",
      "Epoch 14/100\n",
      "\u001b[1m9/9\u001b[0m \u001b[32m━━━━━━━━━━━━━━━━━━━━\u001b[0m\u001b[37m\u001b[0m \u001b[1m0s\u001b[0m 26ms/step - loss: 0.0094 - val_loss: 0.0116\n",
      "Epoch 15/100\n",
      "\u001b[1m9/9\u001b[0m \u001b[32m━━━━━━━━━━━━━━━━━━━━\u001b[0m\u001b[37m\u001b[0m \u001b[1m0s\u001b[0m 36ms/step - loss: 0.0097 - val_loss: 0.0113\n",
      "Epoch 16/100\n",
      "\u001b[1m9/9\u001b[0m \u001b[32m━━━━━━━━━━━━━━━━━━━━\u001b[0m\u001b[37m\u001b[0m \u001b[1m0s\u001b[0m 28ms/step - loss: 0.0103 - val_loss: 0.0109\n",
      "Epoch 17/100\n",
      "\u001b[1m9/9\u001b[0m \u001b[32m━━━━━━━━━━━━━━━━━━━━\u001b[0m\u001b[37m\u001b[0m \u001b[1m0s\u001b[0m 27ms/step - loss: 0.0089 - val_loss: 0.0105\n",
      "Epoch 18/100\n",
      "\u001b[1m9/9\u001b[0m \u001b[32m━━━━━━━━━━━━━━━━━━━━\u001b[0m\u001b[37m\u001b[0m \u001b[1m0s\u001b[0m 28ms/step - loss: 0.0097 - val_loss: 0.0105\n",
      "Epoch 19/100\n",
      "\u001b[1m9/9\u001b[0m \u001b[32m━━━━━━━━━━━━━━━━━━━━\u001b[0m\u001b[37m\u001b[0m \u001b[1m0s\u001b[0m 28ms/step - loss: 0.0096 - val_loss: 0.0104\n",
      "Epoch 20/100\n",
      "\u001b[1m9/9\u001b[0m \u001b[32m━━━━━━━━━━━━━━━━━━━━\u001b[0m\u001b[37m\u001b[0m \u001b[1m0s\u001b[0m 27ms/step - loss: 0.0096 - val_loss: 0.0102\n",
      "Epoch 21/100\n",
      "\u001b[1m9/9\u001b[0m \u001b[32m━━━━━━━━━━━━━━━━━━━━\u001b[0m\u001b[37m\u001b[0m \u001b[1m0s\u001b[0m 27ms/step - loss: 0.0081 - val_loss: 0.0103\n",
      "Epoch 22/100\n",
      "\u001b[1m9/9\u001b[0m \u001b[32m━━━━━━━━━━━━━━━━━━━━\u001b[0m\u001b[37m\u001b[0m \u001b[1m0s\u001b[0m 25ms/step - loss: 0.0093 - val_loss: 0.0095\n",
      "Epoch 23/100\n",
      "\u001b[1m9/9\u001b[0m \u001b[32m━━━━━━━━━━━━━━━━━━━━\u001b[0m\u001b[37m\u001b[0m \u001b[1m0s\u001b[0m 30ms/step - loss: 0.0082 - val_loss: 0.0096\n",
      "Epoch 24/100\n",
      "\u001b[1m9/9\u001b[0m \u001b[32m━━━━━━━━━━━━━━━━━━━━\u001b[0m\u001b[37m\u001b[0m \u001b[1m0s\u001b[0m 23ms/step - loss: 0.0086 - val_loss: 0.0093\n",
      "Epoch 25/100\n",
      "\u001b[1m9/9\u001b[0m \u001b[32m━━━━━━━━━━━━━━━━━━━━\u001b[0m\u001b[37m\u001b[0m \u001b[1m0s\u001b[0m 23ms/step - loss: 0.0084 - val_loss: 0.0089\n",
      "Epoch 26/100\n",
      "\u001b[1m9/9\u001b[0m \u001b[32m━━━━━━━━━━━━━━━━━━━━\u001b[0m\u001b[37m\u001b[0m \u001b[1m0s\u001b[0m 27ms/step - loss: 0.0078 - val_loss: 0.0097\n",
      "Epoch 27/100\n",
      "\u001b[1m9/9\u001b[0m \u001b[32m━━━━━━━━━━━━━━━━━━━━\u001b[0m\u001b[37m\u001b[0m \u001b[1m0s\u001b[0m 28ms/step - loss: 0.0085 - val_loss: 0.0084\n",
      "Epoch 28/100\n",
      "\u001b[1m9/9\u001b[0m \u001b[32m━━━━━━━━━━━━━━━━━━━━\u001b[0m\u001b[37m\u001b[0m \u001b[1m0s\u001b[0m 25ms/step - loss: 0.0079 - val_loss: 0.0095\n",
      "Epoch 29/100\n",
      "\u001b[1m9/9\u001b[0m \u001b[32m━━━━━━━━━━━━━━━━━━━━\u001b[0m\u001b[37m\u001b[0m \u001b[1m0s\u001b[0m 27ms/step - loss: 0.0071 - val_loss: 0.0086\n",
      "Epoch 30/100\n",
      "\u001b[1m9/9\u001b[0m \u001b[32m━━━━━━━━━━━━━━━━━━━━\u001b[0m\u001b[37m\u001b[0m \u001b[1m0s\u001b[0m 28ms/step - loss: 0.0085 - val_loss: 0.0084\n",
      "Epoch 31/100\n",
      "\u001b[1m9/9\u001b[0m \u001b[32m━━━━━━━━━━━━━━━━━━━━\u001b[0m\u001b[37m\u001b[0m \u001b[1m0s\u001b[0m 32ms/step - loss: 0.0077 - val_loss: 0.0089\n",
      "Epoch 32/100\n",
      "\u001b[1m9/9\u001b[0m \u001b[32m━━━━━━━━━━━━━━━━━━━━\u001b[0m\u001b[37m\u001b[0m \u001b[1m0s\u001b[0m 26ms/step - loss: 0.0078 - val_loss: 0.0080\n",
      "Epoch 33/100\n",
      "\u001b[1m9/9\u001b[0m \u001b[32m━━━━━━━━━━━━━━━━━━━━\u001b[0m\u001b[37m\u001b[0m \u001b[1m0s\u001b[0m 28ms/step - loss: 0.0072 - val_loss: 0.0090\n",
      "Epoch 34/100\n",
      "\u001b[1m9/9\u001b[0m \u001b[32m━━━━━━━━━━━━━━━━━━━━\u001b[0m\u001b[37m\u001b[0m \u001b[1m0s\u001b[0m 27ms/step - loss: 0.0079 - val_loss: 0.0078\n",
      "Epoch 35/100\n",
      "\u001b[1m9/9\u001b[0m \u001b[32m━━━━━━━━━━━━━━━━━━━━\u001b[0m\u001b[37m\u001b[0m \u001b[1m0s\u001b[0m 25ms/step - loss: 0.0080 - val_loss: 0.0082\n",
      "Epoch 36/100\n",
      "\u001b[1m9/9\u001b[0m \u001b[32m━━━━━━━━━━━━━━━━━━━━\u001b[0m\u001b[37m\u001b[0m \u001b[1m0s\u001b[0m 27ms/step - loss: 0.0073 - val_loss: 0.0078\n",
      "Epoch 37/100\n",
      "\u001b[1m9/9\u001b[0m \u001b[32m━━━━━━━━━━━━━━━━━━━━\u001b[0m\u001b[37m\u001b[0m \u001b[1m0s\u001b[0m 32ms/step - loss: 0.0080 - val_loss: 0.0086\n",
      "Epoch 38/100\n",
      "\u001b[1m9/9\u001b[0m \u001b[32m━━━━━━━━━━━━━━━━━━━━\u001b[0m\u001b[37m\u001b[0m \u001b[1m0s\u001b[0m 29ms/step - loss: 0.0069 - val_loss: 0.0073\n",
      "Epoch 39/100\n",
      "\u001b[1m9/9\u001b[0m \u001b[32m━━━━━━━━━━━━━━━━━━━━\u001b[0m\u001b[37m\u001b[0m \u001b[1m0s\u001b[0m 33ms/step - loss: 0.0069 - val_loss: 0.0085\n",
      "Epoch 40/100\n",
      "\u001b[1m9/9\u001b[0m \u001b[32m━━━━━━━━━━━━━━━━━━━━\u001b[0m\u001b[37m\u001b[0m \u001b[1m0s\u001b[0m 32ms/step - loss: 0.0072 - val_loss: 0.0072\n",
      "Epoch 41/100\n",
      "\u001b[1m9/9\u001b[0m \u001b[32m━━━━━━━━━━━━━━━━━━━━\u001b[0m\u001b[37m\u001b[0m \u001b[1m0s\u001b[0m 28ms/step - loss: 0.0077 - val_loss: 0.0093\n",
      "Epoch 42/100\n",
      "\u001b[1m9/9\u001b[0m \u001b[32m━━━━━━━━━━━━━━━━━━━━\u001b[0m\u001b[37m\u001b[0m \u001b[1m0s\u001b[0m 25ms/step - loss: 0.0076 - val_loss: 0.0071\n",
      "Epoch 43/100\n",
      "\u001b[1m9/9\u001b[0m \u001b[32m━━━━━━━━━━━━━━━━━━━━\u001b[0m\u001b[37m\u001b[0m \u001b[1m0s\u001b[0m 30ms/step - loss: 0.0070 - val_loss: 0.0086\n",
      "Epoch 44/100\n",
      "\u001b[1m9/9\u001b[0m \u001b[32m━━━━━━━━━━━━━━━━━━━━\u001b[0m\u001b[37m\u001b[0m \u001b[1m0s\u001b[0m 27ms/step - loss: 0.0073 - val_loss: 0.0069\n",
      "Epoch 45/100\n",
      "\u001b[1m9/9\u001b[0m \u001b[32m━━━━━━━━━━━━━━━━━━━━\u001b[0m\u001b[37m\u001b[0m \u001b[1m0s\u001b[0m 27ms/step - loss: 0.0070 - val_loss: 0.0082\n",
      "Epoch 46/100\n",
      "\u001b[1m9/9\u001b[0m \u001b[32m━━━━━━━━━━━━━━━━━━━━\u001b[0m\u001b[37m\u001b[0m \u001b[1m0s\u001b[0m 26ms/step - loss: 0.0071 - val_loss: 0.0072\n",
      "Epoch 47/100\n",
      "\u001b[1m9/9\u001b[0m \u001b[32m━━━━━━━━━━━━━━━━━━━━\u001b[0m\u001b[37m\u001b[0m \u001b[1m0s\u001b[0m 28ms/step - loss: 0.0065 - val_loss: 0.0074\n",
      "Epoch 48/100\n",
      "\u001b[1m9/9\u001b[0m \u001b[32m━━━━━━━━━━━━━━━━━━━━\u001b[0m\u001b[37m\u001b[0m \u001b[1m0s\u001b[0m 24ms/step - loss: 0.0063 - val_loss: 0.0085\n",
      "Epoch 49/100\n",
      "\u001b[1m9/9\u001b[0m \u001b[32m━━━━━━━━━━━━━━━━━━━━\u001b[0m\u001b[37m\u001b[0m \u001b[1m0s\u001b[0m 25ms/step - loss: 0.0071 - val_loss: 0.0067\n",
      "Epoch 50/100\n",
      "\u001b[1m9/9\u001b[0m \u001b[32m━━━━━━━━━━━━━━━━━━━━\u001b[0m\u001b[37m\u001b[0m \u001b[1m0s\u001b[0m 25ms/step - loss: 0.0069 - val_loss: 0.0081\n",
      "Epoch 51/100\n",
      "\u001b[1m9/9\u001b[0m \u001b[32m━━━━━━━━━━━━━━━━━━━━\u001b[0m\u001b[37m\u001b[0m \u001b[1m0s\u001b[0m 27ms/step - loss: 0.0072 - val_loss: 0.0068\n",
      "Epoch 52/100\n",
      "\u001b[1m9/9\u001b[0m \u001b[32m━━━━━━━━━━━━━━━━━━━━\u001b[0m\u001b[37m\u001b[0m \u001b[1m0s\u001b[0m 25ms/step - loss: 0.0071 - val_loss: 0.0068\n",
      "Epoch 53/100\n",
      "\u001b[1m9/9\u001b[0m \u001b[32m━━━━━━━━━━━━━━━━━━━━\u001b[0m\u001b[37m\u001b[0m \u001b[1m0s\u001b[0m 23ms/step - loss: 0.0067 - val_loss: 0.0073\n",
      "Epoch 54/100\n",
      "\u001b[1m9/9\u001b[0m \u001b[32m━━━━━━━━━━━━━━━━━━━━\u001b[0m\u001b[37m\u001b[0m \u001b[1m0s\u001b[0m 26ms/step - loss: 0.0070 - val_loss: 0.0073\n",
      "Epoch 55/100\n",
      "\u001b[1m9/9\u001b[0m \u001b[32m━━━━━━━━━━━━━━━━━━━━\u001b[0m\u001b[37m\u001b[0m \u001b[1m0s\u001b[0m 31ms/step - loss: 0.0070 - val_loss: 0.0069\n",
      "Epoch 56/100\n",
      "\u001b[1m9/9\u001b[0m \u001b[32m━━━━━━━━━━━━━━━━━━━━\u001b[0m\u001b[37m\u001b[0m \u001b[1m0s\u001b[0m 32ms/step - loss: 0.0067 - val_loss: 0.0068\n",
      "Epoch 57/100\n",
      "\u001b[1m9/9\u001b[0m \u001b[32m━━━━━━━━━━━━━━━━━━━━\u001b[0m\u001b[37m\u001b[0m \u001b[1m0s\u001b[0m 27ms/step - loss: 0.0071 - val_loss: 0.0071\n",
      "Epoch 58/100\n",
      "\u001b[1m9/9\u001b[0m \u001b[32m━━━━━━━━━━━━━━━━━━━━\u001b[0m\u001b[37m\u001b[0m \u001b[1m0s\u001b[0m 28ms/step - loss: 0.0066 - val_loss: 0.0065\n",
      "Epoch 59/100\n",
      "\u001b[1m9/9\u001b[0m \u001b[32m━━━━━━━━━━━━━━━━━━━━\u001b[0m\u001b[37m\u001b[0m \u001b[1m0s\u001b[0m 32ms/step - loss: 0.0064 - val_loss: 0.0072\n",
      "Epoch 60/100\n",
      "\u001b[1m9/9\u001b[0m \u001b[32m━━━━━━━━━━━━━━━━━━━━\u001b[0m\u001b[37m\u001b[0m \u001b[1m0s\u001b[0m 30ms/step - loss: 0.0068 - val_loss: 0.0072\n",
      "Epoch 61/100\n",
      "\u001b[1m9/9\u001b[0m \u001b[32m━━━━━━━━━━━━━━━━━━━━\u001b[0m\u001b[37m\u001b[0m \u001b[1m0s\u001b[0m 32ms/step - loss: 0.0066 - val_loss: 0.0065\n",
      "Epoch 62/100\n",
      "\u001b[1m9/9\u001b[0m \u001b[32m━━━━━━━━━━━━━━━━━━━━\u001b[0m\u001b[37m\u001b[0m \u001b[1m0s\u001b[0m 35ms/step - loss: 0.0061 - val_loss: 0.0067\n",
      "Epoch 63/100\n",
      "\u001b[1m9/9\u001b[0m \u001b[32m━━━━━━━━━━━━━━━━━━━━\u001b[0m\u001b[37m\u001b[0m \u001b[1m1s\u001b[0m 48ms/step - loss: 0.0073 - val_loss: 0.0068\n",
      "Epoch 64/100\n",
      "\u001b[1m9/9\u001b[0m \u001b[32m━━━━━━━━━━━━━━━━━━━━\u001b[0m\u001b[37m\u001b[0m \u001b[1m0s\u001b[0m 27ms/step - loss: 0.0065 - val_loss: 0.0065\n",
      "Epoch 65/100\n",
      "\u001b[1m9/9\u001b[0m \u001b[32m━━━━━━━━━━━━━━━━━━━━\u001b[0m\u001b[37m\u001b[0m \u001b[1m0s\u001b[0m 28ms/step - loss: 0.0063 - val_loss: 0.0066\n",
      "Epoch 66/100\n",
      "\u001b[1m9/9\u001b[0m \u001b[32m━━━━━━━━━━━━━━━━━━━━\u001b[0m\u001b[37m\u001b[0m \u001b[1m0s\u001b[0m 31ms/step - loss: 0.0073 - val_loss: 0.0068\n",
      "Epoch 67/100\n",
      "\u001b[1m9/9\u001b[0m \u001b[32m━━━━━━━━━━━━━━━━━━━━\u001b[0m\u001b[37m\u001b[0m \u001b[1m0s\u001b[0m 46ms/step - loss: 0.0057 - val_loss: 0.0064\n",
      "Epoch 68/100\n",
      "\u001b[1m9/9\u001b[0m \u001b[32m━━━━━━━━━━━━━━━━━━━━\u001b[0m\u001b[37m\u001b[0m \u001b[1m0s\u001b[0m 42ms/step - loss: 0.0068 - val_loss: 0.0064\n",
      "Epoch 69/100\n",
      "\u001b[1m9/9\u001b[0m \u001b[32m━━━━━━━━━━━━━━━━━━━━\u001b[0m\u001b[37m\u001b[0m \u001b[1m0s\u001b[0m 46ms/step - loss: 0.0068 - val_loss: 0.0073\n",
      "Epoch 70/100\n",
      "\u001b[1m9/9\u001b[0m \u001b[32m━━━━━━━━━━━━━━━━━━━━\u001b[0m\u001b[37m\u001b[0m \u001b[1m0s\u001b[0m 33ms/step - loss: 0.0069 - val_loss: 0.0072\n",
      "Epoch 71/100\n",
      "\u001b[1m9/9\u001b[0m \u001b[32m━━━━━━━━━━━━━━━━━━━━\u001b[0m\u001b[37m\u001b[0m \u001b[1m0s\u001b[0m 38ms/step - loss: 0.0073 - val_loss: 0.0073\n",
      "Epoch 72/100\n",
      "\u001b[1m9/9\u001b[0m \u001b[32m━━━━━━━━━━━━━━━━━━━━\u001b[0m\u001b[37m\u001b[0m \u001b[1m0s\u001b[0m 32ms/step - loss: 0.0069 - val_loss: 0.0068\n",
      "Epoch 73/100\n",
      "\u001b[1m9/9\u001b[0m \u001b[32m━━━━━━━━━━━━━━━━━━━━\u001b[0m\u001b[37m\u001b[0m \u001b[1m0s\u001b[0m 33ms/step - loss: 0.0069 - val_loss: 0.0068\n",
      "Epoch 74/100\n",
      "\u001b[1m9/9\u001b[0m \u001b[32m━━━━━━━━━━━━━━━━━━━━\u001b[0m\u001b[37m\u001b[0m \u001b[1m0s\u001b[0m 37ms/step - loss: 0.0060 - val_loss: 0.0073\n",
      "Epoch 75/100\n",
      "\u001b[1m9/9\u001b[0m \u001b[32m━━━━━━━━━━━━━━━━━━━━\u001b[0m\u001b[37m\u001b[0m \u001b[1m0s\u001b[0m 37ms/step - loss: 0.0080 - val_loss: 0.0067\n",
      "Epoch 76/100\n",
      "\u001b[1m9/9\u001b[0m \u001b[32m━━━━━━━━━━━━━━━━━━━━\u001b[0m\u001b[37m\u001b[0m \u001b[1m0s\u001b[0m 34ms/step - loss: 0.0068 - val_loss: 0.0070\n",
      "Epoch 77/100\n",
      "\u001b[1m9/9\u001b[0m \u001b[32m━━━━━━━━━━━━━━━━━━━━\u001b[0m\u001b[37m\u001b[0m \u001b[1m0s\u001b[0m 28ms/step - loss: 0.0058 - val_loss: 0.0075\n",
      "Epoch 78/100\n",
      "\u001b[1m9/9\u001b[0m \u001b[32m━━━━━━━━━━━━━━━━━━━━\u001b[0m\u001b[37m\u001b[0m \u001b[1m0s\u001b[0m 35ms/step - loss: 0.0065 - val_loss: 0.0064\n",
      "Epoch 79/100\n",
      "\u001b[1m9/9\u001b[0m \u001b[32m━━━━━━━━━━━━━━━━━━━━\u001b[0m\u001b[37m\u001b[0m \u001b[1m0s\u001b[0m 33ms/step - loss: 0.0065 - val_loss: 0.0074\n",
      "Epoch 80/100\n",
      "\u001b[1m9/9\u001b[0m \u001b[32m━━━━━━━━━━━━━━━━━━━━\u001b[0m\u001b[37m\u001b[0m \u001b[1m0s\u001b[0m 40ms/step - loss: 0.0057 - val_loss: 0.0064\n",
      "Epoch 81/100\n",
      "\u001b[1m9/9\u001b[0m \u001b[32m━━━━━━━━━━━━━━━━━━━━\u001b[0m\u001b[37m\u001b[0m \u001b[1m0s\u001b[0m 33ms/step - loss: 0.0068 - val_loss: 0.0069\n",
      "Epoch 82/100\n",
      "\u001b[1m9/9\u001b[0m \u001b[32m━━━━━━━━━━━━━━━━━━━━\u001b[0m\u001b[37m\u001b[0m \u001b[1m0s\u001b[0m 31ms/step - loss: 0.0061 - val_loss: 0.0064\n",
      "Epoch 83/100\n",
      "\u001b[1m9/9\u001b[0m \u001b[32m━━━━━━━━━━━━━━━━━━━━\u001b[0m\u001b[37m\u001b[0m \u001b[1m0s\u001b[0m 32ms/step - loss: 0.0067 - val_loss: 0.0073\n",
      "Epoch 84/100\n",
      "\u001b[1m9/9\u001b[0m \u001b[32m━━━━━━━━━━━━━━━━━━━━\u001b[0m\u001b[37m\u001b[0m \u001b[1m0s\u001b[0m 34ms/step - loss: 0.0064 - val_loss: 0.0073\n",
      "Epoch 85/100\n",
      "\u001b[1m9/9\u001b[0m \u001b[32m━━━━━━━━━━━━━━━━━━━━\u001b[0m\u001b[37m\u001b[0m \u001b[1m0s\u001b[0m 29ms/step - loss: 0.0083 - val_loss: 0.0071\n",
      "Epoch 86/100\n",
      "\u001b[1m9/9\u001b[0m \u001b[32m━━━━━━━━━━━━━━━━━━━━\u001b[0m\u001b[37m\u001b[0m \u001b[1m1s\u001b[0m 49ms/step - loss: 0.0069 - val_loss: 0.0079\n",
      "Epoch 87/100\n",
      "\u001b[1m9/9\u001b[0m \u001b[32m━━━━━━━━━━━━━━━━━━━━\u001b[0m\u001b[37m\u001b[0m \u001b[1m0s\u001b[0m 42ms/step - loss: 0.0069 - val_loss: 0.0065\n",
      "Epoch 88/100\n",
      "\u001b[1m9/9\u001b[0m \u001b[32m━━━━━━━━━━━━━━━━━━━━\u001b[0m\u001b[37m\u001b[0m \u001b[1m0s\u001b[0m 36ms/step - loss: 0.0058 - val_loss: 0.0070\n",
      "Epoch 89/100\n",
      "\u001b[1m9/9\u001b[0m \u001b[32m━━━━━━━━━━━━━━━━━━━━\u001b[0m\u001b[37m\u001b[0m \u001b[1m0s\u001b[0m 32ms/step - loss: 0.0067 - val_loss: 0.0067\n",
      "Epoch 90/100\n",
      "\u001b[1m9/9\u001b[0m \u001b[32m━━━━━━━━━━━━━━━━━━━━\u001b[0m\u001b[37m\u001b[0m \u001b[1m0s\u001b[0m 36ms/step - loss: 0.0067 - val_loss: 0.0069\n",
      "Epoch 91/100\n",
      "\u001b[1m9/9\u001b[0m \u001b[32m━━━━━━━━━━━━━━━━━━━━\u001b[0m\u001b[37m\u001b[0m \u001b[1m0s\u001b[0m 31ms/step - loss: 0.0072 - val_loss: 0.0064\n",
      "Epoch 92/100\n",
      "\u001b[1m9/9\u001b[0m \u001b[32m━━━━━━━━━━━━━━━━━━━━\u001b[0m\u001b[37m\u001b[0m \u001b[1m0s\u001b[0m 32ms/step - loss: 0.0070 - val_loss: 0.0065\n",
      "Epoch 93/100\n",
      "\u001b[1m9/9\u001b[0m \u001b[32m━━━━━━━━━━━━━━━━━━━━\u001b[0m\u001b[37m\u001b[0m \u001b[1m0s\u001b[0m 33ms/step - loss: 0.0066 - val_loss: 0.0070\n",
      "Epoch 94/100\n",
      "\u001b[1m9/9\u001b[0m \u001b[32m━━━━━━━━━━━━━━━━━━━━\u001b[0m\u001b[37m\u001b[0m \u001b[1m0s\u001b[0m 30ms/step - loss: 0.0061 - val_loss: 0.0067\n",
      "Epoch 95/100\n",
      "\u001b[1m9/9\u001b[0m \u001b[32m━━━━━━━━━━━━━━━━━━━━\u001b[0m\u001b[37m\u001b[0m \u001b[1m0s\u001b[0m 35ms/step - loss: 0.0066 - val_loss: 0.0067\n",
      "Epoch 96/100\n",
      "\u001b[1m9/9\u001b[0m \u001b[32m━━━━━━━━━━━━━━━━━━━━\u001b[0m\u001b[37m\u001b[0m \u001b[1m0s\u001b[0m 28ms/step - loss: 0.0060 - val_loss: 0.0067\n",
      "Epoch 97/100\n",
      "\u001b[1m9/9\u001b[0m \u001b[32m━━━━━━━━━━━━━━━━━━━━\u001b[0m\u001b[37m\u001b[0m \u001b[1m0s\u001b[0m 27ms/step - loss: 0.0069 - val_loss: 0.0064\n",
      "Epoch 98/100\n",
      "\u001b[1m9/9\u001b[0m \u001b[32m━━━━━━━━━━━━━━━━━━━━\u001b[0m\u001b[37m\u001b[0m \u001b[1m0s\u001b[0m 41ms/step - loss: 0.0067 - val_loss: 0.0068\n",
      "Epoch 99/100\n",
      "\u001b[1m9/9\u001b[0m \u001b[32m━━━━━━━━━━━━━━━━━━━━\u001b[0m\u001b[37m\u001b[0m \u001b[1m0s\u001b[0m 34ms/step - loss: 0.0071 - val_loss: 0.0077\n",
      "Epoch 100/100\n",
      "\u001b[1m9/9\u001b[0m \u001b[32m━━━━━━━━━━━━━━━━━━━━\u001b[0m\u001b[37m\u001b[0m \u001b[1m0s\u001b[0m 44ms/step - loss: 0.0069 - val_loss: 0.0066\n",
      "Training model 3/3: bilstm_model\n",
      "Epoch 1/100\n",
      "\u001b[1m9/9\u001b[0m \u001b[32m━━━━━━━━━━━━━━━━━━━━\u001b[0m\u001b[37m\u001b[0m \u001b[1m10s\u001b[0m 160ms/step - loss: 0.1767 - val_loss: 0.0748\n",
      "Epoch 2/100\n",
      "\u001b[1m9/9\u001b[0m \u001b[32m━━━━━━━━━━━━━━━━━━━━\u001b[0m\u001b[37m\u001b[0m \u001b[1m0s\u001b[0m 34ms/step - loss: 0.0236 - val_loss: 0.0195\n",
      "Epoch 3/100\n",
      "\u001b[1m9/9\u001b[0m \u001b[32m━━━━━━━━━━━━━━━━━━━━\u001b[0m\u001b[37m\u001b[0m \u001b[1m0s\u001b[0m 32ms/step - loss: 0.0217 - val_loss: 0.0405\n",
      "Epoch 4/100\n",
      "\u001b[1m9/9\u001b[0m \u001b[32m━━━━━━━━━━━━━━━━━━━━\u001b[0m\u001b[37m\u001b[0m \u001b[1m0s\u001b[0m 38ms/step - loss: 0.0192 - val_loss: 0.0212\n",
      "Epoch 5/100\n",
      "\u001b[1m9/9\u001b[0m \u001b[32m━━━━━━━━━━━━━━━━━━━━\u001b[0m\u001b[37m\u001b[0m \u001b[1m0s\u001b[0m 40ms/step - loss: 0.0146 - val_loss: 0.0194\n",
      "Epoch 6/100\n",
      "\u001b[1m9/9\u001b[0m \u001b[32m━━━━━━━━━━━━━━━━━━━━\u001b[0m\u001b[37m\u001b[0m \u001b[1m0s\u001b[0m 35ms/step - loss: 0.0135 - val_loss: 0.0222\n",
      "Epoch 7/100\n",
      "\u001b[1m9/9\u001b[0m \u001b[32m━━━━━━━━━━━━━━━━━━━━\u001b[0m\u001b[37m\u001b[0m \u001b[1m0s\u001b[0m 34ms/step - loss: 0.0140 - val_loss: 0.0178\n",
      "Epoch 8/100\n",
      "\u001b[1m9/9\u001b[0m \u001b[32m━━━━━━━━━━━━━━━━━━━━\u001b[0m\u001b[37m\u001b[0m \u001b[1m0s\u001b[0m 31ms/step - loss: 0.0133 - val_loss: 0.0170\n",
      "Epoch 9/100\n",
      "\u001b[1m9/9\u001b[0m \u001b[32m━━━━━━━━━━━━━━━━━━━━\u001b[0m\u001b[37m\u001b[0m \u001b[1m0s\u001b[0m 33ms/step - loss: 0.0120 - val_loss: 0.0174\n",
      "Epoch 10/100\n",
      "\u001b[1m9/9\u001b[0m \u001b[32m━━━━━━━━━━━━━━━━━━━━\u001b[0m\u001b[37m\u001b[0m \u001b[1m0s\u001b[0m 33ms/step - loss: 0.0128 - val_loss: 0.0166\n",
      "Epoch 11/100\n",
      "\u001b[1m9/9\u001b[0m \u001b[32m━━━━━━━━━━━━━━━━━━━━\u001b[0m\u001b[37m\u001b[0m \u001b[1m0s\u001b[0m 34ms/step - loss: 0.0111 - val_loss: 0.0163\n",
      "Epoch 12/100\n",
      "\u001b[1m9/9\u001b[0m \u001b[32m━━━━━━━━━━━━━━━━━━━━\u001b[0m\u001b[37m\u001b[0m \u001b[1m0s\u001b[0m 33ms/step - loss: 0.0128 - val_loss: 0.0168\n",
      "Epoch 13/100\n",
      "\u001b[1m9/9\u001b[0m \u001b[32m━━━━━━━━━━━━━━━━━━━━\u001b[0m\u001b[37m\u001b[0m \u001b[1m0s\u001b[0m 42ms/step - loss: 0.0115 - val_loss: 0.0159\n",
      "Epoch 14/100\n",
      "\u001b[1m9/9\u001b[0m \u001b[32m━━━━━━━━━━━━━━━━━━━━\u001b[0m\u001b[37m\u001b[0m \u001b[1m0s\u001b[0m 43ms/step - loss: 0.0114 - val_loss: 0.0155\n",
      "Epoch 15/100\n",
      "\u001b[1m9/9\u001b[0m \u001b[32m━━━━━━━━━━━━━━━━━━━━\u001b[0m\u001b[37m\u001b[0m \u001b[1m0s\u001b[0m 31ms/step - loss: 0.0121 - val_loss: 0.0149\n",
      "Epoch 16/100\n",
      "\u001b[1m9/9\u001b[0m \u001b[32m━━━━━━━━━━━━━━━━━━━━\u001b[0m\u001b[37m\u001b[0m \u001b[1m0s\u001b[0m 39ms/step - loss: 0.0110 - val_loss: 0.0166\n",
      "Epoch 17/100\n",
      "\u001b[1m9/9\u001b[0m \u001b[32m━━━━━━━━━━━━━━━━━━━━\u001b[0m\u001b[37m\u001b[0m \u001b[1m0s\u001b[0m 41ms/step - loss: 0.0107 - val_loss: 0.0167\n",
      "Epoch 18/100\n",
      "\u001b[1m9/9\u001b[0m \u001b[32m━━━━━━━━━━━━━━━━━━━━\u001b[0m\u001b[37m\u001b[0m \u001b[1m0s\u001b[0m 33ms/step - loss: 0.0098 - val_loss: 0.0156\n",
      "Epoch 19/100\n",
      "\u001b[1m9/9\u001b[0m \u001b[32m━━━━━━━━━━━━━━━━━━━━\u001b[0m\u001b[37m\u001b[0m \u001b[1m0s\u001b[0m 34ms/step - loss: 0.0111 - val_loss: 0.0169\n",
      "Epoch 20/100\n",
      "\u001b[1m9/9\u001b[0m \u001b[32m━━━━━━━━━━━━━━━━━━━━\u001b[0m\u001b[37m\u001b[0m \u001b[1m0s\u001b[0m 48ms/step - loss: 0.0118 - val_loss: 0.0138\n",
      "Epoch 21/100\n",
      "\u001b[1m9/9\u001b[0m \u001b[32m━━━━━━━━━━━━━━━━━━━━\u001b[0m\u001b[37m\u001b[0m \u001b[1m0s\u001b[0m 34ms/step - loss: 0.0093 - val_loss: 0.0142\n",
      "Epoch 22/100\n",
      "\u001b[1m9/9\u001b[0m \u001b[32m━━━━━━━━━━━━━━━━━━━━\u001b[0m\u001b[37m\u001b[0m \u001b[1m0s\u001b[0m 33ms/step - loss: 0.0092 - val_loss: 0.0136\n",
      "Epoch 23/100\n",
      "\u001b[1m9/9\u001b[0m \u001b[32m━━━━━━━━━━━━━━━━━━━━\u001b[0m\u001b[37m\u001b[0m \u001b[1m0s\u001b[0m 47ms/step - loss: 0.0099 - val_loss: 0.0151\n",
      "Epoch 24/100\n",
      "\u001b[1m9/9\u001b[0m \u001b[32m━━━━━━━━━━━━━━━━━━━━\u001b[0m\u001b[37m\u001b[0m \u001b[1m0s\u001b[0m 35ms/step - loss: 0.0105 - val_loss: 0.0151\n",
      "Epoch 25/100\n",
      "\u001b[1m9/9\u001b[0m \u001b[32m━━━━━━━━━━━━━━━━━━━━\u001b[0m\u001b[37m\u001b[0m \u001b[1m0s\u001b[0m 33ms/step - loss: 0.0102 - val_loss: 0.0135\n",
      "Epoch 26/100\n",
      "\u001b[1m9/9\u001b[0m \u001b[32m━━━━━━━━━━━━━━━━━━━━\u001b[0m\u001b[37m\u001b[0m \u001b[1m0s\u001b[0m 30ms/step - loss: 0.0091 - val_loss: 0.0142\n",
      "Epoch 27/100\n",
      "\u001b[1m9/9\u001b[0m \u001b[32m━━━━━━━━━━━━━━━━━━━━\u001b[0m\u001b[37m\u001b[0m \u001b[1m0s\u001b[0m 34ms/step - loss: 0.0093 - val_loss: 0.0141\n",
      "Epoch 28/100\n",
      "\u001b[1m9/9\u001b[0m \u001b[32m━━━━━━━━━━━━━━━━━━━━\u001b[0m\u001b[37m\u001b[0m \u001b[1m0s\u001b[0m 34ms/step - loss: 0.0091 - val_loss: 0.0144\n",
      "Epoch 29/100\n",
      "\u001b[1m9/9\u001b[0m \u001b[32m━━━━━━━━━━━━━━━━━━━━\u001b[0m\u001b[37m\u001b[0m \u001b[1m0s\u001b[0m 43ms/step - loss: 0.0096 - val_loss: 0.0128\n",
      "Epoch 30/100\n",
      "\u001b[1m9/9\u001b[0m \u001b[32m━━━━━━━━━━━━━━━━━━━━\u001b[0m\u001b[37m\u001b[0m \u001b[1m0s\u001b[0m 40ms/step - loss: 0.0093 - val_loss: 0.0132\n",
      "Epoch 31/100\n",
      "\u001b[1m9/9\u001b[0m \u001b[32m━━━━━━━━━━━━━━━━━━━━\u001b[0m\u001b[37m\u001b[0m \u001b[1m0s\u001b[0m 31ms/step - loss: 0.0091 - val_loss: 0.0135\n",
      "Epoch 32/100\n",
      "\u001b[1m9/9\u001b[0m \u001b[32m━━━━━━━━━━━━━━━━━━━━\u001b[0m\u001b[37m\u001b[0m \u001b[1m0s\u001b[0m 33ms/step - loss: 0.0095 - val_loss: 0.0138\n",
      "Epoch 33/100\n",
      "\u001b[1m9/9\u001b[0m \u001b[32m━━━━━━━━━━━━━━━━━━━━\u001b[0m\u001b[37m\u001b[0m \u001b[1m0s\u001b[0m 34ms/step - loss: 0.0095 - val_loss: 0.0125\n",
      "Epoch 34/100\n",
      "\u001b[1m9/9\u001b[0m \u001b[32m━━━━━━━━━━━━━━━━━━━━\u001b[0m\u001b[37m\u001b[0m \u001b[1m0s\u001b[0m 34ms/step - loss: 0.0080 - val_loss: 0.0147\n",
      "Epoch 35/100\n",
      "\u001b[1m9/9\u001b[0m \u001b[32m━━━━━━━━━━━━━━━━━━━━\u001b[0m\u001b[37m\u001b[0m \u001b[1m0s\u001b[0m 33ms/step - loss: 0.0089 - val_loss: 0.0123\n",
      "Epoch 36/100\n",
      "\u001b[1m9/9\u001b[0m \u001b[32m━━━━━━━━━━━━━━━━━━━━\u001b[0m\u001b[37m\u001b[0m \u001b[1m0s\u001b[0m 34ms/step - loss: 0.0091 - val_loss: 0.0127\n",
      "Epoch 37/100\n",
      "\u001b[1m9/9\u001b[0m \u001b[32m━━━━━━━━━━━━━━━━━━━━\u001b[0m\u001b[37m\u001b[0m \u001b[1m0s\u001b[0m 42ms/step - loss: 0.0099 - val_loss: 0.0160\n",
      "Epoch 38/100\n",
      "\u001b[1m9/9\u001b[0m \u001b[32m━━━━━━━━━━━━━━━━━━━━\u001b[0m\u001b[37m\u001b[0m \u001b[1m0s\u001b[0m 37ms/step - loss: 0.0088 - val_loss: 0.0122\n",
      "Epoch 39/100\n",
      "\u001b[1m9/9\u001b[0m \u001b[32m━━━━━━━━━━━━━━━━━━━━\u001b[0m\u001b[37m\u001b[0m \u001b[1m0s\u001b[0m 34ms/step - loss: 0.0087 - val_loss: 0.0133\n",
      "Epoch 40/100\n",
      "\u001b[1m9/9\u001b[0m \u001b[32m━━━━━━━━━━━━━━━━━━━━\u001b[0m\u001b[37m\u001b[0m \u001b[1m0s\u001b[0m 35ms/step - loss: 0.0080 - val_loss: 0.0151\n",
      "Epoch 41/100\n",
      "\u001b[1m9/9\u001b[0m \u001b[32m━━━━━━━━━━━━━━━━━━━━\u001b[0m\u001b[37m\u001b[0m \u001b[1m0s\u001b[0m 34ms/step - loss: 0.0084 - val_loss: 0.0138\n",
      "Epoch 42/100\n",
      "\u001b[1m9/9\u001b[0m \u001b[32m━━━━━━━━━━━━━━━━━━━━\u001b[0m\u001b[37m\u001b[0m \u001b[1m0s\u001b[0m 34ms/step - loss: 0.0094 - val_loss: 0.0118\n",
      "Epoch 43/100\n",
      "\u001b[1m9/9\u001b[0m \u001b[32m━━━━━━━━━━━━━━━━━━━━\u001b[0m\u001b[37m\u001b[0m \u001b[1m0s\u001b[0m 40ms/step - loss: 0.0094 - val_loss: 0.0141\n",
      "Epoch 44/100\n",
      "\u001b[1m9/9\u001b[0m \u001b[32m━━━━━━━━━━━━━━━━━━━━\u001b[0m\u001b[37m\u001b[0m \u001b[1m0s\u001b[0m 40ms/step - loss: 0.0084 - val_loss: 0.0117\n",
      "Epoch 45/100\n",
      "\u001b[1m9/9\u001b[0m \u001b[32m━━━━━━━━━━━━━━━━━━━━\u001b[0m\u001b[37m\u001b[0m \u001b[1m0s\u001b[0m 36ms/step - loss: 0.0077 - val_loss: 0.0115\n",
      "Epoch 46/100\n",
      "\u001b[1m9/9\u001b[0m \u001b[32m━━━━━━━━━━━━━━━━━━━━\u001b[0m\u001b[37m\u001b[0m \u001b[1m0s\u001b[0m 36ms/step - loss: 0.0077 - val_loss: 0.0114\n",
      "Epoch 47/100\n",
      "\u001b[1m9/9\u001b[0m \u001b[32m━━━━━━━━━━━━━━━━━━━━\u001b[0m\u001b[37m\u001b[0m \u001b[1m0s\u001b[0m 34ms/step - loss: 0.0072 - val_loss: 0.0115\n",
      "Epoch 48/100\n",
      "\u001b[1m9/9\u001b[0m \u001b[32m━━━━━━━━━━━━━━━━━━━━\u001b[0m\u001b[37m\u001b[0m \u001b[1m0s\u001b[0m 31ms/step - loss: 0.0086 - val_loss: 0.0145\n",
      "Epoch 49/100\n",
      "\u001b[1m9/9\u001b[0m \u001b[32m━━━━━━━━━━━━━━━━━━━━\u001b[0m\u001b[37m\u001b[0m \u001b[1m0s\u001b[0m 33ms/step - loss: 0.0102 - val_loss: 0.0123\n",
      "Epoch 50/100\n",
      "\u001b[1m9/9\u001b[0m \u001b[32m━━━━━━━━━━━━━━━━━━━━\u001b[0m\u001b[37m\u001b[0m \u001b[1m0s\u001b[0m 36ms/step - loss: 0.0085 - val_loss: 0.0129\n",
      "Epoch 51/100\n",
      "\u001b[1m9/9\u001b[0m \u001b[32m━━━━━━━━━━━━━━━━━━━━\u001b[0m\u001b[37m\u001b[0m \u001b[1m0s\u001b[0m 33ms/step - loss: 0.0083 - val_loss: 0.0111\n",
      "Epoch 52/100\n",
      "\u001b[1m9/9\u001b[0m \u001b[32m━━━━━━━━━━━━━━━━━━━━\u001b[0m\u001b[37m\u001b[0m \u001b[1m0s\u001b[0m 34ms/step - loss: 0.0079 - val_loss: 0.0118\n",
      "Epoch 53/100\n",
      "\u001b[1m9/9\u001b[0m \u001b[32m━━━━━━━━━━━━━━━━━━━━\u001b[0m\u001b[37m\u001b[0m \u001b[1m0s\u001b[0m 33ms/step - loss: 0.0090 - val_loss: 0.0107\n",
      "Epoch 54/100\n",
      "\u001b[1m9/9\u001b[0m \u001b[32m━━━━━━━━━━━━━━━━━━━━\u001b[0m\u001b[37m\u001b[0m \u001b[1m0s\u001b[0m 33ms/step - loss: 0.0080 - val_loss: 0.0107\n",
      "Epoch 55/100\n",
      "\u001b[1m9/9\u001b[0m \u001b[32m━━━━━━━━━━━━━━━━━━━━\u001b[0m\u001b[37m\u001b[0m \u001b[1m0s\u001b[0m 34ms/step - loss: 0.0073 - val_loss: 0.0107\n",
      "Epoch 56/100\n",
      "\u001b[1m9/9\u001b[0m \u001b[32m━━━━━━━━━━━━━━━━━━━━\u001b[0m\u001b[37m\u001b[0m \u001b[1m0s\u001b[0m 38ms/step - loss: 0.0082 - val_loss: 0.0110\n",
      "Epoch 57/100\n",
      "\u001b[1m9/9\u001b[0m \u001b[32m━━━━━━━━━━━━━━━━━━━━\u001b[0m\u001b[37m\u001b[0m \u001b[1m0s\u001b[0m 35ms/step - loss: 0.0074 - val_loss: 0.0110\n",
      "Epoch 58/100\n",
      "\u001b[1m9/9\u001b[0m \u001b[32m━━━━━━━━━━━━━━━━━━━━\u001b[0m\u001b[37m\u001b[0m \u001b[1m0s\u001b[0m 34ms/step - loss: 0.0081 - val_loss: 0.0110\n",
      "Epoch 59/100\n",
      "\u001b[1m9/9\u001b[0m \u001b[32m━━━━━━━━━━━━━━━━━━━━\u001b[0m\u001b[37m\u001b[0m \u001b[1m0s\u001b[0m 44ms/step - loss: 0.0082 - val_loss: 0.0128\n",
      "Epoch 60/100\n",
      "\u001b[1m9/9\u001b[0m \u001b[32m━━━━━━━━━━━━━━━━━━━━\u001b[0m\u001b[37m\u001b[0m \u001b[1m0s\u001b[0m 32ms/step - loss: 0.0077 - val_loss: 0.0103\n",
      "Epoch 61/100\n",
      "\u001b[1m9/9\u001b[0m \u001b[32m━━━━━━━━━━━━━━━━━━━━\u001b[0m\u001b[37m\u001b[0m \u001b[1m0s\u001b[0m 34ms/step - loss: 0.0073 - val_loss: 0.0102\n",
      "Epoch 62/100\n",
      "\u001b[1m9/9\u001b[0m \u001b[32m━━━━━━━━━━━━━━━━━━━━\u001b[0m\u001b[37m\u001b[0m \u001b[1m0s\u001b[0m 36ms/step - loss: 0.0076 - val_loss: 0.0100\n",
      "Epoch 63/100\n",
      "\u001b[1m9/9\u001b[0m \u001b[32m━━━━━━━━━━━━━━━━━━━━\u001b[0m\u001b[37m\u001b[0m \u001b[1m0s\u001b[0m 33ms/step - loss: 0.0080 - val_loss: 0.0103\n",
      "Epoch 64/100\n",
      "\u001b[1m9/9\u001b[0m \u001b[32m━━━━━━━━━━━━━━━━━━━━\u001b[0m\u001b[37m\u001b[0m \u001b[1m0s\u001b[0m 32ms/step - loss: 0.0080 - val_loss: 0.0103\n",
      "Epoch 65/100\n",
      "\u001b[1m9/9\u001b[0m \u001b[32m━━━━━━━━━━━━━━━━━━━━\u001b[0m\u001b[37m\u001b[0m \u001b[1m0s\u001b[0m 39ms/step - loss: 0.0080 - val_loss: 0.0117\n",
      "Epoch 66/100\n",
      "\u001b[1m9/9\u001b[0m \u001b[32m━━━━━━━━━━━━━━━━━━━━\u001b[0m\u001b[37m\u001b[0m \u001b[1m0s\u001b[0m 43ms/step - loss: 0.0073 - val_loss: 0.0099\n",
      "Epoch 67/100\n",
      "\u001b[1m9/9\u001b[0m \u001b[32m━━━━━━━━━━━━━━━━━━━━\u001b[0m\u001b[37m\u001b[0m \u001b[1m0s\u001b[0m 50ms/step - loss: 0.0077 - val_loss: 0.0103\n",
      "Epoch 68/100\n",
      "\u001b[1m9/9\u001b[0m \u001b[32m━━━━━━━━━━━━━━━━━━━━\u001b[0m\u001b[37m\u001b[0m \u001b[1m0s\u001b[0m 41ms/step - loss: 0.0076 - val_loss: 0.0109\n",
      "Epoch 69/100\n",
      "\u001b[1m9/9\u001b[0m \u001b[32m━━━━━━━━━━━━━━━━━━━━\u001b[0m\u001b[37m\u001b[0m \u001b[1m0s\u001b[0m 40ms/step - loss: 0.0089 - val_loss: 0.0098\n",
      "Epoch 70/100\n",
      "\u001b[1m9/9\u001b[0m \u001b[32m━━━━━━━━━━━━━━━━━━━━\u001b[0m\u001b[37m\u001b[0m \u001b[1m0s\u001b[0m 34ms/step - loss: 0.0088 - val_loss: 0.0122\n",
      "Epoch 71/100\n",
      "\u001b[1m9/9\u001b[0m \u001b[32m━━━━━━━━━━━━━━━━━━━━\u001b[0m\u001b[37m\u001b[0m \u001b[1m0s\u001b[0m 45ms/step - loss: 0.0082 - val_loss: 0.0095\n",
      "Epoch 72/100\n",
      "\u001b[1m9/9\u001b[0m \u001b[32m━━━━━━━━━━━━━━━━━━━━\u001b[0m\u001b[37m\u001b[0m \u001b[1m0s\u001b[0m 40ms/step - loss: 0.0072 - val_loss: 0.0095\n",
      "Epoch 73/100\n",
      "\u001b[1m9/9\u001b[0m \u001b[32m━━━━━━━━━━━━━━━━━━━━\u001b[0m\u001b[37m\u001b[0m \u001b[1m0s\u001b[0m 39ms/step - loss: 0.0071 - val_loss: 0.0095\n",
      "Epoch 74/100\n",
      "\u001b[1m9/9\u001b[0m \u001b[32m━━━━━━━━━━━━━━━━━━━━\u001b[0m\u001b[37m\u001b[0m \u001b[1m0s\u001b[0m 38ms/step - loss: 0.0074 - val_loss: 0.0134\n",
      "Epoch 75/100\n",
      "\u001b[1m9/9\u001b[0m \u001b[32m━━━━━━━━━━━━━━━━━━━━\u001b[0m\u001b[37m\u001b[0m \u001b[1m0s\u001b[0m 34ms/step - loss: 0.0076 - val_loss: 0.0094\n",
      "Epoch 76/100\n",
      "\u001b[1m9/9\u001b[0m \u001b[32m━━━━━━━━━━━━━━━━━━━━\u001b[0m\u001b[37m\u001b[0m \u001b[1m0s\u001b[0m 32ms/step - loss: 0.0074 - val_loss: 0.0093\n",
      "Epoch 77/100\n",
      "\u001b[1m9/9\u001b[0m \u001b[32m━━━━━━━━━━━━━━━━━━━━\u001b[0m\u001b[37m\u001b[0m \u001b[1m0s\u001b[0m 37ms/step - loss: 0.0076 - val_loss: 0.0092\n",
      "Epoch 78/100\n",
      "\u001b[1m9/9\u001b[0m \u001b[32m━━━━━━━━━━━━━━━━━━━━\u001b[0m\u001b[37m\u001b[0m \u001b[1m0s\u001b[0m 34ms/step - loss: 0.0066 - val_loss: 0.0103\n",
      "Epoch 79/100\n",
      "\u001b[1m9/9\u001b[0m \u001b[32m━━━━━━━━━━━━━━━━━━━━\u001b[0m\u001b[37m\u001b[0m \u001b[1m0s\u001b[0m 38ms/step - loss: 0.0077 - val_loss: 0.0113\n",
      "Epoch 80/100\n",
      "\u001b[1m9/9\u001b[0m \u001b[32m━━━━━━━━━━━━━━━━━━━━\u001b[0m\u001b[37m\u001b[0m \u001b[1m0s\u001b[0m 36ms/step - loss: 0.0090 - val_loss: 0.0092\n",
      "Epoch 81/100\n",
      "\u001b[1m9/9\u001b[0m \u001b[32m━━━━━━━━━━━━━━━━━━━━\u001b[0m\u001b[37m\u001b[0m \u001b[1m0s\u001b[0m 33ms/step - loss: 0.0077 - val_loss: 0.0095\n",
      "Epoch 82/100\n",
      "\u001b[1m9/9\u001b[0m \u001b[32m━━━━━━━━━━━━━━━━━━━━\u001b[0m\u001b[37m\u001b[0m \u001b[1m0s\u001b[0m 41ms/step - loss: 0.0076 - val_loss: 0.0090\n",
      "Epoch 83/100\n",
      "\u001b[1m9/9\u001b[0m \u001b[32m━━━━━━━━━━━━━━━━━━━━\u001b[0m\u001b[37m\u001b[0m \u001b[1m0s\u001b[0m 37ms/step - loss: 0.0074 - val_loss: 0.0101\n",
      "Epoch 84/100\n",
      "\u001b[1m9/9\u001b[0m \u001b[32m━━━━━━━━━━━━━━━━━━━━\u001b[0m\u001b[37m\u001b[0m \u001b[1m0s\u001b[0m 38ms/step - loss: 0.0076 - val_loss: 0.0104\n",
      "Epoch 85/100\n",
      "\u001b[1m9/9\u001b[0m \u001b[32m━━━━━━━━━━━━━━━━━━━━\u001b[0m\u001b[37m\u001b[0m \u001b[1m0s\u001b[0m 36ms/step - loss: 0.0068 - val_loss: 0.0090\n",
      "Epoch 86/100\n",
      "\u001b[1m9/9\u001b[0m \u001b[32m━━━━━━━━━━━━━━━━━━━━\u001b[0m\u001b[37m\u001b[0m \u001b[1m0s\u001b[0m 42ms/step - loss: 0.0075 - val_loss: 0.0090\n",
      "Epoch 87/100\n",
      "\u001b[1m9/9\u001b[0m \u001b[32m━━━━━━━━━━━━━━━━━━━━\u001b[0m\u001b[37m\u001b[0m \u001b[1m0s\u001b[0m 33ms/step - loss: 0.0074 - val_loss: 0.0091\n",
      "Epoch 88/100\n",
      "\u001b[1m9/9\u001b[0m \u001b[32m━━━━━━━━━━━━━━━━━━━━\u001b[0m\u001b[37m\u001b[0m \u001b[1m0s\u001b[0m 30ms/step - loss: 0.0062 - val_loss: 0.0088\n",
      "Epoch 89/100\n",
      "\u001b[1m9/9\u001b[0m \u001b[32m━━━━━━━━━━━━━━━━━━━━\u001b[0m\u001b[37m\u001b[0m \u001b[1m0s\u001b[0m 34ms/step - loss: 0.0074 - val_loss: 0.0089\n",
      "Epoch 90/100\n",
      "\u001b[1m9/9\u001b[0m \u001b[32m━━━━━━━━━━━━━━━━━━━━\u001b[0m\u001b[37m\u001b[0m \u001b[1m0s\u001b[0m 35ms/step - loss: 0.0071 - val_loss: 0.0086\n",
      "Epoch 91/100\n",
      "\u001b[1m9/9\u001b[0m \u001b[32m━━━━━━━━━━━━━━━━━━━━\u001b[0m\u001b[37m\u001b[0m \u001b[1m0s\u001b[0m 34ms/step - loss: 0.0072 - val_loss: 0.0095\n",
      "Epoch 92/100\n",
      "\u001b[1m9/9\u001b[0m \u001b[32m━━━━━━━━━━━━━━━━━━━━\u001b[0m\u001b[37m\u001b[0m \u001b[1m0s\u001b[0m 34ms/step - loss: 0.0072 - val_loss: 0.0085\n",
      "Epoch 93/100\n",
      "\u001b[1m9/9\u001b[0m \u001b[32m━━━━━━━━━━━━━━━━━━━━\u001b[0m\u001b[37m\u001b[0m \u001b[1m0s\u001b[0m 46ms/step - loss: 0.0067 - val_loss: 0.0087\n",
      "Epoch 94/100\n",
      "\u001b[1m9/9\u001b[0m \u001b[32m━━━━━━━━━━━━━━━━━━━━\u001b[0m\u001b[37m\u001b[0m \u001b[1m0s\u001b[0m 35ms/step - loss: 0.0079 - val_loss: 0.0095\n",
      "Epoch 95/100\n",
      "\u001b[1m9/9\u001b[0m \u001b[32m━━━━━━━━━━━━━━━━━━━━\u001b[0m\u001b[37m\u001b[0m \u001b[1m0s\u001b[0m 33ms/step - loss: 0.0091 - val_loss: 0.0105\n",
      "Epoch 96/100\n",
      "\u001b[1m9/9\u001b[0m \u001b[32m━━━━━━━━━━━━━━━━━━━━\u001b[0m\u001b[37m\u001b[0m \u001b[1m0s\u001b[0m 41ms/step - loss: 0.0073 - val_loss: 0.0114\n",
      "Epoch 97/100\n",
      "\u001b[1m9/9\u001b[0m \u001b[32m━━━━━━━━━━━━━━━━━━━━\u001b[0m\u001b[37m\u001b[0m \u001b[1m0s\u001b[0m 33ms/step - loss: 0.0076 - val_loss: 0.0092\n",
      "Epoch 98/100\n",
      "\u001b[1m9/9\u001b[0m \u001b[32m━━━━━━━━━━━━━━━━━━━━\u001b[0m\u001b[37m\u001b[0m \u001b[1m0s\u001b[0m 31ms/step - loss: 0.0066 - val_loss: 0.0086\n",
      "Epoch 99/100\n",
      "\u001b[1m9/9\u001b[0m \u001b[32m━━━━━━━━━━━━━━━━━━━━\u001b[0m\u001b[37m\u001b[0m \u001b[1m0s\u001b[0m 40ms/step - loss: 0.0064 - val_loss: 0.0087\n",
      "Epoch 100/100\n",
      "\u001b[1m9/9\u001b[0m \u001b[32m━━━━━━━━━━━━━━━━━━━━\u001b[0m\u001b[37m\u001b[0m \u001b[1m0s\u001b[0m 36ms/step - loss: 0.0072 - val_loss: 0.0083\n"
     ]
    }
   ],
   "source": [
    "trained_dl_models, histories = fn.train_ensemble_models(dl_models, X_train, y_train, X_val, y_val, 100)"
   ]
  },
  {
   "cell_type": "code",
   "execution_count": 9,
   "id": "f9393281",
   "metadata": {},
   "outputs": [
    {
     "name": "stdout",
     "output_type": "stream",
     "text": [
      "\u001b[1m9/9\u001b[0m \u001b[32m━━━━━━━━━━━━━━━━━━━━\u001b[0m\u001b[37m\u001b[0m \u001b[1m1s\u001b[0m 63ms/step\n",
      "\u001b[1m9/9\u001b[0m \u001b[32m━━━━━━━━━━━━━━━━━━━━\u001b[0m\u001b[37m\u001b[0m \u001b[1m1s\u001b[0m 73ms/step\n",
      "\u001b[1m9/9\u001b[0m \u001b[32m━━━━━━━━━━━━━━━━━━━━\u001b[0m\u001b[37m\u001b[0m \u001b[1m2s\u001b[0m 120ms/step\n",
      "\u001b[1m3/3\u001b[0m \u001b[32m━━━━━━━━━━━━━━━━━━━━\u001b[0m\u001b[37m\u001b[0m \u001b[1m0s\u001b[0m 8ms/step \n",
      "\u001b[1m3/3\u001b[0m \u001b[32m━━━━━━━━━━━━━━━━━━━━\u001b[0m\u001b[37m\u001b[0m \u001b[1m0s\u001b[0m 8ms/step \n",
      "\u001b[1m3/3\u001b[0m \u001b[32m━━━━━━━━━━━━━━━━━━━━\u001b[0m\u001b[37m\u001b[0m \u001b[1m0s\u001b[0m 9ms/step \n"
     ]
    }
   ],
   "source": [
    "individual_predictions_train, individual_predictions_val = fn.individual_predictions(trained_dl_models, X_train, X_val)"
   ]
  },
  {
   "cell_type": "code",
   "execution_count": 10,
   "id": "a2bbf22a",
   "metadata": {},
   "outputs": [],
   "source": [
    "train_preds = list(individual_predictions_train.values())\n",
    "val_preds = list(individual_predictions_val.values())\n",
    "\n",
    "X_stack_train = np.stack(train_preds, axis=1)\n",
    "X_stack_val = np.stack(val_preds, axis=1)"
   ]
  },
  {
   "cell_type": "code",
   "execution_count": 11,
   "id": "e183af0f",
   "metadata": {},
   "outputs": [
    {
     "data": {
      "text/html": [
       "<style>#sk-container-id-1 {\n",
       "  /* Definition of color scheme common for light and dark mode */\n",
       "  --sklearn-color-text: black;\n",
       "  --sklearn-color-line: gray;\n",
       "  /* Definition of color scheme for unfitted estimators */\n",
       "  --sklearn-color-unfitted-level-0: #fff5e6;\n",
       "  --sklearn-color-unfitted-level-1: #f6e4d2;\n",
       "  --sklearn-color-unfitted-level-2: #ffe0b3;\n",
       "  --sklearn-color-unfitted-level-3: chocolate;\n",
       "  /* Definition of color scheme for fitted estimators */\n",
       "  --sklearn-color-fitted-level-0: #f0f8ff;\n",
       "  --sklearn-color-fitted-level-1: #d4ebff;\n",
       "  --sklearn-color-fitted-level-2: #b3dbfd;\n",
       "  --sklearn-color-fitted-level-3: cornflowerblue;\n",
       "\n",
       "  /* Specific color for light theme */\n",
       "  --sklearn-color-text-on-default-background: var(--sg-text-color, var(--theme-code-foreground, var(--jp-content-font-color1, black)));\n",
       "  --sklearn-color-background: var(--sg-background-color, var(--theme-background, var(--jp-layout-color0, white)));\n",
       "  --sklearn-color-border-box: var(--sg-text-color, var(--theme-code-foreground, var(--jp-content-font-color1, black)));\n",
       "  --sklearn-color-icon: #696969;\n",
       "\n",
       "  @media (prefers-color-scheme: dark) {\n",
       "    /* Redefinition of color scheme for dark theme */\n",
       "    --sklearn-color-text-on-default-background: var(--sg-text-color, var(--theme-code-foreground, var(--jp-content-font-color1, white)));\n",
       "    --sklearn-color-background: var(--sg-background-color, var(--theme-background, var(--jp-layout-color0, #111)));\n",
       "    --sklearn-color-border-box: var(--sg-text-color, var(--theme-code-foreground, var(--jp-content-font-color1, white)));\n",
       "    --sklearn-color-icon: #878787;\n",
       "  }\n",
       "}\n",
       "\n",
       "#sk-container-id-1 {\n",
       "  color: var(--sklearn-color-text);\n",
       "}\n",
       "\n",
       "#sk-container-id-1 pre {\n",
       "  padding: 0;\n",
       "}\n",
       "\n",
       "#sk-container-id-1 input.sk-hidden--visually {\n",
       "  border: 0;\n",
       "  clip: rect(1px 1px 1px 1px);\n",
       "  clip: rect(1px, 1px, 1px, 1px);\n",
       "  height: 1px;\n",
       "  margin: -1px;\n",
       "  overflow: hidden;\n",
       "  padding: 0;\n",
       "  position: absolute;\n",
       "  width: 1px;\n",
       "}\n",
       "\n",
       "#sk-container-id-1 div.sk-dashed-wrapped {\n",
       "  border: 1px dashed var(--sklearn-color-line);\n",
       "  margin: 0 0.4em 0.5em 0.4em;\n",
       "  box-sizing: border-box;\n",
       "  padding-bottom: 0.4em;\n",
       "  background-color: var(--sklearn-color-background);\n",
       "}\n",
       "\n",
       "#sk-container-id-1 div.sk-container {\n",
       "  /* jupyter's `normalize.less` sets `[hidden] { display: none; }`\n",
       "     but bootstrap.min.css set `[hidden] { display: none !important; }`\n",
       "     so we also need the `!important` here to be able to override the\n",
       "     default hidden behavior on the sphinx rendered scikit-learn.org.\n",
       "     See: https://github.com/scikit-learn/scikit-learn/issues/21755 */\n",
       "  display: inline-block !important;\n",
       "  position: relative;\n",
       "}\n",
       "\n",
       "#sk-container-id-1 div.sk-text-repr-fallback {\n",
       "  display: none;\n",
       "}\n",
       "\n",
       "div.sk-parallel-item,\n",
       "div.sk-serial,\n",
       "div.sk-item {\n",
       "  /* draw centered vertical line to link estimators */\n",
       "  background-image: linear-gradient(var(--sklearn-color-text-on-default-background), var(--sklearn-color-text-on-default-background));\n",
       "  background-size: 2px 100%;\n",
       "  background-repeat: no-repeat;\n",
       "  background-position: center center;\n",
       "}\n",
       "\n",
       "/* Parallel-specific style estimator block */\n",
       "\n",
       "#sk-container-id-1 div.sk-parallel-item::after {\n",
       "  content: \"\";\n",
       "  width: 100%;\n",
       "  border-bottom: 2px solid var(--sklearn-color-text-on-default-background);\n",
       "  flex-grow: 1;\n",
       "}\n",
       "\n",
       "#sk-container-id-1 div.sk-parallel {\n",
       "  display: flex;\n",
       "  align-items: stretch;\n",
       "  justify-content: center;\n",
       "  background-color: var(--sklearn-color-background);\n",
       "  position: relative;\n",
       "}\n",
       "\n",
       "#sk-container-id-1 div.sk-parallel-item {\n",
       "  display: flex;\n",
       "  flex-direction: column;\n",
       "}\n",
       "\n",
       "#sk-container-id-1 div.sk-parallel-item:first-child::after {\n",
       "  align-self: flex-end;\n",
       "  width: 50%;\n",
       "}\n",
       "\n",
       "#sk-container-id-1 div.sk-parallel-item:last-child::after {\n",
       "  align-self: flex-start;\n",
       "  width: 50%;\n",
       "}\n",
       "\n",
       "#sk-container-id-1 div.sk-parallel-item:only-child::after {\n",
       "  width: 0;\n",
       "}\n",
       "\n",
       "/* Serial-specific style estimator block */\n",
       "\n",
       "#sk-container-id-1 div.sk-serial {\n",
       "  display: flex;\n",
       "  flex-direction: column;\n",
       "  align-items: center;\n",
       "  background-color: var(--sklearn-color-background);\n",
       "  padding-right: 1em;\n",
       "  padding-left: 1em;\n",
       "}\n",
       "\n",
       "\n",
       "/* Toggleable style: style used for estimator/Pipeline/ColumnTransformer box that is\n",
       "clickable and can be expanded/collapsed.\n",
       "- Pipeline and ColumnTransformer use this feature and define the default style\n",
       "- Estimators will overwrite some part of the style using the `sk-estimator` class\n",
       "*/\n",
       "\n",
       "/* Pipeline and ColumnTransformer style (default) */\n",
       "\n",
       "#sk-container-id-1 div.sk-toggleable {\n",
       "  /* Default theme specific background. It is overwritten whether we have a\n",
       "  specific estimator or a Pipeline/ColumnTransformer */\n",
       "  background-color: var(--sklearn-color-background);\n",
       "}\n",
       "\n",
       "/* Toggleable label */\n",
       "#sk-container-id-1 label.sk-toggleable__label {\n",
       "  cursor: pointer;\n",
       "  display: block;\n",
       "  width: 100%;\n",
       "  margin-bottom: 0;\n",
       "  padding: 0.5em;\n",
       "  box-sizing: border-box;\n",
       "  text-align: center;\n",
       "}\n",
       "\n",
       "#sk-container-id-1 label.sk-toggleable__label-arrow:before {\n",
       "  /* Arrow on the left of the label */\n",
       "  content: \"▸\";\n",
       "  float: left;\n",
       "  margin-right: 0.25em;\n",
       "  color: var(--sklearn-color-icon);\n",
       "}\n",
       "\n",
       "#sk-container-id-1 label.sk-toggleable__label-arrow:hover:before {\n",
       "  color: var(--sklearn-color-text);\n",
       "}\n",
       "\n",
       "/* Toggleable content - dropdown */\n",
       "\n",
       "#sk-container-id-1 div.sk-toggleable__content {\n",
       "  max-height: 0;\n",
       "  max-width: 0;\n",
       "  overflow: hidden;\n",
       "  text-align: left;\n",
       "  /* unfitted */\n",
       "  background-color: var(--sklearn-color-unfitted-level-0);\n",
       "}\n",
       "\n",
       "#sk-container-id-1 div.sk-toggleable__content.fitted {\n",
       "  /* fitted */\n",
       "  background-color: var(--sklearn-color-fitted-level-0);\n",
       "}\n",
       "\n",
       "#sk-container-id-1 div.sk-toggleable__content pre {\n",
       "  margin: 0.2em;\n",
       "  border-radius: 0.25em;\n",
       "  color: var(--sklearn-color-text);\n",
       "  /* unfitted */\n",
       "  background-color: var(--sklearn-color-unfitted-level-0);\n",
       "}\n",
       "\n",
       "#sk-container-id-1 div.sk-toggleable__content.fitted pre {\n",
       "  /* unfitted */\n",
       "  background-color: var(--sklearn-color-fitted-level-0);\n",
       "}\n",
       "\n",
       "#sk-container-id-1 input.sk-toggleable__control:checked~div.sk-toggleable__content {\n",
       "  /* Expand drop-down */\n",
       "  max-height: 200px;\n",
       "  max-width: 100%;\n",
       "  overflow: auto;\n",
       "}\n",
       "\n",
       "#sk-container-id-1 input.sk-toggleable__control:checked~label.sk-toggleable__label-arrow:before {\n",
       "  content: \"▾\";\n",
       "}\n",
       "\n",
       "/* Pipeline/ColumnTransformer-specific style */\n",
       "\n",
       "#sk-container-id-1 div.sk-label input.sk-toggleable__control:checked~label.sk-toggleable__label {\n",
       "  color: var(--sklearn-color-text);\n",
       "  background-color: var(--sklearn-color-unfitted-level-2);\n",
       "}\n",
       "\n",
       "#sk-container-id-1 div.sk-label.fitted input.sk-toggleable__control:checked~label.sk-toggleable__label {\n",
       "  background-color: var(--sklearn-color-fitted-level-2);\n",
       "}\n",
       "\n",
       "/* Estimator-specific style */\n",
       "\n",
       "/* Colorize estimator box */\n",
       "#sk-container-id-1 div.sk-estimator input.sk-toggleable__control:checked~label.sk-toggleable__label {\n",
       "  /* unfitted */\n",
       "  background-color: var(--sklearn-color-unfitted-level-2);\n",
       "}\n",
       "\n",
       "#sk-container-id-1 div.sk-estimator.fitted input.sk-toggleable__control:checked~label.sk-toggleable__label {\n",
       "  /* fitted */\n",
       "  background-color: var(--sklearn-color-fitted-level-2);\n",
       "}\n",
       "\n",
       "#sk-container-id-1 div.sk-label label.sk-toggleable__label,\n",
       "#sk-container-id-1 div.sk-label label {\n",
       "  /* The background is the default theme color */\n",
       "  color: var(--sklearn-color-text-on-default-background);\n",
       "}\n",
       "\n",
       "/* On hover, darken the color of the background */\n",
       "#sk-container-id-1 div.sk-label:hover label.sk-toggleable__label {\n",
       "  color: var(--sklearn-color-text);\n",
       "  background-color: var(--sklearn-color-unfitted-level-2);\n",
       "}\n",
       "\n",
       "/* Label box, darken color on hover, fitted */\n",
       "#sk-container-id-1 div.sk-label.fitted:hover label.sk-toggleable__label.fitted {\n",
       "  color: var(--sklearn-color-text);\n",
       "  background-color: var(--sklearn-color-fitted-level-2);\n",
       "}\n",
       "\n",
       "/* Estimator label */\n",
       "\n",
       "#sk-container-id-1 div.sk-label label {\n",
       "  font-family: monospace;\n",
       "  font-weight: bold;\n",
       "  display: inline-block;\n",
       "  line-height: 1.2em;\n",
       "}\n",
       "\n",
       "#sk-container-id-1 div.sk-label-container {\n",
       "  text-align: center;\n",
       "}\n",
       "\n",
       "/* Estimator-specific */\n",
       "#sk-container-id-1 div.sk-estimator {\n",
       "  font-family: monospace;\n",
       "  border: 1px dotted var(--sklearn-color-border-box);\n",
       "  border-radius: 0.25em;\n",
       "  box-sizing: border-box;\n",
       "  margin-bottom: 0.5em;\n",
       "  /* unfitted */\n",
       "  background-color: var(--sklearn-color-unfitted-level-0);\n",
       "}\n",
       "\n",
       "#sk-container-id-1 div.sk-estimator.fitted {\n",
       "  /* fitted */\n",
       "  background-color: var(--sklearn-color-fitted-level-0);\n",
       "}\n",
       "\n",
       "/* on hover */\n",
       "#sk-container-id-1 div.sk-estimator:hover {\n",
       "  /* unfitted */\n",
       "  background-color: var(--sklearn-color-unfitted-level-2);\n",
       "}\n",
       "\n",
       "#sk-container-id-1 div.sk-estimator.fitted:hover {\n",
       "  /* fitted */\n",
       "  background-color: var(--sklearn-color-fitted-level-2);\n",
       "}\n",
       "\n",
       "/* Specification for estimator info (e.g. \"i\" and \"?\") */\n",
       "\n",
       "/* Common style for \"i\" and \"?\" */\n",
       "\n",
       ".sk-estimator-doc-link,\n",
       "a:link.sk-estimator-doc-link,\n",
       "a:visited.sk-estimator-doc-link {\n",
       "  float: right;\n",
       "  font-size: smaller;\n",
       "  line-height: 1em;\n",
       "  font-family: monospace;\n",
       "  background-color: var(--sklearn-color-background);\n",
       "  border-radius: 1em;\n",
       "  height: 1em;\n",
       "  width: 1em;\n",
       "  text-decoration: none !important;\n",
       "  margin-left: 1ex;\n",
       "  /* unfitted */\n",
       "  border: var(--sklearn-color-unfitted-level-1) 1pt solid;\n",
       "  color: var(--sklearn-color-unfitted-level-1);\n",
       "}\n",
       "\n",
       ".sk-estimator-doc-link.fitted,\n",
       "a:link.sk-estimator-doc-link.fitted,\n",
       "a:visited.sk-estimator-doc-link.fitted {\n",
       "  /* fitted */\n",
       "  border: var(--sklearn-color-fitted-level-1) 1pt solid;\n",
       "  color: var(--sklearn-color-fitted-level-1);\n",
       "}\n",
       "\n",
       "/* On hover */\n",
       "div.sk-estimator:hover .sk-estimator-doc-link:hover,\n",
       ".sk-estimator-doc-link:hover,\n",
       "div.sk-label-container:hover .sk-estimator-doc-link:hover,\n",
       ".sk-estimator-doc-link:hover {\n",
       "  /* unfitted */\n",
       "  background-color: var(--sklearn-color-unfitted-level-3);\n",
       "  color: var(--sklearn-color-background);\n",
       "  text-decoration: none;\n",
       "}\n",
       "\n",
       "div.sk-estimator.fitted:hover .sk-estimator-doc-link.fitted:hover,\n",
       ".sk-estimator-doc-link.fitted:hover,\n",
       "div.sk-label-container:hover .sk-estimator-doc-link.fitted:hover,\n",
       ".sk-estimator-doc-link.fitted:hover {\n",
       "  /* fitted */\n",
       "  background-color: var(--sklearn-color-fitted-level-3);\n",
       "  color: var(--sklearn-color-background);\n",
       "  text-decoration: none;\n",
       "}\n",
       "\n",
       "/* Span, style for the box shown on hovering the info icon */\n",
       ".sk-estimator-doc-link span {\n",
       "  display: none;\n",
       "  z-index: 9999;\n",
       "  position: relative;\n",
       "  font-weight: normal;\n",
       "  right: .2ex;\n",
       "  padding: .5ex;\n",
       "  margin: .5ex;\n",
       "  width: min-content;\n",
       "  min-width: 20ex;\n",
       "  max-width: 50ex;\n",
       "  color: var(--sklearn-color-text);\n",
       "  box-shadow: 2pt 2pt 4pt #999;\n",
       "  /* unfitted */\n",
       "  background: var(--sklearn-color-unfitted-level-0);\n",
       "  border: .5pt solid var(--sklearn-color-unfitted-level-3);\n",
       "}\n",
       "\n",
       ".sk-estimator-doc-link.fitted span {\n",
       "  /* fitted */\n",
       "  background: var(--sklearn-color-fitted-level-0);\n",
       "  border: var(--sklearn-color-fitted-level-3);\n",
       "}\n",
       "\n",
       ".sk-estimator-doc-link:hover span {\n",
       "  display: block;\n",
       "}\n",
       "\n",
       "/* \"?\"-specific style due to the `<a>` HTML tag */\n",
       "\n",
       "#sk-container-id-1 a.estimator_doc_link {\n",
       "  float: right;\n",
       "  font-size: 1rem;\n",
       "  line-height: 1em;\n",
       "  font-family: monospace;\n",
       "  background-color: var(--sklearn-color-background);\n",
       "  border-radius: 1rem;\n",
       "  height: 1rem;\n",
       "  width: 1rem;\n",
       "  text-decoration: none;\n",
       "  /* unfitted */\n",
       "  color: var(--sklearn-color-unfitted-level-1);\n",
       "  border: var(--sklearn-color-unfitted-level-1) 1pt solid;\n",
       "}\n",
       "\n",
       "#sk-container-id-1 a.estimator_doc_link.fitted {\n",
       "  /* fitted */\n",
       "  border: var(--sklearn-color-fitted-level-1) 1pt solid;\n",
       "  color: var(--sklearn-color-fitted-level-1);\n",
       "}\n",
       "\n",
       "/* On hover */\n",
       "#sk-container-id-1 a.estimator_doc_link:hover {\n",
       "  /* unfitted */\n",
       "  background-color: var(--sklearn-color-unfitted-level-3);\n",
       "  color: var(--sklearn-color-background);\n",
       "  text-decoration: none;\n",
       "}\n",
       "\n",
       "#sk-container-id-1 a.estimator_doc_link.fitted:hover {\n",
       "  /* fitted */\n",
       "  background-color: var(--sklearn-color-fitted-level-3);\n",
       "}\n",
       "</style><div id=\"sk-container-id-1\" class=\"sk-top-container\"><div class=\"sk-text-repr-fallback\"><pre>LinearRegression()</pre><b>In a Jupyter environment, please rerun this cell to show the HTML representation or trust the notebook. <br />On GitHub, the HTML representation is unable to render, please try loading this page with nbviewer.org.</b></div><div class=\"sk-container\" hidden><div class=\"sk-item\"><div class=\"sk-estimator fitted sk-toggleable\"><input class=\"sk-toggleable__control sk-hidden--visually\" id=\"sk-estimator-id-1\" type=\"checkbox\" checked><label for=\"sk-estimator-id-1\" class=\"sk-toggleable__label fitted sk-toggleable__label-arrow fitted\">&nbsp;&nbsp;LinearRegression<a class=\"sk-estimator-doc-link fitted\" rel=\"noreferrer\" target=\"_blank\" href=\"https://scikit-learn.org/1.5/modules/generated/sklearn.linear_model.LinearRegression.html\">?<span>Documentation for LinearRegression</span></a><span class=\"sk-estimator-doc-link fitted\">i<span>Fitted</span></span></label><div class=\"sk-toggleable__content fitted\"><pre>LinearRegression()</pre></div> </div></div></div></div>"
      ],
      "text/plain": [
       "LinearRegression()"
      ]
     },
     "execution_count": 11,
     "metadata": {},
     "output_type": "execute_result"
    }
   ],
   "source": [
    "# Model meta-ensemble\n",
    "meta_model = LinearRegression()\n",
    "\n",
    "meta_model.fit(X_stack_train, y_train)"
   ]
  },
  {
   "cell_type": "code",
   "execution_count": 12,
   "id": "a0b21057",
   "metadata": {},
   "outputs": [],
   "source": [
    "# prediksi menggunakan meta model\n",
    "ensemble_preds_hist_train = meta_model.predict(X_stack_train)\n",
    "ensemble_preds_hist_val = meta_model.predict(X_stack_val)"
   ]
  },
  {
   "cell_type": "code",
   "execution_count": 13,
   "id": "91caf222",
   "metadata": {},
   "outputs": [],
   "source": [
    "last_date = loaded_data['tgl_transaksi'].iloc[-1]\n",
    "if isinstance(last_date, pd.Timestamp):\n",
    "    last_date = last_date.date()\n",
    "\n",
    "future_dates = [last_date + datetime.timedelta(days=i+1) for i in range(PREDICTION_DAYS)]\n",
    "\n",
    "last_sequence = data_scaled[-SEQUENCE_LENGTH:]"
   ]
  },
  {
   "cell_type": "code",
   "execution_count": 14,
   "id": "c410c1b9",
   "metadata": {},
   "outputs": [],
   "source": [
    "future_predictions = fn.predict_ensemble(trained_dl_models, scaler, last_sequence, meta_model)"
   ]
  },
  {
   "cell_type": "code",
   "execution_count": 15,
   "id": "c10049a2",
   "metadata": {},
   "outputs": [],
   "source": [
    "# Menampilkan hasil prediksi masa depan dalam bentuk DataFrame\n",
    "df_future_predictions = pd.DataFrame({\n",
    "    'Tanggal': future_dates,\n",
    "    'Prediksi Modal': future_predictions.flatten()\n",
    "})\n",
    "\n",
    "df_future_predictions.set_index('Tanggal', inplace=True)\n"
   ]
  },
  {
   "cell_type": "code",
   "execution_count": 16,
   "id": "c233d584",
   "metadata": {},
   "outputs": [
    {
     "data": {
      "text/html": [
       "<div>\n",
       "<style scoped>\n",
       "    .dataframe tbody tr th:only-of-type {\n",
       "        vertical-align: middle;\n",
       "    }\n",
       "\n",
       "    .dataframe tbody tr th {\n",
       "        vertical-align: top;\n",
       "    }\n",
       "\n",
       "    .dataframe thead th {\n",
       "        text-align: right;\n",
       "    }\n",
       "</style>\n",
       "<table border=\"1\" class=\"dataframe\">\n",
       "  <thead>\n",
       "    <tr style=\"text-align: right;\">\n",
       "      <th></th>\n",
       "      <th>Prediksi Modal</th>\n",
       "    </tr>\n",
       "    <tr>\n",
       "      <th>Tanggal</th>\n",
       "      <th></th>\n",
       "    </tr>\n",
       "  </thead>\n",
       "  <tbody>\n",
       "    <tr>\n",
       "      <th>2008-12-31</th>\n",
       "      <td>1.787776e+08</td>\n",
       "    </tr>\n",
       "    <tr>\n",
       "      <th>2009-01-01</th>\n",
       "      <td>1.775262e+08</td>\n",
       "    </tr>\n",
       "    <tr>\n",
       "      <th>2009-01-02</th>\n",
       "      <td>1.770631e+08</td>\n",
       "    </tr>\n",
       "    <tr>\n",
       "      <th>2009-01-03</th>\n",
       "      <td>1.767604e+08</td>\n",
       "    </tr>\n",
       "    <tr>\n",
       "      <th>2009-01-04</th>\n",
       "      <td>1.764752e+08</td>\n",
       "    </tr>\n",
       "    <tr>\n",
       "      <th>2009-01-05</th>\n",
       "      <td>1.760586e+08</td>\n",
       "    </tr>\n",
       "    <tr>\n",
       "      <th>2009-01-06</th>\n",
       "      <td>1.757861e+08</td>\n",
       "    </tr>\n",
       "  </tbody>\n",
       "</table>\n",
       "</div>"
      ],
      "text/plain": [
       "            Prediksi Modal\n",
       "Tanggal                   \n",
       "2008-12-31    1.787776e+08\n",
       "2009-01-01    1.775262e+08\n",
       "2009-01-02    1.770631e+08\n",
       "2009-01-03    1.767604e+08\n",
       "2009-01-04    1.764752e+08\n",
       "2009-01-05    1.760586e+08\n",
       "2009-01-06    1.757861e+08"
      ]
     },
     "execution_count": 16,
     "metadata": {},
     "output_type": "execute_result"
    }
   ],
   "source": [
    "df_future_predictions"
   ]
  },
  {
   "cell_type": "code",
   "execution_count": 17,
   "id": "b8be4df1",
   "metadata": {},
   "outputs": [
    {
     "data": {
      "application/vnd.plotly.v1+json": {
       "config": {
        "plotlyServerURL": "https://plot.ly"
       },
       "data": [
        {
         "line": {
          "color": "blue",
          "width": 2
         },
         "mode": "lines",
         "name": "Aktual",
         "type": "scatter",
         "x": [
          "2008-01-01T00:00:00.000000000",
          "2008-01-02T00:00:00.000000000",
          "2008-01-03T00:00:00.000000000",
          "2008-01-04T00:00:00.000000000",
          "2008-01-05T00:00:00.000000000",
          "2008-01-06T00:00:00.000000000",
          "2008-01-07T00:00:00.000000000",
          "2008-01-08T00:00:00.000000000",
          "2008-01-09T00:00:00.000000000",
          "2008-01-10T00:00:00.000000000",
          "2008-01-11T00:00:00.000000000",
          "2008-01-12T00:00:00.000000000",
          "2008-01-13T00:00:00.000000000",
          "2008-01-14T00:00:00.000000000",
          "2008-01-15T00:00:00.000000000",
          "2008-01-16T00:00:00.000000000",
          "2008-01-17T00:00:00.000000000",
          "2008-01-18T00:00:00.000000000",
          "2008-01-19T00:00:00.000000000",
          "2008-01-20T00:00:00.000000000",
          "2008-01-21T00:00:00.000000000",
          "2008-01-22T00:00:00.000000000",
          "2008-01-23T00:00:00.000000000",
          "2008-01-24T00:00:00.000000000",
          "2008-01-25T00:00:00.000000000",
          "2008-01-26T00:00:00.000000000",
          "2008-01-27T00:00:00.000000000",
          "2008-01-28T00:00:00.000000000",
          "2008-01-29T00:00:00.000000000",
          "2008-01-30T00:00:00.000000000",
          "2008-01-31T00:00:00.000000000",
          "2008-02-01T00:00:00.000000000",
          "2008-02-02T00:00:00.000000000",
          "2008-02-03T00:00:00.000000000",
          "2008-02-04T00:00:00.000000000",
          "2008-02-05T00:00:00.000000000",
          "2008-02-06T00:00:00.000000000",
          "2008-02-07T00:00:00.000000000",
          "2008-02-08T00:00:00.000000000",
          "2008-02-09T00:00:00.000000000",
          "2008-02-10T00:00:00.000000000",
          "2008-02-11T00:00:00.000000000",
          "2008-02-12T00:00:00.000000000",
          "2008-02-13T00:00:00.000000000",
          "2008-02-14T00:00:00.000000000",
          "2008-02-15T00:00:00.000000000",
          "2008-02-16T00:00:00.000000000",
          "2008-02-17T00:00:00.000000000",
          "2008-02-18T00:00:00.000000000",
          "2008-02-19T00:00:00.000000000",
          "2008-02-20T00:00:00.000000000",
          "2008-02-21T00:00:00.000000000",
          "2008-02-22T00:00:00.000000000",
          "2008-02-23T00:00:00.000000000",
          "2008-02-24T00:00:00.000000000",
          "2008-02-25T00:00:00.000000000",
          "2008-02-26T00:00:00.000000000",
          "2008-02-27T00:00:00.000000000",
          "2008-02-28T00:00:00.000000000",
          "2008-02-29T00:00:00.000000000",
          "2008-03-01T00:00:00.000000000",
          "2008-03-02T00:00:00.000000000",
          "2008-03-03T00:00:00.000000000",
          "2008-03-04T00:00:00.000000000",
          "2008-03-05T00:00:00.000000000",
          "2008-03-06T00:00:00.000000000",
          "2008-03-07T00:00:00.000000000",
          "2008-03-08T00:00:00.000000000",
          "2008-03-09T00:00:00.000000000",
          "2008-03-10T00:00:00.000000000",
          "2008-03-11T00:00:00.000000000",
          "2008-03-12T00:00:00.000000000",
          "2008-03-13T00:00:00.000000000",
          "2008-03-14T00:00:00.000000000",
          "2008-03-15T00:00:00.000000000",
          "2008-03-16T00:00:00.000000000",
          "2008-03-17T00:00:00.000000000",
          "2008-03-18T00:00:00.000000000",
          "2008-03-19T00:00:00.000000000",
          "2008-03-20T00:00:00.000000000",
          "2008-03-21T00:00:00.000000000",
          "2008-03-22T00:00:00.000000000",
          "2008-03-23T00:00:00.000000000",
          "2008-03-24T00:00:00.000000000",
          "2008-03-25T00:00:00.000000000",
          "2008-03-26T00:00:00.000000000",
          "2008-03-27T00:00:00.000000000",
          "2008-03-28T00:00:00.000000000",
          "2008-03-29T00:00:00.000000000",
          "2008-03-30T00:00:00.000000000",
          "2008-03-31T00:00:00.000000000",
          "2008-04-01T00:00:00.000000000",
          "2008-04-02T00:00:00.000000000",
          "2008-04-03T00:00:00.000000000",
          "2008-04-04T00:00:00.000000000",
          "2008-04-05T00:00:00.000000000",
          "2008-04-06T00:00:00.000000000",
          "2008-04-07T00:00:00.000000000",
          "2008-04-08T00:00:00.000000000",
          "2008-04-09T00:00:00.000000000",
          "2008-04-10T00:00:00.000000000",
          "2008-04-11T00:00:00.000000000",
          "2008-04-12T00:00:00.000000000",
          "2008-04-13T00:00:00.000000000",
          "2008-04-14T00:00:00.000000000",
          "2008-04-15T00:00:00.000000000",
          "2008-04-16T00:00:00.000000000",
          "2008-04-17T00:00:00.000000000",
          "2008-04-18T00:00:00.000000000",
          "2008-04-19T00:00:00.000000000",
          "2008-04-20T00:00:00.000000000",
          "2008-04-21T00:00:00.000000000",
          "2008-04-22T00:00:00.000000000",
          "2008-04-23T00:00:00.000000000",
          "2008-04-24T00:00:00.000000000",
          "2008-04-25T00:00:00.000000000",
          "2008-04-26T00:00:00.000000000",
          "2008-04-27T00:00:00.000000000",
          "2008-04-28T00:00:00.000000000",
          "2008-04-29T00:00:00.000000000",
          "2008-04-30T00:00:00.000000000",
          "2008-05-01T00:00:00.000000000",
          "2008-05-02T00:00:00.000000000",
          "2008-05-03T00:00:00.000000000",
          "2008-05-04T00:00:00.000000000",
          "2008-05-05T00:00:00.000000000",
          "2008-05-06T00:00:00.000000000",
          "2008-05-07T00:00:00.000000000",
          "2008-05-08T00:00:00.000000000",
          "2008-05-09T00:00:00.000000000",
          "2008-05-10T00:00:00.000000000",
          "2008-05-11T00:00:00.000000000",
          "2008-05-12T00:00:00.000000000",
          "2008-05-13T00:00:00.000000000",
          "2008-05-14T00:00:00.000000000",
          "2008-05-15T00:00:00.000000000",
          "2008-05-16T00:00:00.000000000",
          "2008-05-17T00:00:00.000000000",
          "2008-05-18T00:00:00.000000000",
          "2008-05-19T00:00:00.000000000",
          "2008-05-20T00:00:00.000000000",
          "2008-05-21T00:00:00.000000000",
          "2008-05-22T00:00:00.000000000",
          "2008-05-23T00:00:00.000000000",
          "2008-05-24T00:00:00.000000000",
          "2008-05-25T00:00:00.000000000",
          "2008-05-26T00:00:00.000000000",
          "2008-05-27T00:00:00.000000000",
          "2008-05-28T00:00:00.000000000",
          "2008-05-29T00:00:00.000000000",
          "2008-05-30T00:00:00.000000000",
          "2008-05-31T00:00:00.000000000",
          "2008-06-01T00:00:00.000000000",
          "2008-06-02T00:00:00.000000000",
          "2008-06-03T00:00:00.000000000",
          "2008-06-04T00:00:00.000000000",
          "2008-06-05T00:00:00.000000000",
          "2008-06-06T00:00:00.000000000",
          "2008-06-07T00:00:00.000000000",
          "2008-06-08T00:00:00.000000000",
          "2008-06-09T00:00:00.000000000",
          "2008-06-10T00:00:00.000000000",
          "2008-06-11T00:00:00.000000000",
          "2008-06-12T00:00:00.000000000",
          "2008-06-13T00:00:00.000000000",
          "2008-06-14T00:00:00.000000000",
          "2008-06-15T00:00:00.000000000",
          "2008-06-16T00:00:00.000000000",
          "2008-06-17T00:00:00.000000000",
          "2008-06-18T00:00:00.000000000",
          "2008-06-19T00:00:00.000000000",
          "2008-06-20T00:00:00.000000000",
          "2008-06-21T00:00:00.000000000",
          "2008-06-22T00:00:00.000000000",
          "2008-06-23T00:00:00.000000000",
          "2008-06-24T00:00:00.000000000",
          "2008-06-25T00:00:00.000000000",
          "2008-06-26T00:00:00.000000000",
          "2008-06-27T00:00:00.000000000",
          "2008-06-28T00:00:00.000000000",
          "2008-06-29T00:00:00.000000000",
          "2008-06-30T00:00:00.000000000",
          "2008-07-01T00:00:00.000000000",
          "2008-07-02T00:00:00.000000000",
          "2008-07-03T00:00:00.000000000",
          "2008-07-04T00:00:00.000000000",
          "2008-07-05T00:00:00.000000000",
          "2008-07-06T00:00:00.000000000",
          "2008-07-07T00:00:00.000000000",
          "2008-07-08T00:00:00.000000000",
          "2008-07-09T00:00:00.000000000",
          "2008-07-10T00:00:00.000000000",
          "2008-07-11T00:00:00.000000000",
          "2008-07-12T00:00:00.000000000",
          "2008-07-13T00:00:00.000000000",
          "2008-07-14T00:00:00.000000000",
          "2008-07-15T00:00:00.000000000",
          "2008-07-16T00:00:00.000000000",
          "2008-07-17T00:00:00.000000000",
          "2008-07-18T00:00:00.000000000",
          "2008-07-19T00:00:00.000000000",
          "2008-07-20T00:00:00.000000000",
          "2008-07-21T00:00:00.000000000",
          "2008-07-22T00:00:00.000000000",
          "2008-07-23T00:00:00.000000000",
          "2008-07-24T00:00:00.000000000",
          "2008-07-25T00:00:00.000000000",
          "2008-07-26T00:00:00.000000000",
          "2008-07-27T00:00:00.000000000",
          "2008-07-28T00:00:00.000000000",
          "2008-07-29T00:00:00.000000000",
          "2008-07-30T00:00:00.000000000",
          "2008-07-31T00:00:00.000000000",
          "2008-08-01T00:00:00.000000000",
          "2008-08-02T00:00:00.000000000",
          "2008-08-03T00:00:00.000000000",
          "2008-08-04T00:00:00.000000000",
          "2008-08-05T00:00:00.000000000",
          "2008-08-06T00:00:00.000000000",
          "2008-08-07T00:00:00.000000000",
          "2008-08-08T00:00:00.000000000",
          "2008-08-09T00:00:00.000000000",
          "2008-08-10T00:00:00.000000000",
          "2008-08-11T00:00:00.000000000",
          "2008-08-12T00:00:00.000000000",
          "2008-08-13T00:00:00.000000000",
          "2008-08-14T00:00:00.000000000",
          "2008-08-15T00:00:00.000000000",
          "2008-08-16T00:00:00.000000000",
          "2008-08-17T00:00:00.000000000",
          "2008-08-18T00:00:00.000000000",
          "2008-08-19T00:00:00.000000000",
          "2008-08-20T00:00:00.000000000",
          "2008-08-21T00:00:00.000000000",
          "2008-08-22T00:00:00.000000000",
          "2008-08-23T00:00:00.000000000",
          "2008-08-24T00:00:00.000000000",
          "2008-08-25T00:00:00.000000000",
          "2008-08-26T00:00:00.000000000",
          "2008-08-27T00:00:00.000000000",
          "2008-08-28T00:00:00.000000000",
          "2008-08-29T00:00:00.000000000",
          "2008-08-30T00:00:00.000000000",
          "2008-08-31T00:00:00.000000000",
          "2008-09-01T00:00:00.000000000",
          "2008-09-02T00:00:00.000000000",
          "2008-09-03T00:00:00.000000000",
          "2008-09-04T00:00:00.000000000",
          "2008-09-05T00:00:00.000000000",
          "2008-09-06T00:00:00.000000000",
          "2008-09-07T00:00:00.000000000",
          "2008-09-08T00:00:00.000000000",
          "2008-09-09T00:00:00.000000000",
          "2008-09-10T00:00:00.000000000",
          "2008-09-11T00:00:00.000000000",
          "2008-09-12T00:00:00.000000000",
          "2008-09-13T00:00:00.000000000",
          "2008-09-14T00:00:00.000000000",
          "2008-09-15T00:00:00.000000000",
          "2008-09-16T00:00:00.000000000",
          "2008-09-17T00:00:00.000000000",
          "2008-09-18T00:00:00.000000000",
          "2008-09-19T00:00:00.000000000",
          "2008-09-20T00:00:00.000000000",
          "2008-09-21T00:00:00.000000000",
          "2008-09-22T00:00:00.000000000",
          "2008-09-23T00:00:00.000000000",
          "2008-09-24T00:00:00.000000000",
          "2008-09-25T00:00:00.000000000",
          "2008-09-26T00:00:00.000000000",
          "2008-09-27T00:00:00.000000000",
          "2008-09-28T00:00:00.000000000",
          "2008-09-29T00:00:00.000000000",
          "2008-09-30T00:00:00.000000000",
          "2008-10-01T00:00:00.000000000",
          "2008-10-02T00:00:00.000000000",
          "2008-10-03T00:00:00.000000000",
          "2008-10-04T00:00:00.000000000",
          "2008-10-05T00:00:00.000000000",
          "2008-10-06T00:00:00.000000000",
          "2008-10-07T00:00:00.000000000",
          "2008-10-08T00:00:00.000000000",
          "2008-10-09T00:00:00.000000000",
          "2008-10-10T00:00:00.000000000",
          "2008-10-11T00:00:00.000000000",
          "2008-10-12T00:00:00.000000000",
          "2008-10-13T00:00:00.000000000",
          "2008-10-14T00:00:00.000000000",
          "2008-10-15T00:00:00.000000000",
          "2008-10-16T00:00:00.000000000",
          "2008-10-17T00:00:00.000000000",
          "2008-10-18T00:00:00.000000000",
          "2008-10-19T00:00:00.000000000",
          "2008-10-20T00:00:00.000000000",
          "2008-10-21T00:00:00.000000000",
          "2008-10-22T00:00:00.000000000",
          "2008-10-23T00:00:00.000000000",
          "2008-10-24T00:00:00.000000000",
          "2008-10-25T00:00:00.000000000",
          "2008-10-26T00:00:00.000000000",
          "2008-10-27T00:00:00.000000000",
          "2008-10-28T00:00:00.000000000",
          "2008-10-29T00:00:00.000000000",
          "2008-10-30T00:00:00.000000000",
          "2008-10-31T00:00:00.000000000",
          "2008-11-01T00:00:00.000000000",
          "2008-11-02T00:00:00.000000000",
          "2008-11-03T00:00:00.000000000",
          "2008-11-04T00:00:00.000000000",
          "2008-11-05T00:00:00.000000000",
          "2008-11-06T00:00:00.000000000",
          "2008-11-07T00:00:00.000000000",
          "2008-11-08T00:00:00.000000000",
          "2008-11-09T00:00:00.000000000",
          "2008-11-10T00:00:00.000000000",
          "2008-11-11T00:00:00.000000000",
          "2008-11-12T00:00:00.000000000",
          "2008-11-13T00:00:00.000000000",
          "2008-11-14T00:00:00.000000000",
          "2008-11-15T00:00:00.000000000",
          "2008-11-16T00:00:00.000000000",
          "2008-11-17T00:00:00.000000000",
          "2008-11-18T00:00:00.000000000",
          "2008-11-19T00:00:00.000000000",
          "2008-11-20T00:00:00.000000000",
          "2008-11-21T00:00:00.000000000",
          "2008-11-22T00:00:00.000000000",
          "2008-11-23T00:00:00.000000000",
          "2008-11-24T00:00:00.000000000",
          "2008-11-25T00:00:00.000000000",
          "2008-11-26T00:00:00.000000000",
          "2008-11-27T00:00:00.000000000",
          "2008-11-28T00:00:00.000000000",
          "2008-11-29T00:00:00.000000000",
          "2008-11-30T00:00:00.000000000",
          "2008-12-01T00:00:00.000000000",
          "2008-12-02T00:00:00.000000000",
          "2008-12-03T00:00:00.000000000",
          "2008-12-04T00:00:00.000000000",
          "2008-12-05T00:00:00.000000000",
          "2008-12-06T00:00:00.000000000",
          "2008-12-07T00:00:00.000000000",
          "2008-12-08T00:00:00.000000000",
          "2008-12-09T00:00:00.000000000",
          "2008-12-10T00:00:00.000000000",
          "2008-12-11T00:00:00.000000000",
          "2008-12-12T00:00:00.000000000",
          "2008-12-13T00:00:00.000000000",
          "2008-12-14T00:00:00.000000000",
          "2008-12-15T00:00:00.000000000",
          "2008-12-16T00:00:00.000000000",
          "2008-12-17T00:00:00.000000000",
          "2008-12-18T00:00:00.000000000",
          "2008-12-19T00:00:00.000000000",
          "2008-12-20T00:00:00.000000000",
          "2008-12-21T00:00:00.000000000",
          "2008-12-22T00:00:00.000000000",
          "2008-12-23T00:00:00.000000000",
          "2008-12-24T00:00:00.000000000",
          "2008-12-25T00:00:00.000000000",
          "2008-12-26T00:00:00.000000000",
          "2008-12-27T00:00:00.000000000",
          "2008-12-28T00:00:00.000000000",
          "2008-12-29T00:00:00.000000000",
          "2008-12-30T00:00:00.000000000"
         ],
         "y": {
          "bdata": "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",
          "dtype": "f8"
         }
        },
        {
         "line": {
          "color": "green",
          "dash": "solid",
          "width": 2
         },
         "mode": "lines",
         "name": "Prediksi Ensemble (Train)",
         "type": "scatter",
         "x": [
          "2008-01-31T00:00:00.000000000",
          "2008-02-01T00:00:00.000000000",
          "2008-02-02T00:00:00.000000000",
          "2008-02-03T00:00:00.000000000",
          "2008-02-04T00:00:00.000000000",
          "2008-02-05T00:00:00.000000000",
          "2008-02-06T00:00:00.000000000",
          "2008-02-07T00:00:00.000000000",
          "2008-02-08T00:00:00.000000000",
          "2008-02-09T00:00:00.000000000",
          "2008-02-10T00:00:00.000000000",
          "2008-02-11T00:00:00.000000000",
          "2008-02-12T00:00:00.000000000",
          "2008-02-13T00:00:00.000000000",
          "2008-02-14T00:00:00.000000000",
          "2008-02-15T00:00:00.000000000",
          "2008-02-16T00:00:00.000000000",
          "2008-02-17T00:00:00.000000000",
          "2008-02-18T00:00:00.000000000",
          "2008-02-19T00:00:00.000000000",
          "2008-02-20T00:00:00.000000000",
          "2008-02-21T00:00:00.000000000",
          "2008-02-22T00:00:00.000000000",
          "2008-02-23T00:00:00.000000000",
          "2008-02-24T00:00:00.000000000",
          "2008-02-25T00:00:00.000000000",
          "2008-02-26T00:00:00.000000000",
          "2008-02-27T00:00:00.000000000",
          "2008-02-28T00:00:00.000000000",
          "2008-02-29T00:00:00.000000000",
          "2008-03-01T00:00:00.000000000",
          "2008-03-02T00:00:00.000000000",
          "2008-03-03T00:00:00.000000000",
          "2008-03-04T00:00:00.000000000",
          "2008-03-05T00:00:00.000000000",
          "2008-03-06T00:00:00.000000000",
          "2008-03-07T00:00:00.000000000",
          "2008-03-08T00:00:00.000000000",
          "2008-03-09T00:00:00.000000000",
          "2008-03-10T00:00:00.000000000",
          "2008-03-11T00:00:00.000000000",
          "2008-03-12T00:00:00.000000000",
          "2008-03-13T00:00:00.000000000",
          "2008-03-14T00:00:00.000000000",
          "2008-03-15T00:00:00.000000000",
          "2008-03-16T00:00:00.000000000",
          "2008-03-17T00:00:00.000000000",
          "2008-03-18T00:00:00.000000000",
          "2008-03-19T00:00:00.000000000",
          "2008-03-20T00:00:00.000000000",
          "2008-03-21T00:00:00.000000000",
          "2008-03-22T00:00:00.000000000",
          "2008-03-23T00:00:00.000000000",
          "2008-03-24T00:00:00.000000000",
          "2008-03-25T00:00:00.000000000",
          "2008-03-26T00:00:00.000000000",
          "2008-03-27T00:00:00.000000000",
          "2008-03-28T00:00:00.000000000",
          "2008-03-29T00:00:00.000000000",
          "2008-03-30T00:00:00.000000000",
          "2008-03-31T00:00:00.000000000",
          "2008-04-01T00:00:00.000000000",
          "2008-04-02T00:00:00.000000000",
          "2008-04-03T00:00:00.000000000",
          "2008-04-04T00:00:00.000000000",
          "2008-04-05T00:00:00.000000000",
          "2008-04-06T00:00:00.000000000",
          "2008-04-07T00:00:00.000000000",
          "2008-04-08T00:00:00.000000000",
          "2008-04-09T00:00:00.000000000",
          "2008-04-10T00:00:00.000000000",
          "2008-04-11T00:00:00.000000000",
          "2008-04-12T00:00:00.000000000",
          "2008-04-13T00:00:00.000000000",
          "2008-04-14T00:00:00.000000000",
          "2008-04-15T00:00:00.000000000",
          "2008-04-16T00:00:00.000000000",
          "2008-04-17T00:00:00.000000000",
          "2008-04-18T00:00:00.000000000",
          "2008-04-19T00:00:00.000000000",
          "2008-04-20T00:00:00.000000000",
          "2008-04-21T00:00:00.000000000",
          "2008-04-22T00:00:00.000000000",
          "2008-04-23T00:00:00.000000000",
          "2008-04-24T00:00:00.000000000",
          "2008-04-25T00:00:00.000000000",
          "2008-04-26T00:00:00.000000000",
          "2008-04-27T00:00:00.000000000",
          "2008-04-28T00:00:00.000000000",
          "2008-04-29T00:00:00.000000000",
          "2008-04-30T00:00:00.000000000",
          "2008-05-01T00:00:00.000000000",
          "2008-05-02T00:00:00.000000000",
          "2008-05-03T00:00:00.000000000",
          "2008-05-04T00:00:00.000000000",
          "2008-05-05T00:00:00.000000000",
          "2008-05-06T00:00:00.000000000",
          "2008-05-07T00:00:00.000000000",
          "2008-05-08T00:00:00.000000000",
          "2008-05-09T00:00:00.000000000",
          "2008-05-10T00:00:00.000000000",
          "2008-05-11T00:00:00.000000000",
          "2008-05-12T00:00:00.000000000",
          "2008-05-13T00:00:00.000000000",
          "2008-05-14T00:00:00.000000000",
          "2008-05-15T00:00:00.000000000",
          "2008-05-16T00:00:00.000000000",
          "2008-05-17T00:00:00.000000000",
          "2008-05-18T00:00:00.000000000",
          "2008-05-19T00:00:00.000000000",
          "2008-05-20T00:00:00.000000000",
          "2008-05-21T00:00:00.000000000",
          "2008-05-22T00:00:00.000000000",
          "2008-05-23T00:00:00.000000000",
          "2008-05-24T00:00:00.000000000",
          "2008-05-25T00:00:00.000000000",
          "2008-05-26T00:00:00.000000000",
          "2008-05-27T00:00:00.000000000",
          "2008-05-28T00:00:00.000000000",
          "2008-05-29T00:00:00.000000000",
          "2008-05-30T00:00:00.000000000",
          "2008-05-31T00:00:00.000000000",
          "2008-06-01T00:00:00.000000000",
          "2008-06-02T00:00:00.000000000",
          "2008-06-03T00:00:00.000000000",
          "2008-06-04T00:00:00.000000000",
          "2008-06-05T00:00:00.000000000",
          "2008-06-06T00:00:00.000000000",
          "2008-06-07T00:00:00.000000000",
          "2008-06-08T00:00:00.000000000",
          "2008-06-09T00:00:00.000000000",
          "2008-06-10T00:00:00.000000000",
          "2008-06-11T00:00:00.000000000",
          "2008-06-12T00:00:00.000000000",
          "2008-06-13T00:00:00.000000000",
          "2008-06-14T00:00:00.000000000",
          "2008-06-15T00:00:00.000000000",
          "2008-06-16T00:00:00.000000000",
          "2008-06-17T00:00:00.000000000",
          "2008-06-18T00:00:00.000000000",
          "2008-06-19T00:00:00.000000000",
          "2008-06-20T00:00:00.000000000",
          "2008-06-21T00:00:00.000000000",
          "2008-06-22T00:00:00.000000000",
          "2008-06-23T00:00:00.000000000",
          "2008-06-24T00:00:00.000000000",
          "2008-06-25T00:00:00.000000000",
          "2008-06-26T00:00:00.000000000",
          "2008-06-27T00:00:00.000000000",
          "2008-06-28T00:00:00.000000000",
          "2008-06-29T00:00:00.000000000",
          "2008-06-30T00:00:00.000000000",
          "2008-07-01T00:00:00.000000000",
          "2008-07-02T00:00:00.000000000",
          "2008-07-03T00:00:00.000000000",
          "2008-07-04T00:00:00.000000000",
          "2008-07-05T00:00:00.000000000",
          "2008-07-06T00:00:00.000000000",
          "2008-07-07T00:00:00.000000000",
          "2008-07-08T00:00:00.000000000",
          "2008-07-09T00:00:00.000000000",
          "2008-07-10T00:00:00.000000000",
          "2008-07-11T00:00:00.000000000",
          "2008-07-12T00:00:00.000000000",
          "2008-07-13T00:00:00.000000000",
          "2008-07-14T00:00:00.000000000",
          "2008-07-15T00:00:00.000000000",
          "2008-07-16T00:00:00.000000000",
          "2008-07-17T00:00:00.000000000",
          "2008-07-18T00:00:00.000000000",
          "2008-07-19T00:00:00.000000000",
          "2008-07-20T00:00:00.000000000",
          "2008-07-21T00:00:00.000000000",
          "2008-07-22T00:00:00.000000000",
          "2008-07-23T00:00:00.000000000",
          "2008-07-24T00:00:00.000000000",
          "2008-07-25T00:00:00.000000000",
          "2008-07-26T00:00:00.000000000",
          "2008-07-27T00:00:00.000000000",
          "2008-07-28T00:00:00.000000000",
          "2008-07-29T00:00:00.000000000",
          "2008-07-30T00:00:00.000000000",
          "2008-07-31T00:00:00.000000000",
          "2008-08-01T00:00:00.000000000",
          "2008-08-02T00:00:00.000000000",
          "2008-08-03T00:00:00.000000000",
          "2008-08-04T00:00:00.000000000",
          "2008-08-05T00:00:00.000000000",
          "2008-08-06T00:00:00.000000000",
          "2008-08-07T00:00:00.000000000",
          "2008-08-08T00:00:00.000000000",
          "2008-08-09T00:00:00.000000000",
          "2008-08-10T00:00:00.000000000",
          "2008-08-11T00:00:00.000000000",
          "2008-08-12T00:00:00.000000000",
          "2008-08-13T00:00:00.000000000",
          "2008-08-14T00:00:00.000000000",
          "2008-08-15T00:00:00.000000000",
          "2008-08-16T00:00:00.000000000",
          "2008-08-17T00:00:00.000000000",
          "2008-08-18T00:00:00.000000000",
          "2008-08-19T00:00:00.000000000",
          "2008-08-20T00:00:00.000000000",
          "2008-08-21T00:00:00.000000000",
          "2008-08-22T00:00:00.000000000",
          "2008-08-23T00:00:00.000000000",
          "2008-08-24T00:00:00.000000000",
          "2008-08-25T00:00:00.000000000",
          "2008-08-26T00:00:00.000000000",
          "2008-08-27T00:00:00.000000000",
          "2008-08-28T00:00:00.000000000",
          "2008-08-29T00:00:00.000000000",
          "2008-08-30T00:00:00.000000000",
          "2008-08-31T00:00:00.000000000",
          "2008-09-01T00:00:00.000000000",
          "2008-09-02T00:00:00.000000000",
          "2008-09-03T00:00:00.000000000",
          "2008-09-04T00:00:00.000000000",
          "2008-09-05T00:00:00.000000000",
          "2008-09-06T00:00:00.000000000",
          "2008-09-07T00:00:00.000000000",
          "2008-09-08T00:00:00.000000000",
          "2008-09-09T00:00:00.000000000",
          "2008-09-10T00:00:00.000000000",
          "2008-09-11T00:00:00.000000000",
          "2008-09-12T00:00:00.000000000",
          "2008-09-13T00:00:00.000000000",
          "2008-09-14T00:00:00.000000000",
          "2008-09-15T00:00:00.000000000",
          "2008-09-16T00:00:00.000000000",
          "2008-09-17T00:00:00.000000000",
          "2008-09-18T00:00:00.000000000",
          "2008-09-19T00:00:00.000000000",
          "2008-09-20T00:00:00.000000000",
          "2008-09-21T00:00:00.000000000",
          "2008-09-22T00:00:00.000000000",
          "2008-09-23T00:00:00.000000000",
          "2008-09-24T00:00:00.000000000",
          "2008-09-25T00:00:00.000000000",
          "2008-09-26T00:00:00.000000000",
          "2008-09-27T00:00:00.000000000",
          "2008-09-28T00:00:00.000000000",
          "2008-09-29T00:00:00.000000000",
          "2008-09-30T00:00:00.000000000",
          "2008-10-01T00:00:00.000000000",
          "2008-10-02T00:00:00.000000000",
          "2008-10-03T00:00:00.000000000",
          "2008-10-04T00:00:00.000000000",
          "2008-10-05T00:00:00.000000000",
          "2008-10-06T00:00:00.000000000",
          "2008-10-07T00:00:00.000000000",
          "2008-10-08T00:00:00.000000000",
          "2008-10-09T00:00:00.000000000",
          "2008-10-10T00:00:00.000000000",
          "2008-10-11T00:00:00.000000000",
          "2008-10-12T00:00:00.000000000",
          "2008-10-13T00:00:00.000000000",
          "2008-10-14T00:00:00.000000000",
          "2008-10-15T00:00:00.000000000",
          "2008-10-16T00:00:00.000000000",
          "2008-10-17T00:00:00.000000000",
          "2008-10-18T00:00:00.000000000",
          "2008-10-19T00:00:00.000000000",
          "2008-10-20T00:00:00.000000000",
          "2008-10-21T00:00:00.000000000",
          "2008-10-22T00:00:00.000000000",
          "2008-10-23T00:00:00.000000000",
          "2008-10-24T00:00:00.000000000"
         ],
         "y": {
          "bdata": "+ggeTWysHk1/QB5N0AYfTWZLH023+iFNjckiTbwhIk11vCBNDeQgTSg6IE12XCFNOy4gTUkfH03E3x1NWGEeTSUwH00AUyBNEOYfTStIH02rlB5N2G8eTX23H03tNiBNjmUhTWedIE3brh9N1RshTSfuH00Bjh5NAGgeTSlrHk30Ox9N7DcfTd5VH035KSFNjNwgTbVyIE1k4CBN308hTWQHIk1W5yJNJvYgTT4WIU0kiyBN5wcgTRSjIE2XjyFNPqciTWIXIU0QhyJNjuQhTf+QIk2jaCFNOJggTSPlH033mx9N/N8fTfDVIk0UrCNNaG8hTVr/IE0ApCBN4gkgTcLwH01Wyh9NzqUfTQDxH036zR9N13ofTV0iIE3z6R9Ntm0fTQ6aIU2GkyJNG9kjTVB8I03lvyJN+78iTQ7VIU21kSFNLX4iTawSIk0tqiJNi2EiTTPhIk1fJiJNtKkgTWKlIE3HliBNvL8gTYySIE16SCBNdOQhTarhIk2yMiJNMMgiTaBpIk0wDyNNehgiTWD6Ik2cciJNGWIjTb+eI01l2CJNoiohTchOIU20FiFNQjUgTURsH01lpiBNBkwiTbsSIk2hPSJNi8kiTUyIIk0QGCJNfFsiTdeEIE2shx9NKWofTbg/IE1JlCBNpMcgTdKrIU0DxyNNYOIjTQdfJU2euCRNN08iTV56I03chiVNWhMjTVg2IU1M0SBN+fgfTRrwIE3soSFNy1QhTcWsIU2bLiFNZXghTSj2IU0uKCJNkX0iTckzJE0PpiNN/5oiTUL7IU02CCNNOVUiTaYHI026CCNNYZwjTUW/Ik3ERyJNk8ogTbhJIE1wfR9NmiohTXOEIU1uXh9N9V8fTfr/H03+LiBNmjEiTXQfIk2cJCRNiEcjTW+JIk2E9iJN/T4jTbKQI01EHSZN7HsoTezqJ03iTCdN3eMjTWUCJE03oiRNV2YkTWqCI029pSNNiqAiTYtEJU2hjyRNZmwjTYpLI0061CNN7BUiTRsIIU1KnCFNDqUgTXoIIk0JviVNX0klTdBGJk0NLCdNJiMoTft+J0180CdNeLkoTVnwKU3nnyhNHG4nTYu1J03Q4idNdoonTXGlJk3xkSVN27YnTUxfJU3w0iZNfX8nTd+PJk1sRCdNvgYmTRV7Jk0R7CVNRgsnTfYAJU33aCVNjpwiTVaJIk1h9SJN1V0kTdOxJU2HtSVNyHMnTVcgKE2D5ShNlccoTV20KE2u9yhN0SEoTYzaKE2cCSlNE6EoTQ64KE17eShNGrkoTbVIKU2xVilNZ70nTXhGJ00E8yZN5ZYnTeD+JU2QuCVNbtsmTamRJ02/1ihNny4nTawAKU3j6yhNoX0mTaUPJE19bSRNj6YmTYmrJ00bgChNHuopTcNbKU2goidNTzwnTYDMKE3ChydNhjonTQ==",
          "dtype": "f4"
         }
        },
        {
         "line": {
          "color": "red",
          "dash": "dash",
          "width": 2
         },
         "mode": "lines",
         "name": "Prediksi Ensemble (Validasi)",
         "type": "scatter",
         "x": [
          "2008-10-25T00:00:00.000000000",
          "2008-10-26T00:00:00.000000000",
          "2008-10-27T00:00:00.000000000",
          "2008-10-28T00:00:00.000000000",
          "2008-10-29T00:00:00.000000000",
          "2008-10-30T00:00:00.000000000",
          "2008-10-31T00:00:00.000000000",
          "2008-11-01T00:00:00.000000000",
          "2008-11-02T00:00:00.000000000",
          "2008-11-03T00:00:00.000000000",
          "2008-11-04T00:00:00.000000000",
          "2008-11-05T00:00:00.000000000",
          "2008-11-06T00:00:00.000000000",
          "2008-11-07T00:00:00.000000000",
          "2008-11-08T00:00:00.000000000",
          "2008-11-09T00:00:00.000000000",
          "2008-11-10T00:00:00.000000000",
          "2008-11-11T00:00:00.000000000",
          "2008-11-12T00:00:00.000000000",
          "2008-11-13T00:00:00.000000000",
          "2008-11-14T00:00:00.000000000",
          "2008-11-15T00:00:00.000000000",
          "2008-11-16T00:00:00.000000000",
          "2008-11-17T00:00:00.000000000",
          "2008-11-18T00:00:00.000000000",
          "2008-11-19T00:00:00.000000000",
          "2008-11-20T00:00:00.000000000",
          "2008-11-21T00:00:00.000000000",
          "2008-11-22T00:00:00.000000000",
          "2008-11-23T00:00:00.000000000",
          "2008-11-24T00:00:00.000000000",
          "2008-11-25T00:00:00.000000000",
          "2008-11-26T00:00:00.000000000",
          "2008-11-27T00:00:00.000000000",
          "2008-11-28T00:00:00.000000000",
          "2008-11-29T00:00:00.000000000",
          "2008-11-30T00:00:00.000000000",
          "2008-12-01T00:00:00.000000000",
          "2008-12-02T00:00:00.000000000",
          "2008-12-03T00:00:00.000000000",
          "2008-12-04T00:00:00.000000000",
          "2008-12-05T00:00:00.000000000",
          "2008-12-06T00:00:00.000000000",
          "2008-12-07T00:00:00.000000000",
          "2008-12-08T00:00:00.000000000",
          "2008-12-09T00:00:00.000000000",
          "2008-12-10T00:00:00.000000000",
          "2008-12-11T00:00:00.000000000",
          "2008-12-12T00:00:00.000000000",
          "2008-12-13T00:00:00.000000000",
          "2008-12-14T00:00:00.000000000",
          "2008-12-15T00:00:00.000000000",
          "2008-12-16T00:00:00.000000000",
          "2008-12-17T00:00:00.000000000",
          "2008-12-18T00:00:00.000000000",
          "2008-12-19T00:00:00.000000000",
          "2008-12-20T00:00:00.000000000",
          "2008-12-21T00:00:00.000000000",
          "2008-12-22T00:00:00.000000000",
          "2008-12-23T00:00:00.000000000",
          "2008-12-24T00:00:00.000000000",
          "2008-12-25T00:00:00.000000000",
          "2008-12-26T00:00:00.000000000",
          "2008-12-27T00:00:00.000000000",
          "2008-12-28T00:00:00.000000000",
          "2008-12-29T00:00:00.000000000",
          "2008-12-30T00:00:00.000000000"
         ],
         "y": {
          "bdata": "asonTdvHJk0njSVNNm8lTSy7JU0eXidNq2onTTWzJU3GqiVNWvUlTeoVKE02lClN5GkrTYMcLE2TCSlNpicqTXUGKk2FeipN08spTX9DKU3bBClNFo8oTdHIKE1f2ylNXH8rTTxXKU3RNSlNTdcmTQFyJk3HryZN64gmTa0YJk3AhiVNgTEmTWdBJ01gwidNW4AoTSOXKE01pCdNEJYmTagDJk0pXiZNSBglTTCdJE0ETiJNNZEjTRXaJE3QXSZNUL4lTXoAJk1SaihNrFAoTcxUKk3ghylNOvooTVmcJ03ynyZNVPYmTY1UJk2diiZNWTsmTe8hKE2OqydNEZMnTRu+J02FJShN7wopTQ==",
          "dtype": "f4"
         }
        },
        {
         "line": {
          "color": "orange",
          "width": 2
         },
         "mode": "lines",
         "name": "Prediksi Masa Depan",
         "type": "scatter",
         "x": [
          "2008-12-31",
          "2009-01-01",
          "2009-01-02",
          "2009-01-03",
          "2009-01-04",
          "2009-01-05",
          "2009-01-06"
         ],
         "y": {
          "bdata": "LVLjudtPpUFLIbFXqymlQeeMFX+JG6VBSiQ2V0wSpUE+ViXUmAmlQcayHw/i/KRBOj65wpD0pEE=",
          "dtype": "f8"
         }
        }
       ],
       "layout": {
        "height": 600,
        "hovermode": "x unified",
        "legend": {
         "orientation": "h",
         "title": {
          "text": "Keterangan"
         },
         "x": 0.5,
         "xanchor": "center",
         "y": 1,
         "yanchor": "bottom"
        },
        "shapes": [
         {
          "line": {
           "color": "black",
           "dash": "dash"
          },
          "name": "Hari Terakhir Aktual",
          "type": "line",
          "x0": "2008-12-30T00:00:00",
          "x1": "2008-12-30T00:00:00",
          "xref": "x",
          "y0": 0,
          "y1": 1,
          "yref": "y domain"
         }
        ],
        "template": {
         "data": {
          "bar": [
           {
            "error_x": {
             "color": "#2a3f5f"
            },
            "error_y": {
             "color": "#2a3f5f"
            },
            "marker": {
             "line": {
              "color": "#E5ECF6",
              "width": 0.5
             },
             "pattern": {
              "fillmode": "overlay",
              "size": 10,
              "solidity": 0.2
             }
            },
            "type": "bar"
           }
          ],
          "barpolar": [
           {
            "marker": {
             "line": {
              "color": "#E5ECF6",
              "width": 0.5
             },
             "pattern": {
              "fillmode": "overlay",
              "size": 10,
              "solidity": 0.2
             }
            },
            "type": "barpolar"
           }
          ],
          "carpet": [
           {
            "aaxis": {
             "endlinecolor": "#2a3f5f",
             "gridcolor": "white",
             "linecolor": "white",
             "minorgridcolor": "white",
             "startlinecolor": "#2a3f5f"
            },
            "baxis": {
             "endlinecolor": "#2a3f5f",
             "gridcolor": "white",
             "linecolor": "white",
             "minorgridcolor": "white",
             "startlinecolor": "#2a3f5f"
            },
            "type": "carpet"
           }
          ],
          "choropleth": [
           {
            "colorbar": {
             "outlinewidth": 0,
             "ticks": ""
            },
            "type": "choropleth"
           }
          ],
          "contour": [
           {
            "colorbar": {
             "outlinewidth": 0,
             "ticks": ""
            },
            "colorscale": [
             [
              0,
              "#0d0887"
             ],
             [
              0.1111111111111111,
              "#46039f"
             ],
             [
              0.2222222222222222,
              "#7201a8"
             ],
             [
              0.3333333333333333,
              "#9c179e"
             ],
             [
              0.4444444444444444,
              "#bd3786"
             ],
             [
              0.5555555555555556,
              "#d8576b"
             ],
             [
              0.6666666666666666,
              "#ed7953"
             ],
             [
              0.7777777777777778,
              "#fb9f3a"
             ],
             [
              0.8888888888888888,
              "#fdca26"
             ],
             [
              1,
              "#f0f921"
             ]
            ],
            "type": "contour"
           }
          ],
          "contourcarpet": [
           {
            "colorbar": {
             "outlinewidth": 0,
             "ticks": ""
            },
            "type": "contourcarpet"
           }
          ],
          "heatmap": [
           {
            "colorbar": {
             "outlinewidth": 0,
             "ticks": ""
            },
            "colorscale": [
             [
              0,
              "#0d0887"
             ],
             [
              0.1111111111111111,
              "#46039f"
             ],
             [
              0.2222222222222222,
              "#7201a8"
             ],
             [
              0.3333333333333333,
              "#9c179e"
             ],
             [
              0.4444444444444444,
              "#bd3786"
             ],
             [
              0.5555555555555556,
              "#d8576b"
             ],
             [
              0.6666666666666666,
              "#ed7953"
             ],
             [
              0.7777777777777778,
              "#fb9f3a"
             ],
             [
              0.8888888888888888,
              "#fdca26"
             ],
             [
              1,
              "#f0f921"
             ]
            ],
            "type": "heatmap"
           }
          ],
          "histogram": [
           {
            "marker": {
             "pattern": {
              "fillmode": "overlay",
              "size": 10,
              "solidity": 0.2
             }
            },
            "type": "histogram"
           }
          ],
          "histogram2d": [
           {
            "colorbar": {
             "outlinewidth": 0,
             "ticks": ""
            },
            "colorscale": [
             [
              0,
              "#0d0887"
             ],
             [
              0.1111111111111111,
              "#46039f"
             ],
             [
              0.2222222222222222,
              "#7201a8"
             ],
             [
              0.3333333333333333,
              "#9c179e"
             ],
             [
              0.4444444444444444,
              "#bd3786"
             ],
             [
              0.5555555555555556,
              "#d8576b"
             ],
             [
              0.6666666666666666,
              "#ed7953"
             ],
             [
              0.7777777777777778,
              "#fb9f3a"
             ],
             [
              0.8888888888888888,
              "#fdca26"
             ],
             [
              1,
              "#f0f921"
             ]
            ],
            "type": "histogram2d"
           }
          ],
          "histogram2dcontour": [
           {
            "colorbar": {
             "outlinewidth": 0,
             "ticks": ""
            },
            "colorscale": [
             [
              0,
              "#0d0887"
             ],
             [
              0.1111111111111111,
              "#46039f"
             ],
             [
              0.2222222222222222,
              "#7201a8"
             ],
             [
              0.3333333333333333,
              "#9c179e"
             ],
             [
              0.4444444444444444,
              "#bd3786"
             ],
             [
              0.5555555555555556,
              "#d8576b"
             ],
             [
              0.6666666666666666,
              "#ed7953"
             ],
             [
              0.7777777777777778,
              "#fb9f3a"
             ],
             [
              0.8888888888888888,
              "#fdca26"
             ],
             [
              1,
              "#f0f921"
             ]
            ],
            "type": "histogram2dcontour"
           }
          ],
          "mesh3d": [
           {
            "colorbar": {
             "outlinewidth": 0,
             "ticks": ""
            },
            "type": "mesh3d"
           }
          ],
          "parcoords": [
           {
            "line": {
             "colorbar": {
              "outlinewidth": 0,
              "ticks": ""
             }
            },
            "type": "parcoords"
           }
          ],
          "pie": [
           {
            "automargin": true,
            "type": "pie"
           }
          ],
          "scatter": [
           {
            "fillpattern": {
             "fillmode": "overlay",
             "size": 10,
             "solidity": 0.2
            },
            "type": "scatter"
           }
          ],
          "scatter3d": [
           {
            "line": {
             "colorbar": {
              "outlinewidth": 0,
              "ticks": ""
             }
            },
            "marker": {
             "colorbar": {
              "outlinewidth": 0,
              "ticks": ""
             }
            },
            "type": "scatter3d"
           }
          ],
          "scattercarpet": [
           {
            "marker": {
             "colorbar": {
              "outlinewidth": 0,
              "ticks": ""
             }
            },
            "type": "scattercarpet"
           }
          ],
          "scattergeo": [
           {
            "marker": {
             "colorbar": {
              "outlinewidth": 0,
              "ticks": ""
             }
            },
            "type": "scattergeo"
           }
          ],
          "scattergl": [
           {
            "marker": {
             "colorbar": {
              "outlinewidth": 0,
              "ticks": ""
             }
            },
            "type": "scattergl"
           }
          ],
          "scattermap": [
           {
            "marker": {
             "colorbar": {
              "outlinewidth": 0,
              "ticks": ""
             }
            },
            "type": "scattermap"
           }
          ],
          "scattermapbox": [
           {
            "marker": {
             "colorbar": {
              "outlinewidth": 0,
              "ticks": ""
             }
            },
            "type": "scattermapbox"
           }
          ],
          "scatterpolar": [
           {
            "marker": {
             "colorbar": {
              "outlinewidth": 0,
              "ticks": ""
             }
            },
            "type": "scatterpolar"
           }
          ],
          "scatterpolargl": [
           {
            "marker": {
             "colorbar": {
              "outlinewidth": 0,
              "ticks": ""
             }
            },
            "type": "scatterpolargl"
           }
          ],
          "scatterternary": [
           {
            "marker": {
             "colorbar": {
              "outlinewidth": 0,
              "ticks": ""
             }
            },
            "type": "scatterternary"
           }
          ],
          "surface": [
           {
            "colorbar": {
             "outlinewidth": 0,
             "ticks": ""
            },
            "colorscale": [
             [
              0,
              "#0d0887"
             ],
             [
              0.1111111111111111,
              "#46039f"
             ],
             [
              0.2222222222222222,
              "#7201a8"
             ],
             [
              0.3333333333333333,
              "#9c179e"
             ],
             [
              0.4444444444444444,
              "#bd3786"
             ],
             [
              0.5555555555555556,
              "#d8576b"
             ],
             [
              0.6666666666666666,
              "#ed7953"
             ],
             [
              0.7777777777777778,
              "#fb9f3a"
             ],
             [
              0.8888888888888888,
              "#fdca26"
             ],
             [
              1,
              "#f0f921"
             ]
            ],
            "type": "surface"
           }
          ],
          "table": [
           {
            "cells": {
             "fill": {
              "color": "#EBF0F8"
             },
             "line": {
              "color": "white"
             }
            },
            "header": {
             "fill": {
              "color": "#C8D4E3"
             },
             "line": {
              "color": "white"
             }
            },
            "type": "table"
           }
          ]
         },
         "layout": {
          "annotationdefaults": {
           "arrowcolor": "#2a3f5f",
           "arrowhead": 0,
           "arrowwidth": 1
          },
          "autotypenumbers": "strict",
          "coloraxis": {
           "colorbar": {
            "outlinewidth": 0,
            "ticks": ""
           }
          },
          "colorscale": {
           "diverging": [
            [
             0,
             "#8e0152"
            ],
            [
             0.1,
             "#c51b7d"
            ],
            [
             0.2,
             "#de77ae"
            ],
            [
             0.3,
             "#f1b6da"
            ],
            [
             0.4,
             "#fde0ef"
            ],
            [
             0.5,
             "#f7f7f7"
            ],
            [
             0.6,
             "#e6f5d0"
            ],
            [
             0.7,
             "#b8e186"
            ],
            [
             0.8,
             "#7fbc41"
            ],
            [
             0.9,
             "#4d9221"
            ],
            [
             1,
             "#276419"
            ]
           ],
           "sequential": [
            [
             0,
             "#0d0887"
            ],
            [
             0.1111111111111111,
             "#46039f"
            ],
            [
             0.2222222222222222,
             "#7201a8"
            ],
            [
             0.3333333333333333,
             "#9c179e"
            ],
            [
             0.4444444444444444,
             "#bd3786"
            ],
            [
             0.5555555555555556,
             "#d8576b"
            ],
            [
             0.6666666666666666,
             "#ed7953"
            ],
            [
             0.7777777777777778,
             "#fb9f3a"
            ],
            [
             0.8888888888888888,
             "#fdca26"
            ],
            [
             1,
             "#f0f921"
            ]
           ],
           "sequentialminus": [
            [
             0,
             "#0d0887"
            ],
            [
             0.1111111111111111,
             "#46039f"
            ],
            [
             0.2222222222222222,
             "#7201a8"
            ],
            [
             0.3333333333333333,
             "#9c179e"
            ],
            [
             0.4444444444444444,
             "#bd3786"
            ],
            [
             0.5555555555555556,
             "#d8576b"
            ],
            [
             0.6666666666666666,
             "#ed7953"
            ],
            [
             0.7777777777777778,
             "#fb9f3a"
            ],
            [
             0.8888888888888888,
             "#fdca26"
            ],
            [
             1,
             "#f0f921"
            ]
           ]
          },
          "colorway": [
           "#636efa",
           "#EF553B",
           "#00cc96",
           "#ab63fa",
           "#FFA15A",
           "#19d3f3",
           "#FF6692",
           "#B6E880",
           "#FF97FF",
           "#FECB52"
          ],
          "font": {
           "color": "#2a3f5f"
          },
          "geo": {
           "bgcolor": "white",
           "lakecolor": "white",
           "landcolor": "#E5ECF6",
           "showlakes": true,
           "showland": true,
           "subunitcolor": "white"
          },
          "hoverlabel": {
           "align": "left"
          },
          "hovermode": "closest",
          "mapbox": {
           "style": "light"
          },
          "paper_bgcolor": "white",
          "plot_bgcolor": "#E5ECF6",
          "polar": {
           "angularaxis": {
            "gridcolor": "white",
            "linecolor": "white",
            "ticks": ""
           },
           "bgcolor": "#E5ECF6",
           "radialaxis": {
            "gridcolor": "white",
            "linecolor": "white",
            "ticks": ""
           }
          },
          "scene": {
           "xaxis": {
            "backgroundcolor": "#E5ECF6",
            "gridcolor": "white",
            "gridwidth": 2,
            "linecolor": "white",
            "showbackground": true,
            "ticks": "",
            "zerolinecolor": "white"
           },
           "yaxis": {
            "backgroundcolor": "#E5ECF6",
            "gridcolor": "white",
            "gridwidth": 2,
            "linecolor": "white",
            "showbackground": true,
            "ticks": "",
            "zerolinecolor": "white"
           },
           "zaxis": {
            "backgroundcolor": "#E5ECF6",
            "gridcolor": "white",
            "gridwidth": 2,
            "linecolor": "white",
            "showbackground": true,
            "ticks": "",
            "zerolinecolor": "white"
           }
          },
          "shapedefaults": {
           "line": {
            "color": "#2a3f5f"
           }
          },
          "ternary": {
           "aaxis": {
            "gridcolor": "white",
            "linecolor": "white",
            "ticks": ""
           },
           "baxis": {
            "gridcolor": "white",
            "linecolor": "white",
            "ticks": ""
           },
           "bgcolor": "#E5ECF6",
           "caxis": {
            "gridcolor": "white",
            "linecolor": "white",
            "ticks": ""
           }
          },
          "title": {
           "x": 0.05
          },
          "xaxis": {
           "automargin": true,
           "gridcolor": "white",
           "linecolor": "white",
           "ticks": "",
           "title": {
            "standoff": 15
           },
           "zerolinecolor": "white",
           "zerolinewidth": 2
          },
          "yaxis": {
           "automargin": true,
           "gridcolor": "white",
           "linecolor": "white",
           "ticks": "",
           "title": {
            "standoff": 15
           },
           "zerolinecolor": "white",
           "zerolinewidth": 2
          }
         }
        },
        "title": {
         "text": "Visualisasi Aktual dan Prediksi"
        },
        "xaxis": {
         "gridcolor": "LightGray",
         "gridwidth": 1,
         "showgrid": true,
         "title": {
          "text": "Tanggal"
         }
        },
        "yaxis": {
         "gridcolor": "LightGray",
         "gridwidth": 1,
         "showgrid": true,
         "title": {
          "text": "Total Modal"
         }
        }
       }
      }
     },
     "metadata": {},
     "output_type": "display_data"
    }
   ],
   "source": [
    "fn.plot_ensemble_predictions(\n",
    "    loaded_data,\n",
    "    train_dates,\n",
    "    val_dates,\n",
    "    scaler,\n",
    "    ensemble_preds_hist_train,\n",
    "    ensemble_preds_hist_val,\n",
    "    df_future_predictions\n",
    ")"
   ]
  },
  {
   "cell_type": "code",
   "execution_count": 18,
   "id": "b1087ae1",
   "metadata": {},
   "outputs": [
    {
     "data": {
      "application/vnd.plotly.v1+json": {
       "config": {
        "plotlyServerURL": "https://plot.ly"
       },
       "data": [
        {
         "line": {
          "color": "orange",
          "width": 2
         },
         "marker": {
          "color": "orange",
          "size": 8
         },
         "mode": "lines+markers",
         "name": "Prediksi Modal Masa Depan",
         "type": "scatter",
         "x": [
          "2008-12-31",
          "2009-01-01",
          "2009-01-02",
          "2009-01-03",
          "2009-01-04",
          "2009-01-05",
          "2009-01-06"
         ],
         "y": {
          "bdata": "LVLjudtPpUFLIbFXqymlQeeMFX+JG6VBSiQ2V0wSpUE+ViXUmAmlQcayHw/i/KRBOj65wpD0pEE=",
          "dtype": "f8"
         }
        }
       ],
       "layout": {
        "height": 500,
        "hovermode": "x unified",
        "legend": {
         "title": {
          "text": "Legend"
         }
        },
        "template": {
         "data": {
          "bar": [
           {
            "error_x": {
             "color": "#2a3f5f"
            },
            "error_y": {
             "color": "#2a3f5f"
            },
            "marker": {
             "line": {
              "color": "#E5ECF6",
              "width": 0.5
             },
             "pattern": {
              "fillmode": "overlay",
              "size": 10,
              "solidity": 0.2
             }
            },
            "type": "bar"
           }
          ],
          "barpolar": [
           {
            "marker": {
             "line": {
              "color": "#E5ECF6",
              "width": 0.5
             },
             "pattern": {
              "fillmode": "overlay",
              "size": 10,
              "solidity": 0.2
             }
            },
            "type": "barpolar"
           }
          ],
          "carpet": [
           {
            "aaxis": {
             "endlinecolor": "#2a3f5f",
             "gridcolor": "white",
             "linecolor": "white",
             "minorgridcolor": "white",
             "startlinecolor": "#2a3f5f"
            },
            "baxis": {
             "endlinecolor": "#2a3f5f",
             "gridcolor": "white",
             "linecolor": "white",
             "minorgridcolor": "white",
             "startlinecolor": "#2a3f5f"
            },
            "type": "carpet"
           }
          ],
          "choropleth": [
           {
            "colorbar": {
             "outlinewidth": 0,
             "ticks": ""
            },
            "type": "choropleth"
           }
          ],
          "contour": [
           {
            "colorbar": {
             "outlinewidth": 0,
             "ticks": ""
            },
            "colorscale": [
             [
              0,
              "#0d0887"
             ],
             [
              0.1111111111111111,
              "#46039f"
             ],
             [
              0.2222222222222222,
              "#7201a8"
             ],
             [
              0.3333333333333333,
              "#9c179e"
             ],
             [
              0.4444444444444444,
              "#bd3786"
             ],
             [
              0.5555555555555556,
              "#d8576b"
             ],
             [
              0.6666666666666666,
              "#ed7953"
             ],
             [
              0.7777777777777778,
              "#fb9f3a"
             ],
             [
              0.8888888888888888,
              "#fdca26"
             ],
             [
              1,
              "#f0f921"
             ]
            ],
            "type": "contour"
           }
          ],
          "contourcarpet": [
           {
            "colorbar": {
             "outlinewidth": 0,
             "ticks": ""
            },
            "type": "contourcarpet"
           }
          ],
          "heatmap": [
           {
            "colorbar": {
             "outlinewidth": 0,
             "ticks": ""
            },
            "colorscale": [
             [
              0,
              "#0d0887"
             ],
             [
              0.1111111111111111,
              "#46039f"
             ],
             [
              0.2222222222222222,
              "#7201a8"
             ],
             [
              0.3333333333333333,
              "#9c179e"
             ],
             [
              0.4444444444444444,
              "#bd3786"
             ],
             [
              0.5555555555555556,
              "#d8576b"
             ],
             [
              0.6666666666666666,
              "#ed7953"
             ],
             [
              0.7777777777777778,
              "#fb9f3a"
             ],
             [
              0.8888888888888888,
              "#fdca26"
             ],
             [
              1,
              "#f0f921"
             ]
            ],
            "type": "heatmap"
           }
          ],
          "histogram": [
           {
            "marker": {
             "pattern": {
              "fillmode": "overlay",
              "size": 10,
              "solidity": 0.2
             }
            },
            "type": "histogram"
           }
          ],
          "histogram2d": [
           {
            "colorbar": {
             "outlinewidth": 0,
             "ticks": ""
            },
            "colorscale": [
             [
              0,
              "#0d0887"
             ],
             [
              0.1111111111111111,
              "#46039f"
             ],
             [
              0.2222222222222222,
              "#7201a8"
             ],
             [
              0.3333333333333333,
              "#9c179e"
             ],
             [
              0.4444444444444444,
              "#bd3786"
             ],
             [
              0.5555555555555556,
              "#d8576b"
             ],
             [
              0.6666666666666666,
              "#ed7953"
             ],
             [
              0.7777777777777778,
              "#fb9f3a"
             ],
             [
              0.8888888888888888,
              "#fdca26"
             ],
             [
              1,
              "#f0f921"
             ]
            ],
            "type": "histogram2d"
           }
          ],
          "histogram2dcontour": [
           {
            "colorbar": {
             "outlinewidth": 0,
             "ticks": ""
            },
            "colorscale": [
             [
              0,
              "#0d0887"
             ],
             [
              0.1111111111111111,
              "#46039f"
             ],
             [
              0.2222222222222222,
              "#7201a8"
             ],
             [
              0.3333333333333333,
              "#9c179e"
             ],
             [
              0.4444444444444444,
              "#bd3786"
             ],
             [
              0.5555555555555556,
              "#d8576b"
             ],
             [
              0.6666666666666666,
              "#ed7953"
             ],
             [
              0.7777777777777778,
              "#fb9f3a"
             ],
             [
              0.8888888888888888,
              "#fdca26"
             ],
             [
              1,
              "#f0f921"
             ]
            ],
            "type": "histogram2dcontour"
           }
          ],
          "mesh3d": [
           {
            "colorbar": {
             "outlinewidth": 0,
             "ticks": ""
            },
            "type": "mesh3d"
           }
          ],
          "parcoords": [
           {
            "line": {
             "colorbar": {
              "outlinewidth": 0,
              "ticks": ""
             }
            },
            "type": "parcoords"
           }
          ],
          "pie": [
           {
            "automargin": true,
            "type": "pie"
           }
          ],
          "scatter": [
           {
            "fillpattern": {
             "fillmode": "overlay",
             "size": 10,
             "solidity": 0.2
            },
            "type": "scatter"
           }
          ],
          "scatter3d": [
           {
            "line": {
             "colorbar": {
              "outlinewidth": 0,
              "ticks": ""
             }
            },
            "marker": {
             "colorbar": {
              "outlinewidth": 0,
              "ticks": ""
             }
            },
            "type": "scatter3d"
           }
          ],
          "scattercarpet": [
           {
            "marker": {
             "colorbar": {
              "outlinewidth": 0,
              "ticks": ""
             }
            },
            "type": "scattercarpet"
           }
          ],
          "scattergeo": [
           {
            "marker": {
             "colorbar": {
              "outlinewidth": 0,
              "ticks": ""
             }
            },
            "type": "scattergeo"
           }
          ],
          "scattergl": [
           {
            "marker": {
             "colorbar": {
              "outlinewidth": 0,
              "ticks": ""
             }
            },
            "type": "scattergl"
           }
          ],
          "scattermap": [
           {
            "marker": {
             "colorbar": {
              "outlinewidth": 0,
              "ticks": ""
             }
            },
            "type": "scattermap"
           }
          ],
          "scattermapbox": [
           {
            "marker": {
             "colorbar": {
              "outlinewidth": 0,
              "ticks": ""
             }
            },
            "type": "scattermapbox"
           }
          ],
          "scatterpolar": [
           {
            "marker": {
             "colorbar": {
              "outlinewidth": 0,
              "ticks": ""
             }
            },
            "type": "scatterpolar"
           }
          ],
          "scatterpolargl": [
           {
            "marker": {
             "colorbar": {
              "outlinewidth": 0,
              "ticks": ""
             }
            },
            "type": "scatterpolargl"
           }
          ],
          "scatterternary": [
           {
            "marker": {
             "colorbar": {
              "outlinewidth": 0,
              "ticks": ""
             }
            },
            "type": "scatterternary"
           }
          ],
          "surface": [
           {
            "colorbar": {
             "outlinewidth": 0,
             "ticks": ""
            },
            "colorscale": [
             [
              0,
              "#0d0887"
             ],
             [
              0.1111111111111111,
              "#46039f"
             ],
             [
              0.2222222222222222,
              "#7201a8"
             ],
             [
              0.3333333333333333,
              "#9c179e"
             ],
             [
              0.4444444444444444,
              "#bd3786"
             ],
             [
              0.5555555555555556,
              "#d8576b"
             ],
             [
              0.6666666666666666,
              "#ed7953"
             ],
             [
              0.7777777777777778,
              "#fb9f3a"
             ],
             [
              0.8888888888888888,
              "#fdca26"
             ],
             [
              1,
              "#f0f921"
             ]
            ],
            "type": "surface"
           }
          ],
          "table": [
           {
            "cells": {
             "fill": {
              "color": "#EBF0F8"
             },
             "line": {
              "color": "white"
             }
            },
            "header": {
             "fill": {
              "color": "#C8D4E3"
             },
             "line": {
              "color": "white"
             }
            },
            "type": "table"
           }
          ]
         },
         "layout": {
          "annotationdefaults": {
           "arrowcolor": "#2a3f5f",
           "arrowhead": 0,
           "arrowwidth": 1
          },
          "autotypenumbers": "strict",
          "coloraxis": {
           "colorbar": {
            "outlinewidth": 0,
            "ticks": ""
           }
          },
          "colorscale": {
           "diverging": [
            [
             0,
             "#8e0152"
            ],
            [
             0.1,
             "#c51b7d"
            ],
            [
             0.2,
             "#de77ae"
            ],
            [
             0.3,
             "#f1b6da"
            ],
            [
             0.4,
             "#fde0ef"
            ],
            [
             0.5,
             "#f7f7f7"
            ],
            [
             0.6,
             "#e6f5d0"
            ],
            [
             0.7,
             "#b8e186"
            ],
            [
             0.8,
             "#7fbc41"
            ],
            [
             0.9,
             "#4d9221"
            ],
            [
             1,
             "#276419"
            ]
           ],
           "sequential": [
            [
             0,
             "#0d0887"
            ],
            [
             0.1111111111111111,
             "#46039f"
            ],
            [
             0.2222222222222222,
             "#7201a8"
            ],
            [
             0.3333333333333333,
             "#9c179e"
            ],
            [
             0.4444444444444444,
             "#bd3786"
            ],
            [
             0.5555555555555556,
             "#d8576b"
            ],
            [
             0.6666666666666666,
             "#ed7953"
            ],
            [
             0.7777777777777778,
             "#fb9f3a"
            ],
            [
             0.8888888888888888,
             "#fdca26"
            ],
            [
             1,
             "#f0f921"
            ]
           ],
           "sequentialminus": [
            [
             0,
             "#0d0887"
            ],
            [
             0.1111111111111111,
             "#46039f"
            ],
            [
             0.2222222222222222,
             "#7201a8"
            ],
            [
             0.3333333333333333,
             "#9c179e"
            ],
            [
             0.4444444444444444,
             "#bd3786"
            ],
            [
             0.5555555555555556,
             "#d8576b"
            ],
            [
             0.6666666666666666,
             "#ed7953"
            ],
            [
             0.7777777777777778,
             "#fb9f3a"
            ],
            [
             0.8888888888888888,
             "#fdca26"
            ],
            [
             1,
             "#f0f921"
            ]
           ]
          },
          "colorway": [
           "#636efa",
           "#EF553B",
           "#00cc96",
           "#ab63fa",
           "#FFA15A",
           "#19d3f3",
           "#FF6692",
           "#B6E880",
           "#FF97FF",
           "#FECB52"
          ],
          "font": {
           "color": "#2a3f5f"
          },
          "geo": {
           "bgcolor": "white",
           "lakecolor": "white",
           "landcolor": "#E5ECF6",
           "showlakes": true,
           "showland": true,
           "subunitcolor": "white"
          },
          "hoverlabel": {
           "align": "left"
          },
          "hovermode": "closest",
          "mapbox": {
           "style": "light"
          },
          "paper_bgcolor": "white",
          "plot_bgcolor": "#E5ECF6",
          "polar": {
           "angularaxis": {
            "gridcolor": "white",
            "linecolor": "white",
            "ticks": ""
           },
           "bgcolor": "#E5ECF6",
           "radialaxis": {
            "gridcolor": "white",
            "linecolor": "white",
            "ticks": ""
           }
          },
          "scene": {
           "xaxis": {
            "backgroundcolor": "#E5ECF6",
            "gridcolor": "white",
            "gridwidth": 2,
            "linecolor": "white",
            "showbackground": true,
            "ticks": "",
            "zerolinecolor": "white"
           },
           "yaxis": {
            "backgroundcolor": "#E5ECF6",
            "gridcolor": "white",
            "gridwidth": 2,
            "linecolor": "white",
            "showbackground": true,
            "ticks": "",
            "zerolinecolor": "white"
           },
           "zaxis": {
            "backgroundcolor": "#E5ECF6",
            "gridcolor": "white",
            "gridwidth": 2,
            "linecolor": "white",
            "showbackground": true,
            "ticks": "",
            "zerolinecolor": "white"
           }
          },
          "shapedefaults": {
           "line": {
            "color": "#2a3f5f"
           }
          },
          "ternary": {
           "aaxis": {
            "gridcolor": "white",
            "linecolor": "white",
            "ticks": ""
           },
           "baxis": {
            "gridcolor": "white",
            "linecolor": "white",
            "ticks": ""
           },
           "bgcolor": "#E5ECF6",
           "caxis": {
            "gridcolor": "white",
            "linecolor": "white",
            "ticks": ""
           }
          },
          "title": {
           "x": 0.05
          },
          "xaxis": {
           "automargin": true,
           "gridcolor": "white",
           "linecolor": "white",
           "ticks": "",
           "title": {
            "standoff": 15
           },
           "zerolinecolor": "white",
           "zerolinewidth": 2
          },
          "yaxis": {
           "automargin": true,
           "gridcolor": "white",
           "linecolor": "white",
           "ticks": "",
           "title": {
            "standoff": 15
           },
           "zerolinecolor": "white",
           "zerolinewidth": 2
          }
         }
        },
        "title": {
         "text": "Prediksi Modal 7 Hari ke Depan"
        },
        "xaxis": {
         "gridcolor": "LightGray",
         "gridwidth": 1,
         "showgrid": true,
         "title": {
          "text": "Tanggal"
         }
        },
        "yaxis": {
         "gridcolor": "LightGray",
         "gridwidth": 1,
         "showgrid": true,
         "title": {
          "text": "Modal+Biaya"
         }
        }
       }
      }
     },
     "metadata": {},
     "output_type": "display_data"
    }
   ],
   "source": [
    "fn.plot_future_predictions(future_dates, future_predictions)"
   ]
  },
  {
   "cell_type": "code",
   "execution_count": 19,
   "id": "3b1b6cc2",
   "metadata": {},
   "outputs": [
    {
     "name": "stdout",
     "output_type": "stream",
     "text": [
      "Evaluasi hasil prediksi pada Data Validasi:\n",
      "MAE  : 0.0638\n",
      "MAPE : 9.7631%\n",
      "MSE  : 0.0069\n",
      "RMSE : 0.0833\n"
     ]
    }
   ],
   "source": [
    "mape, mae, mse, rmse = fn.evaluate_model(y_val, ensemble_preds_hist_val)"
   ]
  },
  {
   "cell_type": "code",
   "execution_count": 22,
   "id": "1737f222",
   "metadata": {},
   "outputs": [
    {
     "name": "stderr",
     "output_type": "stream",
     "text": [
      "WARNING:absl:You are saving your model as an HDF5 file via `model.save()` or `keras.saving.save_model(model)`. This file format is considered legacy. We recommend using instead the native Keras format, e.g. `model.save('my_model.keras')` or `keras.saving.save_model(model, 'my_model.keras')`. \n",
      "WARNING:absl:You are saving your model as an HDF5 file via `model.save()` or `keras.saving.save_model(model)`. This file format is considered legacy. We recommend using instead the native Keras format, e.g. `model.save('my_model.keras')` or `keras.saving.save_model(model, 'my_model.keras')`. \n",
      "WARNING:absl:You are saving your model as an HDF5 file via `model.save()` or `keras.saving.save_model(model)`. This file format is considered legacy. We recommend using instead the native Keras format, e.g. `model.save('my_model.keras')` or `keras.saving.save_model(model, 'my_model.keras')`. \n"
     ]
    },
    {
     "name": "stdout",
     "output_type": "stream",
     "text": [
      "Model 1 disimpan ke: model/peramalan_EMA\\1lstm_model.h5\n",
      "Model 2 disimpan ke: model/peramalan_EMA\\2gru_model.h5\n",
      "Model 3 disimpan ke: model/peramalan_EMA\\3bilstm_model.h5\n"
     ]
    }
   ],
   "source": [
    "save_dir = \"model/peramalan_EMA\"\n",
    "\n",
    "for i, model in enumerate(trained_dl_models):\n",
    "    model_name = model.name\n",
    "    model_path = os.path.join(save_dir, f\"{i+1}{model_name}.h5\")\n",
    "    model.save(model_path)\n",
    "    print(f\"Model {i+1} disimpan ke: {model_path}\")\n"
   ]
  },
  {
   "cell_type": "code",
   "execution_count": 23,
   "id": "c58163ca",
   "metadata": {},
   "outputs": [
    {
     "data": {
      "text/plain": [
       "['model/peramalan_EMA/meta_model.pkl']"
      ]
     },
     "execution_count": 23,
     "metadata": {},
     "output_type": "execute_result"
    }
   ],
   "source": [
    "joblib.dump(meta_model, 'model/peramalan_EMA/meta_model.pkl')"
   ]
  }
 ],
 "metadata": {
  "kernelspec": {
   "display_name": "Phychan-47nDl_JA",
   "language": "python",
   "name": "python3"
  },
  "language_info": {
   "codemirror_mode": {
    "name": "ipython",
    "version": 3
   },
   "file_extension": ".py",
   "mimetype": "text/x-python",
   "name": "python",
   "nbconvert_exporter": "python",
   "pygments_lexer": "ipython3",
   "version": "3.12.7"
  }
 },
 "nbformat": 4,
 "nbformat_minor": 5
}
